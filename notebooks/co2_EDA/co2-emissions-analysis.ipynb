{
 "cells": [
  {
   "cell_type": "markdown",
   "metadata": {
    "papermill": {
     "duration": 0.036427,
     "end_time": "2020-10-07T18:26:48.894692",
     "exception": false,
     "start_time": "2020-10-07T18:26:48.858265",
     "status": "completed"
    },
    "tags": []
   },
   "source": [
    "# CO2 Emissions Analysis from 1751 to 2017\n",
    "## by Ahmed Sayed"
   ]
  },
  {
   "cell_type": "code",
   "execution_count": 5,
   "metadata": {
    "execution": {
     "iopub.execute_input": "2020-10-07T18:26:48.969190Z",
     "iopub.status.busy": "2020-10-07T18:26:48.968466Z",
     "iopub.status.idle": "2020-10-07T18:26:50.073557Z",
     "shell.execute_reply": "2020-10-07T18:26:50.072830Z"
    },
    "papermill": {
     "duration": 1.144223,
     "end_time": "2020-10-07T18:26:50.073679",
     "exception": false,
     "start_time": "2020-10-07T18:26:48.929456",
     "status": "completed"
    },
    "tags": []
   },
   "outputs": [],
   "source": [
    "import pandas as pd\n",
    "import numpy as np\n",
    "import matplotlib.pyplot as plt\n",
    "import seaborn as sns"
   ]
  },
  {
   "cell_type": "code",
   "execution_count": 6,
   "metadata": {
    "execution": {
     "iopub.execute_input": "2020-10-07T18:26:50.151921Z",
     "iopub.status.busy": "2020-10-07T18:26:50.151226Z",
     "iopub.status.idle": "2020-10-07T18:26:50.180530Z",
     "shell.execute_reply": "2020-10-07T18:26:50.179865Z"
    },
    "papermill": {
     "duration": 0.071808,
     "end_time": "2020-10-07T18:26:50.180644",
     "exception": false,
     "start_time": "2020-10-07T18:26:50.108836",
     "status": "completed"
    },
    "tags": []
   },
   "outputs": [],
   "source": [
    "co2=pd.read_csv('co2_emission.csv')"
   ]
  },
  {
   "cell_type": "code",
   "execution_count": 7,
   "metadata": {
    "execution": {
     "iopub.execute_input": "2020-10-07T18:26:50.266781Z",
     "iopub.status.busy": "2020-10-07T18:26:50.266056Z",
     "iopub.status.idle": "2020-10-07T18:26:50.270337Z",
     "shell.execute_reply": "2020-10-07T18:26:50.269848Z"
    },
    "papermill": {
     "duration": 0.048397,
     "end_time": "2020-10-07T18:26:50.270462",
     "exception": false,
     "start_time": "2020-10-07T18:26:50.222065",
     "status": "completed"
    },
    "tags": []
   },
   "outputs": [
    {
     "data": {
      "text/plain": [
       "(20853, 4)"
      ]
     },
     "execution_count": 7,
     "metadata": {},
     "output_type": "execute_result"
    }
   ],
   "source": [
    "co2.shape"
   ]
  },
  {
   "cell_type": "code",
   "execution_count": 8,
   "metadata": {
    "execution": {
     "iopub.execute_input": "2020-10-07T18:26:50.358197Z",
     "iopub.status.busy": "2020-10-07T18:26:50.357512Z",
     "iopub.status.idle": "2020-10-07T18:26:50.368874Z",
     "shell.execute_reply": "2020-10-07T18:26:50.368228Z"
    },
    "papermill": {
     "duration": 0.062049,
     "end_time": "2020-10-07T18:26:50.368988",
     "exception": false,
     "start_time": "2020-10-07T18:26:50.306939",
     "status": "completed"
    },
    "tags": []
   },
   "outputs": [
    {
     "data": {
      "text/html": [
       "<div>\n",
       "<style scoped>\n",
       "    .dataframe tbody tr th:only-of-type {\n",
       "        vertical-align: middle;\n",
       "    }\n",
       "\n",
       "    .dataframe tbody tr th {\n",
       "        vertical-align: top;\n",
       "    }\n",
       "\n",
       "    .dataframe thead th {\n",
       "        text-align: right;\n",
       "    }\n",
       "</style>\n",
       "<table border=\"1\" class=\"dataframe\">\n",
       "  <thead>\n",
       "    <tr style=\"text-align: right;\">\n",
       "      <th></th>\n",
       "      <th>Entity</th>\n",
       "      <th>Code</th>\n",
       "      <th>Year</th>\n",
       "      <th>Annual CO₂ emissions (tonnes )</th>\n",
       "    </tr>\n",
       "  </thead>\n",
       "  <tbody>\n",
       "    <tr>\n",
       "      <td>0</td>\n",
       "      <td>Afghanistan</td>\n",
       "      <td>AFG</td>\n",
       "      <td>1949</td>\n",
       "      <td>14656.0</td>\n",
       "    </tr>\n",
       "    <tr>\n",
       "      <td>1</td>\n",
       "      <td>Afghanistan</td>\n",
       "      <td>AFG</td>\n",
       "      <td>1950</td>\n",
       "      <td>84272.0</td>\n",
       "    </tr>\n",
       "    <tr>\n",
       "      <td>2</td>\n",
       "      <td>Afghanistan</td>\n",
       "      <td>AFG</td>\n",
       "      <td>1951</td>\n",
       "      <td>91600.0</td>\n",
       "    </tr>\n",
       "    <tr>\n",
       "      <td>3</td>\n",
       "      <td>Afghanistan</td>\n",
       "      <td>AFG</td>\n",
       "      <td>1952</td>\n",
       "      <td>91600.0</td>\n",
       "    </tr>\n",
       "    <tr>\n",
       "      <td>4</td>\n",
       "      <td>Afghanistan</td>\n",
       "      <td>AFG</td>\n",
       "      <td>1953</td>\n",
       "      <td>106256.0</td>\n",
       "    </tr>\n",
       "  </tbody>\n",
       "</table>\n",
       "</div>"
      ],
      "text/plain": [
       "        Entity Code  Year  Annual CO₂ emissions (tonnes )\n",
       "0  Afghanistan  AFG  1949                         14656.0\n",
       "1  Afghanistan  AFG  1950                         84272.0\n",
       "2  Afghanistan  AFG  1951                         91600.0\n",
       "3  Afghanistan  AFG  1952                         91600.0\n",
       "4  Afghanistan  AFG  1953                        106256.0"
      ]
     },
     "execution_count": 8,
     "metadata": {},
     "output_type": "execute_result"
    }
   ],
   "source": [
    "co2.head()"
   ]
  },
  {
   "cell_type": "code",
   "execution_count": 9,
   "metadata": {
    "execution": {
     "iopub.execute_input": "2020-10-07T18:26:50.450667Z",
     "iopub.status.busy": "2020-10-07T18:26:50.446690Z",
     "iopub.status.idle": "2020-10-07T18:26:50.467178Z",
     "shell.execute_reply": "2020-10-07T18:26:50.466534Z"
    },
    "papermill": {
     "duration": 0.06154,
     "end_time": "2020-10-07T18:26:50.467292",
     "exception": false,
     "start_time": "2020-10-07T18:26:50.405752",
     "status": "completed"
    },
    "tags": []
   },
   "outputs": [
    {
     "name": "stdout",
     "output_type": "stream",
     "text": [
      "<class 'pandas.core.frame.DataFrame'>\n",
      "RangeIndex: 20853 entries, 0 to 20852\n",
      "Data columns (total 4 columns):\n",
      "Entity                            20853 non-null object\n",
      "Code                              18646 non-null object\n",
      "Year                              20853 non-null int64\n",
      "Annual CO₂ emissions (tonnes )    20853 non-null float64\n",
      "dtypes: float64(1), int64(1), object(2)\n",
      "memory usage: 651.8+ KB\n"
     ]
    }
   ],
   "source": [
    "co2.info()"
   ]
  },
  {
   "cell_type": "code",
   "execution_count": 10,
   "metadata": {
    "execution": {
     "iopub.execute_input": "2020-10-07T18:26:50.549381Z",
     "iopub.status.busy": "2020-10-07T18:26:50.545836Z",
     "iopub.status.idle": "2020-10-07T18:26:50.552009Z",
     "shell.execute_reply": "2020-10-07T18:26:50.552480Z"
    },
    "papermill": {
     "duration": 0.048449,
     "end_time": "2020-10-07T18:26:50.552624",
     "exception": false,
     "start_time": "2020-10-07T18:26:50.504175",
     "status": "completed"
    },
    "tags": []
   },
   "outputs": [],
   "source": [
    "co2.drop('Code',axis=1,inplace=True)"
   ]
  },
  {
   "cell_type": "code",
   "execution_count": 11,
   "metadata": {
    "execution": {
     "iopub.execute_input": "2020-10-07T18:26:50.632321Z",
     "iopub.status.busy": "2020-10-07T18:26:50.631671Z",
     "iopub.status.idle": "2020-10-07T18:26:50.640600Z",
     "shell.execute_reply": "2020-10-07T18:26:50.641095Z"
    },
    "papermill": {
     "duration": 0.052319,
     "end_time": "2020-10-07T18:26:50.641233",
     "exception": false,
     "start_time": "2020-10-07T18:26:50.588914",
     "status": "completed"
    },
    "tags": []
   },
   "outputs": [
    {
     "name": "stdout",
     "output_type": "stream",
     "text": [
      "<class 'pandas.core.frame.DataFrame'>\n",
      "RangeIndex: 20853 entries, 0 to 20852\n",
      "Data columns (total 3 columns):\n",
      "Entity                            20853 non-null object\n",
      "Year                              20853 non-null int64\n",
      "Annual CO₂ emissions (tonnes )    20853 non-null float64\n",
      "dtypes: float64(1), int64(1), object(1)\n",
      "memory usage: 488.9+ KB\n"
     ]
    }
   ],
   "source": [
    "co2.info()"
   ]
  },
  {
   "cell_type": "code",
   "execution_count": 12,
   "metadata": {
    "execution": {
     "iopub.execute_input": "2020-10-07T18:26:50.721203Z",
     "iopub.status.busy": "2020-10-07T18:26:50.720437Z",
     "iopub.status.idle": "2020-10-07T18:26:50.723378Z",
     "shell.execute_reply": "2020-10-07T18:26:50.722749Z"
    },
    "papermill": {
     "duration": 0.045058,
     "end_time": "2020-10-07T18:26:50.723487",
     "exception": false,
     "start_time": "2020-10-07T18:26:50.678429",
     "status": "completed"
    },
    "tags": []
   },
   "outputs": [],
   "source": [
    "co2.rename(columns={'Annual CO₂ emissions (tonnes )':'A_Co2_emissions(ton)'},inplace=True)"
   ]
  },
  {
   "cell_type": "code",
   "execution_count": 13,
   "metadata": {
    "execution": {
     "iopub.execute_input": "2020-10-07T18:26:50.803289Z",
     "iopub.status.busy": "2020-10-07T18:26:50.802602Z",
     "iopub.status.idle": "2020-10-07T18:26:50.810712Z",
     "shell.execute_reply": "2020-10-07T18:26:50.811315Z"
    },
    "papermill": {
     "duration": 0.051472,
     "end_time": "2020-10-07T18:26:50.811454",
     "exception": false,
     "start_time": "2020-10-07T18:26:50.759982",
     "status": "completed"
    },
    "tags": []
   },
   "outputs": [
    {
     "name": "stdout",
     "output_type": "stream",
     "text": [
      "<class 'pandas.core.frame.DataFrame'>\n",
      "RangeIndex: 20853 entries, 0 to 20852\n",
      "Data columns (total 3 columns):\n",
      "Entity                  20853 non-null object\n",
      "Year                    20853 non-null int64\n",
      "A_Co2_emissions(ton)    20853 non-null float64\n",
      "dtypes: float64(1), int64(1), object(1)\n",
      "memory usage: 488.9+ KB\n"
     ]
    }
   ],
   "source": [
    "co2.info()"
   ]
  },
  {
   "cell_type": "code",
   "execution_count": 14,
   "metadata": {
    "execution": {
     "iopub.execute_input": "2020-10-07T18:26:50.896593Z",
     "iopub.status.busy": "2020-10-07T18:26:50.895737Z",
     "iopub.status.idle": "2020-10-07T18:26:50.901988Z",
     "shell.execute_reply": "2020-10-07T18:26:50.901201Z"
    },
    "papermill": {
     "duration": 0.052964,
     "end_time": "2020-10-07T18:26:50.902179",
     "exception": false,
     "start_time": "2020-10-07T18:26:50.849215",
     "status": "completed"
    },
    "tags": []
   },
   "outputs": [
    {
     "data": {
      "text/html": [
       "<div>\n",
       "<style scoped>\n",
       "    .dataframe tbody tr th:only-of-type {\n",
       "        vertical-align: middle;\n",
       "    }\n",
       "\n",
       "    .dataframe tbody tr th {\n",
       "        vertical-align: top;\n",
       "    }\n",
       "\n",
       "    .dataframe thead th {\n",
       "        text-align: right;\n",
       "    }\n",
       "</style>\n",
       "<table border=\"1\" class=\"dataframe\">\n",
       "  <thead>\n",
       "    <tr style=\"text-align: right;\">\n",
       "      <th></th>\n",
       "      <th>Entity</th>\n",
       "      <th>Year</th>\n",
       "      <th>A_Co2_emissions(ton)</th>\n",
       "    </tr>\n",
       "  </thead>\n",
       "  <tbody>\n",
       "    <tr>\n",
       "      <td>0</td>\n",
       "      <td>Afghanistan</td>\n",
       "      <td>1949</td>\n",
       "      <td>14656.0</td>\n",
       "    </tr>\n",
       "    <tr>\n",
       "      <td>1</td>\n",
       "      <td>Afghanistan</td>\n",
       "      <td>1950</td>\n",
       "      <td>84272.0</td>\n",
       "    </tr>\n",
       "    <tr>\n",
       "      <td>2</td>\n",
       "      <td>Afghanistan</td>\n",
       "      <td>1951</td>\n",
       "      <td>91600.0</td>\n",
       "    </tr>\n",
       "    <tr>\n",
       "      <td>3</td>\n",
       "      <td>Afghanistan</td>\n",
       "      <td>1952</td>\n",
       "      <td>91600.0</td>\n",
       "    </tr>\n",
       "    <tr>\n",
       "      <td>4</td>\n",
       "      <td>Afghanistan</td>\n",
       "      <td>1953</td>\n",
       "      <td>106256.0</td>\n",
       "    </tr>\n",
       "  </tbody>\n",
       "</table>\n",
       "</div>"
      ],
      "text/plain": [
       "        Entity  Year  A_Co2_emissions(ton)\n",
       "0  Afghanistan  1949               14656.0\n",
       "1  Afghanistan  1950               84272.0\n",
       "2  Afghanistan  1951               91600.0\n",
       "3  Afghanistan  1952               91600.0\n",
       "4  Afghanistan  1953              106256.0"
      ]
     },
     "execution_count": 14,
     "metadata": {},
     "output_type": "execute_result"
    }
   ],
   "source": [
    "co2.head()"
   ]
  },
  {
   "cell_type": "code",
   "execution_count": 15,
   "metadata": {
    "execution": {
     "iopub.execute_input": "2020-10-07T18:26:50.983667Z",
     "iopub.status.busy": "2020-10-07T18:26:50.983073Z",
     "iopub.status.idle": "2020-10-07T18:26:50.988615Z",
     "shell.execute_reply": "2020-10-07T18:26:50.988017Z"
    },
    "papermill": {
     "duration": 0.04851,
     "end_time": "2020-10-07T18:26:50.988720",
     "exception": false,
     "start_time": "2020-10-07T18:26:50.940210",
     "status": "completed"
    },
    "tags": []
   },
   "outputs": [
    {
     "data": {
      "text/plain": [
       "array(['Afghanistan', 'Africa', 'Albania', 'Algeria', 'Americas (other)',\n",
       "       'Andorra', 'Angola', 'Anguilla', 'Antarctic Fisheries',\n",
       "       'Antigua and Barbuda', 'Argentina', 'Armenia', 'Aruba',\n",
       "       'Asia and Pacific (other)', 'Australia', 'Austria', 'Azerbaijan',\n",
       "       'Bahamas', 'Bahrain', 'Bangladesh', 'Barbados', 'Belarus',\n",
       "       'Belgium', 'Belize', 'Benin', 'Bermuda', 'Bhutan', 'Bolivia',\n",
       "       'Bonaire Sint Eustatius and Saba', 'Bosnia and Herzegovina',\n",
       "       'Botswana', 'Brazil', 'British Virgin Islands', 'Brunei',\n",
       "       'Bulgaria', 'Burkina Faso', 'Burundi', 'Cambodia', 'Cameroon',\n",
       "       'Canada', 'Cape Verde', 'Cayman Islands',\n",
       "       'Central African Republic', 'Chad', 'Chile', 'China',\n",
       "       'Christmas Island', 'Colombia', 'Comoros', 'Republic of the Congo',\n",
       "       'Cook Islands', 'Costa Rica', \"Cote d'Ivoire\", 'Croatia', 'Cuba',\n",
       "       'Curacao', 'Cyprus', 'Czech Republic', 'Czechoslovakia',\n",
       "       'Democratic Republic of Republic of the Congo', 'Denmark',\n",
       "       'Djibouti', 'Dominica', 'Dominican Republic', 'EU-28', 'Ecuador',\n",
       "       'Egypt', 'El Salvador', 'Equatorial Guinea', 'Eritrea', 'Estonia',\n",
       "       'Ethiopia', 'Europe (other)', 'Faeroe Islands', 'Falkland Islands',\n",
       "       'Fiji', 'Finland', 'France', 'French Guiana', 'French Polynesia',\n",
       "       'Gabon', 'Gambia', 'Georgia', 'Germany', 'Ghana', 'Gibraltar',\n",
       "       'Greece', 'Greenland', 'Grenada', 'Guadeloupe', 'Guatemala',\n",
       "       'Guinea', 'Guinea-Bissau', 'Guyana', 'Haiti', 'Honduras',\n",
       "       'Hong Kong', 'Hungary', 'Iceland', 'India', 'Indonesia',\n",
       "       'International transport', 'Iran', 'Iraq', 'Ireland', 'Israel',\n",
       "       'Italy', 'Jamaica', 'Japan', 'Jordan', 'Kazakhstan', 'Kenya',\n",
       "       'Kiribati', 'Kuwait', 'Kyrgysztan', 'Kyrgyzstan', 'Laos', 'Latvia',\n",
       "       'Lebanon', 'Lesotho', 'Liberia', 'Libya', 'Liechtenstein',\n",
       "       'Lithuania', 'Luxembourg', 'Macao', 'Macedonia', 'Madagascar',\n",
       "       'Malawi', 'Malaysia', 'Maldives', 'Mali', 'Malta',\n",
       "       'Marshall Islands', 'Martinique', 'Mauritania', 'Mauritius',\n",
       "       'Mexico', 'Micronesia (country)', 'Middle East', 'Moldova',\n",
       "       'Mongolia', 'Montenegro', 'Montserrat', 'Morocco', 'Mozambique',\n",
       "       'Myanmar', 'Namibia', 'Nauru', 'Nepal', 'Netherlands',\n",
       "       'New Caledonia', 'New Zealand', 'Nicaragua', 'Niger', 'Nigeria',\n",
       "       'Niue', 'North Korea', 'Norway', 'Oman', 'Pakistan', 'Palau',\n",
       "       'Palestine', 'Panama', 'Papua New Guinea', 'Paraguay', 'Peru',\n",
       "       'Philippines', 'Poland', 'Portugal', 'Qatar', 'Reunion', 'Romania',\n",
       "       'Russia', 'Rwanda', 'Saint Helena', 'Saint Kitts and Nevis',\n",
       "       'Saint Lucia', 'Saint Pierre and Miquelon',\n",
       "       'Saint Vincent and the Grenadines', 'Samoa',\n",
       "       'Sao Tome and Principe', 'Saudi Arabia', 'Senegal', 'Serbia',\n",
       "       'Seychelles', 'Sierra Leone', 'Singapore',\n",
       "       'Sint Maarten (Dutch part)', 'Slovakia', 'Slovenia',\n",
       "       'Solomon Islands', 'Somalia', 'South Africa', 'South Korea',\n",
       "       'South Sudan', 'Spain', 'Sri Lanka', 'Statistical differences',\n",
       "       'Sudan', 'Suriname', 'Swaziland', 'Sweden', 'Switzerland', 'Syria',\n",
       "       'Taiwan', 'Tajikistan', 'Tanzania', 'Thailand', 'Timor', 'Togo',\n",
       "       'Tonga', 'Trinidad and Tobago', 'Tunisia', 'Turkey',\n",
       "       'Turkmenistan', 'Turks and Caicos Islands', 'Tuvalu', 'Uganda',\n",
       "       'Ukraine', 'United Arab Emirates', 'United Kingdom',\n",
       "       'United States', 'Uruguay', 'Uzbekistan', 'Vanuatu', 'Venezuela',\n",
       "       'Vietnam', 'Wallis and Futuna Islands', 'World', 'Yemen', 'Zambia',\n",
       "       'Zimbabwe'], dtype=object)"
      ]
     },
     "execution_count": 15,
     "metadata": {},
     "output_type": "execute_result"
    }
   ],
   "source": [
    "co2.Entity.unique()"
   ]
  },
  {
   "cell_type": "code",
   "execution_count": 16,
   "metadata": {
    "execution": {
     "iopub.execute_input": "2020-10-07T18:26:51.071969Z",
     "iopub.status.busy": "2020-10-07T18:26:51.071108Z",
     "iopub.status.idle": "2020-10-07T18:26:51.073313Z",
     "shell.execute_reply": "2020-10-07T18:26:51.073955Z"
    },
    "papermill": {
     "duration": 0.046616,
     "end_time": "2020-10-07T18:26:51.074143",
     "exception": false,
     "start_time": "2020-10-07T18:26:51.027527",
     "status": "completed"
    },
    "tags": []
   },
   "outputs": [],
   "source": [
    "co2.rename(columns={'Entity':'Country'},inplace=True)"
   ]
  },
  {
   "cell_type": "code",
   "execution_count": 17,
   "metadata": {
    "execution": {
     "iopub.execute_input": "2020-10-07T18:26:51.157677Z",
     "iopub.status.busy": "2020-10-07T18:26:51.157010Z",
     "iopub.status.idle": "2020-10-07T18:26:51.166958Z",
     "shell.execute_reply": "2020-10-07T18:26:51.165986Z"
    },
    "papermill": {
     "duration": 0.054654,
     "end_time": "2020-10-07T18:26:51.167115",
     "exception": false,
     "start_time": "2020-10-07T18:26:51.112461",
     "status": "completed"
    },
    "tags": []
   },
   "outputs": [
    {
     "name": "stdout",
     "output_type": "stream",
     "text": [
      "<class 'pandas.core.frame.DataFrame'>\n",
      "RangeIndex: 20853 entries, 0 to 20852\n",
      "Data columns (total 3 columns):\n",
      "Country                 20853 non-null object\n",
      "Year                    20853 non-null int64\n",
      "A_Co2_emissions(ton)    20853 non-null float64\n",
      "dtypes: float64(1), int64(1), object(1)\n",
      "memory usage: 488.9+ KB\n"
     ]
    }
   ],
   "source": [
    "co2.info()"
   ]
  },
  {
   "cell_type": "code",
   "execution_count": 18,
   "metadata": {
    "execution": {
     "iopub.execute_input": "2020-10-07T18:26:51.252958Z",
     "iopub.status.busy": "2020-10-07T18:26:51.252030Z",
     "iopub.status.idle": "2020-10-07T18:26:51.256528Z",
     "shell.execute_reply": "2020-10-07T18:26:51.255990Z"
    },
    "papermill": {
     "duration": 0.0502,
     "end_time": "2020-10-07T18:26:51.256647",
     "exception": false,
     "start_time": "2020-10-07T18:26:51.206447",
     "status": "completed"
    },
    "tags": []
   },
   "outputs": [
    {
     "data": {
      "text/plain": [
       "array([1949, 1950, 1951, 1952, 1953, 1954, 1955, 1956, 1957, 1958, 1959,\n",
       "       1960, 1961, 1962, 1963, 1964, 1965, 1966, 1967, 1968, 1969, 1970,\n",
       "       1971, 1972, 1973, 1974, 1975, 1976, 1977, 1978, 1979, 1980, 1981,\n",
       "       1982, 1983, 1984, 1985, 1986, 1987, 1988, 1989, 1990, 1991, 1992,\n",
       "       1993, 1994, 1995, 1996, 1997, 1998, 1999, 2000, 2001, 2002, 2003,\n",
       "       2004, 2005, 2006, 2007, 2008, 2009, 2010, 2011, 2012, 2013, 2014,\n",
       "       2015, 2016, 2017, 1751, 1752, 1753, 1754, 1755, 1756, 1757, 1758,\n",
       "       1759, 1760, 1761, 1762, 1763, 1764, 1765, 1766, 1767, 1768, 1769,\n",
       "       1770, 1771, 1772, 1773, 1774, 1775, 1776, 1777, 1778, 1779, 1780,\n",
       "       1781, 1782, 1783, 1784, 1785, 1786, 1787, 1788, 1789, 1790, 1791,\n",
       "       1792, 1793, 1794, 1795, 1796, 1797, 1798, 1799, 1800, 1801, 1802,\n",
       "       1803, 1804, 1805, 1806, 1807, 1808, 1809, 1810, 1811, 1812, 1813,\n",
       "       1814, 1815, 1816, 1817, 1818, 1819, 1820, 1821, 1822, 1823, 1824,\n",
       "       1825, 1826, 1827, 1828, 1829, 1830, 1831, 1832, 1833, 1834, 1835,\n",
       "       1836, 1837, 1838, 1839, 1840, 1841, 1842, 1843, 1844, 1845, 1846,\n",
       "       1847, 1848, 1849, 1850, 1851, 1852, 1853, 1854, 1855, 1856, 1857,\n",
       "       1858, 1859, 1860, 1861, 1862, 1863, 1864, 1865, 1866, 1867, 1868,\n",
       "       1869, 1870, 1871, 1872, 1873, 1874, 1875, 1876, 1877, 1878, 1879,\n",
       "       1880, 1881, 1882, 1883, 1884, 1885, 1886, 1887, 1888, 1889, 1890,\n",
       "       1891, 1892, 1893, 1894, 1895, 1896, 1897, 1898, 1899, 1900, 1901,\n",
       "       1902, 1903, 1904, 1905, 1906, 1907, 1908, 1909, 1910, 1911, 1912,\n",
       "       1913, 1914, 1915, 1916, 1917, 1918, 1919, 1920, 1921, 1922, 1923,\n",
       "       1924, 1925, 1926, 1927, 1928, 1929, 1930, 1931, 1932, 1933, 1934,\n",
       "       1935, 1936, 1937, 1938, 1939, 1940, 1941, 1942, 1943, 1944, 1945,\n",
       "       1946, 1947, 1948], dtype=int64)"
      ]
     },
     "execution_count": 18,
     "metadata": {},
     "output_type": "execute_result"
    }
   ],
   "source": [
    "co2.Year.unique()"
   ]
  },
  {
   "cell_type": "code",
   "execution_count": 19,
   "metadata": {
    "execution": {
     "iopub.execute_input": "2020-10-07T18:26:51.346889Z",
     "iopub.status.busy": "2020-10-07T18:26:51.345980Z",
     "iopub.status.idle": "2020-10-07T18:26:51.350706Z",
     "shell.execute_reply": "2020-10-07T18:26:51.350140Z"
    },
    "papermill": {
     "duration": 0.054094,
     "end_time": "2020-10-07T18:26:51.350837",
     "exception": false,
     "start_time": "2020-10-07T18:26:51.296743",
     "status": "completed"
    },
    "tags": []
   },
   "outputs": [
    {
     "data": {
      "text/plain": [
       "1751"
      ]
     },
     "execution_count": 19,
     "metadata": {},
     "output_type": "execute_result"
    }
   ],
   "source": [
    "co2.Year.min()"
   ]
  },
  {
   "cell_type": "code",
   "execution_count": 20,
   "metadata": {
    "execution": {
     "iopub.execute_input": "2020-10-07T18:26:51.436298Z",
     "iopub.status.busy": "2020-10-07T18:26:51.435461Z",
     "iopub.status.idle": "2020-10-07T18:26:51.439092Z",
     "shell.execute_reply": "2020-10-07T18:26:51.439532Z"
    },
    "papermill": {
     "duration": 0.048629,
     "end_time": "2020-10-07T18:26:51.439681",
     "exception": false,
     "start_time": "2020-10-07T18:26:51.391052",
     "status": "completed"
    },
    "tags": []
   },
   "outputs": [
    {
     "data": {
      "text/plain": [
       "2017"
      ]
     },
     "execution_count": 20,
     "metadata": {},
     "output_type": "execute_result"
    }
   ],
   "source": [
    "co2.Year.max()"
   ]
  },
  {
   "cell_type": "code",
   "execution_count": 21,
   "metadata": {
    "execution": {
     "iopub.execute_input": "2020-10-07T18:26:51.525903Z",
     "iopub.status.busy": "2020-10-07T18:26:51.525203Z",
     "iopub.status.idle": "2020-10-07T18:26:51.529078Z",
     "shell.execute_reply": "2020-10-07T18:26:51.528538Z"
    },
    "papermill": {
     "duration": 0.048833,
     "end_time": "2020-10-07T18:26:51.529189",
     "exception": false,
     "start_time": "2020-10-07T18:26:51.480356",
     "status": "completed"
    },
    "tags": []
   },
   "outputs": [
    {
     "data": {
      "text/plain": [
       "36153261645.0"
      ]
     },
     "execution_count": 21,
     "metadata": {},
     "output_type": "execute_result"
    }
   ],
   "source": [
    "co2['A_Co2_emissions(ton)'].max()"
   ]
  },
  {
   "cell_type": "code",
   "execution_count": 22,
   "metadata": {
    "execution": {
     "iopub.execute_input": "2020-10-07T18:26:51.616010Z",
     "iopub.status.busy": "2020-10-07T18:26:51.615203Z",
     "iopub.status.idle": "2020-10-07T18:26:51.619438Z",
     "shell.execute_reply": "2020-10-07T18:26:51.618816Z"
    },
    "papermill": {
     "duration": 0.049672,
     "end_time": "2020-10-07T18:26:51.619547",
     "exception": false,
     "start_time": "2020-10-07T18:26:51.569875",
     "status": "completed"
    },
    "tags": []
   },
   "outputs": [
    {
     "data": {
      "text/plain": [
       "-625522256.7"
      ]
     },
     "execution_count": 22,
     "metadata": {},
     "output_type": "execute_result"
    }
   ],
   "source": [
    "co2['A_Co2_emissions(ton)'].min()"
   ]
  },
  {
   "cell_type": "code",
   "execution_count": 23,
   "metadata": {
    "execution": {
     "iopub.execute_input": "2020-10-07T18:26:51.707076Z",
     "iopub.status.busy": "2020-10-07T18:26:51.706399Z",
     "iopub.status.idle": "2020-10-07T18:26:51.733125Z",
     "shell.execute_reply": "2020-10-07T18:26:51.732531Z"
    },
    "papermill": {
     "duration": 0.072419,
     "end_time": "2020-10-07T18:26:51.733244",
     "exception": false,
     "start_time": "2020-10-07T18:26:51.660825",
     "status": "completed"
    },
    "tags": []
   },
   "outputs": [],
   "source": [
    "condition=co2['A_Co2_emissions(ton)']>=0\n",
    "df=co2[condition]"
   ]
  },
  {
   "cell_type": "code",
   "execution_count": 24,
   "metadata": {
    "execution": {
     "iopub.execute_input": "2020-10-07T18:26:51.822401Z",
     "iopub.status.busy": "2020-10-07T18:26:51.821483Z",
     "iopub.status.idle": "2020-10-07T18:26:51.828037Z",
     "shell.execute_reply": "2020-10-07T18:26:51.827226Z"
    },
    "papermill": {
     "duration": 0.053682,
     "end_time": "2020-10-07T18:26:51.828203",
     "exception": false,
     "start_time": "2020-10-07T18:26:51.774521",
     "status": "completed"
    },
    "tags": []
   },
   "outputs": [
    {
     "data": {
      "text/plain": [
       "0.0"
      ]
     },
     "execution_count": 24,
     "metadata": {},
     "output_type": "execute_result"
    }
   ],
   "source": [
    "df['A_Co2_emissions(ton)'].min()"
   ]
  },
  {
   "cell_type": "code",
   "execution_count": 25,
   "metadata": {
    "execution": {
     "iopub.execute_input": "2020-10-07T18:26:51.920558Z",
     "iopub.status.busy": "2020-10-07T18:26:51.919854Z",
     "iopub.status.idle": "2020-10-07T18:26:51.923315Z",
     "shell.execute_reply": "2020-10-07T18:26:51.922784Z"
    },
    "papermill": {
     "duration": 0.050485,
     "end_time": "2020-10-07T18:26:51.923425",
     "exception": false,
     "start_time": "2020-10-07T18:26:51.872940",
     "status": "completed"
    },
    "tags": []
   },
   "outputs": [
    {
     "data": {
      "text/plain": [
       "36153261645.0"
      ]
     },
     "execution_count": 25,
     "metadata": {},
     "output_type": "execute_result"
    }
   ],
   "source": [
    "df['A_Co2_emissions(ton)'].max()"
   ]
  },
  {
   "cell_type": "code",
   "execution_count": 26,
   "metadata": {
    "execution": {
     "iopub.execute_input": "2020-10-07T18:26:52.016159Z",
     "iopub.status.busy": "2020-10-07T18:26:52.013989Z",
     "iopub.status.idle": "2020-10-07T18:26:52.022038Z",
     "shell.execute_reply": "2020-10-07T18:26:52.022519Z"
    },
    "papermill": {
     "duration": 0.057069,
     "end_time": "2020-10-07T18:26:52.022668",
     "exception": false,
     "start_time": "2020-10-07T18:26:51.965599",
     "status": "completed"
    },
    "tags": []
   },
   "outputs": [
    {
     "name": "stdout",
     "output_type": "stream",
     "text": [
      "<class 'pandas.core.frame.DataFrame'>\n",
      "Int64Index: 20813 entries, 0 to 20852\n",
      "Data columns (total 3 columns):\n",
      "Country                 20813 non-null object\n",
      "Year                    20813 non-null int64\n",
      "A_Co2_emissions(ton)    20813 non-null float64\n",
      "dtypes: float64(1), int64(1), object(1)\n",
      "memory usage: 650.4+ KB\n"
     ]
    }
   ],
   "source": [
    "df.info()"
   ]
  },
  {
   "cell_type": "code",
   "execution_count": 27,
   "metadata": {
    "execution": {
     "iopub.execute_input": "2020-10-07T18:26:52.114433Z",
     "iopub.status.busy": "2020-10-07T18:26:52.113800Z",
     "iopub.status.idle": "2020-10-07T18:26:52.428084Z",
     "shell.execute_reply": "2020-10-07T18:26:52.427547Z"
    },
    "papermill": {
     "duration": 0.361341,
     "end_time": "2020-10-07T18:26:52.428208",
     "exception": false,
     "start_time": "2020-10-07T18:26:52.066867",
     "status": "completed"
    },
    "tags": []
   },
   "outputs": [
    {
     "data": {
      "image/png": "[encoded data removed]",
      "text/plain": [
       "<Figure size 432x288 with 1 Axes>"
      ]
     },
     "metadata": {
      "needs_background": "light"
     },
     "output_type": "display_data"
    }
   ],
   "source": [
    "sns.distplot(df['A_Co2_emissions(ton)'],kde=False)\n",
    "plt.show()"
   ]
  },
  {
   "cell_type": "code",
   "execution_count": 28,
   "metadata": {
    "execution": {
     "iopub.execute_input": "2020-10-07T18:26:52.521849Z",
     "iopub.status.busy": "2020-10-07T18:26:52.521217Z",
     "iopub.status.idle": "2020-10-07T18:26:52.529142Z",
     "shell.execute_reply": "2020-10-07T18:26:52.529659Z"
    },
    "papermill": {
     "duration": 0.057969,
     "end_time": "2020-10-07T18:26:52.529827",
     "exception": false,
     "start_time": "2020-10-07T18:26:52.471858",
     "status": "completed"
    },
    "tags": []
   },
   "outputs": [
    {
     "data": {
      "text/plain": [
       "Country\n",
       "World                       1.575244e+12\n",
       "United States               3.993783e+11\n",
       "EU-28                       3.528583e+11\n",
       "China                       2.001365e+11\n",
       "Asia and Pacific (other)    1.780573e+11\n",
       "                                ...     \n",
       "Saint Helena                3.463088e+05\n",
       "Niue                        2.715786e+05\n",
       "Tuvalu                      2.569226e+05\n",
       "Antarctic Fisheries         1.538880e+05\n",
       "Kyrgysztan                  0.000000e+00\n",
       "Name: A_Co2_emissions(ton), Length: 233, dtype: float64"
      ]
     },
     "execution_count": 28,
     "metadata": {},
     "output_type": "execute_result"
    }
   ],
   "source": [
    "df.groupby('Country')['A_Co2_emissions(ton)'].sum().sort_values(ascending=False)"
   ]
  },
  {
   "cell_type": "code",
   "execution_count": 29,
   "metadata": {
    "execution": {
     "iopub.execute_input": "2020-10-07T18:26:52.623450Z",
     "iopub.status.busy": "2020-10-07T18:26:52.622797Z",
     "iopub.status.idle": "2020-10-07T18:26:52.631044Z",
     "shell.execute_reply": "2020-10-07T18:26:52.631472Z"
    },
    "papermill": {
     "duration": 0.058056,
     "end_time": "2020-10-07T18:26:52.631625",
     "exception": false,
     "start_time": "2020-10-07T18:26:52.573569",
     "status": "completed"
    },
    "tags": []
   },
   "outputs": [
    {
     "data": {
      "text/plain": [
       "Country\n",
       "United States               3.993783e+11\n",
       "EU-28                       3.528583e+11\n",
       "China                       2.001365e+11\n",
       "Asia and Pacific (other)    1.780573e+11\n",
       "Europe (other)              1.575402e+11\n",
       "Name: A_Co2_emissions(ton), dtype: float64"
      ]
     },
     "execution_count": 29,
     "metadata": {},
     "output_type": "execute_result"
    }
   ],
   "source": [
    "df.groupby('Country')['A_Co2_emissions(ton)'].sum().sort_values(ascending=False)[1:6]"
   ]
  },
  {
   "cell_type": "code",
   "execution_count": 30,
   "metadata": {
    "execution": {
     "iopub.execute_input": "2020-10-07T18:26:52.727895Z",
     "iopub.status.busy": "2020-10-07T18:26:52.727232Z",
     "iopub.status.idle": "2020-10-07T18:26:52.933896Z",
     "shell.execute_reply": "2020-10-07T18:26:52.933233Z"
    },
    "papermill": {
     "duration": 0.258118,
     "end_time": "2020-10-07T18:26:52.934025",
     "exception": false,
     "start_time": "2020-10-07T18:26:52.675907",
     "status": "completed"
    },
    "tags": []
   },
   "outputs": [
    {
     "data": {
      "text/plain": [
       "Text(0, 0.5, 'CO2 Emissions in Ton')"
      ]
     },
     "execution_count": 30,
     "metadata": {},
     "output_type": "execute_result"
    },
    {
     "data": {
      "image/png": "[encoded data removed]",
      "text/plain": [
       "<Figure size 576x396 with 1 Axes>"
      ]
     },
     "metadata": {},
     "output_type": "display_data"
    }
   ],
   "source": [
    "plt.style.use('seaborn')\n",
    "df.groupby('Country')['A_Co2_emissions(ton)'].sum().sort_values(ascending=False)[1:6].plot(kind='bar')\n",
    "plt.title('Top 5 Countries in co2 emission from 1751 to 2017',fontweight='bold',fontsize=14)\n",
    "plt.ylabel('CO2 Emissions in Ton')"
   ]
  },
  {
   "cell_type": "markdown",
   "metadata": {
    "papermill": {
     "duration": 0.045073,
     "end_time": "2020-10-07T18:26:53.024952",
     "exception": false,
     "start_time": "2020-10-07T18:26:52.979879",
     "status": "completed"
    },
    "tags": []
   },
   "source": [
    "## Now we will classify our data into time periods and analyze each one of them\n",
    "- Period1 smaller than or equal 1800 ( from 1751 to 1800)\n",
    "- Period2 smaller than or equal 1850 and greater than 1800 ( 1801 to 1850)\n",
    "- Period3 smaller than or equal 1900 and greater than 1850 ( 1851 to 1900)\n",
    "- Period4 smaller than or equal 1950 and greater than 1900 ( 1901 to 1950)\n",
    "- Period5 smaller than or equal 2000 and greater than 1950 ( 1951 to 2000)\n",
    "- Period6 greater than 2000"
   ]
  },
  {
   "cell_type": "code",
   "execution_count": 31,
   "metadata": {
    "execution": {
     "iopub.execute_input": "2020-10-07T18:26:53.121370Z",
     "iopub.status.busy": "2020-10-07T18:26:53.120668Z",
     "iopub.status.idle": "2020-10-07T18:26:53.124243Z",
     "shell.execute_reply": "2020-10-07T18:26:53.123584Z"
    },
    "papermill": {
     "duration": 0.053961,
     "end_time": "2020-10-07T18:26:53.124359",
     "exception": false,
     "start_time": "2020-10-07T18:26:53.070398",
     "status": "completed"
    },
    "tags": []
   },
   "outputs": [],
   "source": [
    "p1_c1=df['Year']<=1800"
   ]
  },
  {
   "cell_type": "code",
   "execution_count": 32,
   "metadata": {
    "execution": {
     "iopub.execute_input": "2020-10-07T18:26:53.227965Z",
     "iopub.status.busy": "2020-10-07T18:26:53.227267Z",
     "iopub.status.idle": "2020-10-07T18:26:53.230661Z",
     "shell.execute_reply": "2020-10-07T18:26:53.230080Z"
    },
    "papermill": {
     "duration": 0.061035,
     "end_time": "2020-10-07T18:26:53.230818",
     "exception": false,
     "start_time": "2020-10-07T18:26:53.169783",
     "status": "completed"
    },
    "tags": []
   },
   "outputs": [],
   "source": [
    "period1=df[p1_c1]"
   ]
  },
  {
   "cell_type": "code",
   "execution_count": 33,
   "metadata": {
    "execution": {
     "iopub.execute_input": "2020-10-07T18:26:53.332393Z",
     "iopub.status.busy": "2020-10-07T18:26:53.331717Z",
     "iopub.status.idle": "2020-10-07T18:26:53.335819Z",
     "shell.execute_reply": "2020-10-07T18:26:53.335181Z"
    },
    "papermill": {
     "duration": 0.057442,
     "end_time": "2020-10-07T18:26:53.335934",
     "exception": false,
     "start_time": "2020-10-07T18:26:53.278492",
     "status": "completed"
    },
    "tags": []
   },
   "outputs": [],
   "source": [
    "p2_c1=df['Year']<=1850\n",
    "p2_c2=df['Year']>1800"
   ]
  },
  {
   "cell_type": "code",
   "execution_count": 34,
   "metadata": {
    "execution": {
     "iopub.execute_input": "2020-10-07T18:26:53.434336Z",
     "iopub.status.busy": "2020-10-07T18:26:53.433600Z",
     "iopub.status.idle": "2020-10-07T18:26:53.437195Z",
     "shell.execute_reply": "2020-10-07T18:26:53.437670Z"
    },
    "papermill": {
     "duration": 0.054481,
     "end_time": "2020-10-07T18:26:53.437840",
     "exception": false,
     "start_time": "2020-10-07T18:26:53.383359",
     "status": "completed"
    },
    "tags": []
   },
   "outputs": [],
   "source": [
    "period2=df[p2_c1&p2_c2]"
   ]
  },
  {
   "cell_type": "code",
   "execution_count": 35,
   "metadata": {
    "execution": {
     "iopub.execute_input": "2020-10-07T18:26:53.536793Z",
     "iopub.status.busy": "2020-10-07T18:26:53.536026Z",
     "iopub.status.idle": "2020-10-07T18:26:53.539403Z",
     "shell.execute_reply": "2020-10-07T18:26:53.538784Z"
    },
    "papermill": {
     "duration": 0.054574,
     "end_time": "2020-10-07T18:26:53.539513",
     "exception": false,
     "start_time": "2020-10-07T18:26:53.484939",
     "status": "completed"
    },
    "tags": []
   },
   "outputs": [],
   "source": [
    "p3_c1=df['Year']<=1900\n",
    "p3_c2=df['Year']>1850"
   ]
  },
  {
   "cell_type": "code",
   "execution_count": 36,
   "metadata": {
    "execution": {
     "iopub.execute_input": "2020-10-07T18:26:53.637962Z",
     "iopub.status.busy": "2020-10-07T18:26:53.637158Z",
     "iopub.status.idle": "2020-10-07T18:26:53.639892Z",
     "shell.execute_reply": "2020-10-07T18:26:53.639369Z"
    },
    "papermill": {
     "duration": 0.054151,
     "end_time": "2020-10-07T18:26:53.640004",
     "exception": false,
     "start_time": "2020-10-07T18:26:53.585853",
     "status": "completed"
    },
    "tags": []
   },
   "outputs": [],
   "source": [
    "period3=df[p3_c1&p3_c2]"
   ]
  },
  {
   "cell_type": "code",
   "execution_count": 37,
   "metadata": {
    "execution": {
     "iopub.execute_input": "2020-10-07T18:26:53.737503Z",
     "iopub.status.busy": "2020-10-07T18:26:53.736399Z",
     "iopub.status.idle": "2020-10-07T18:26:53.739784Z",
     "shell.execute_reply": "2020-10-07T18:26:53.740237Z"
    },
    "papermill": {
     "duration": 0.054408,
     "end_time": "2020-10-07T18:26:53.740375",
     "exception": false,
     "start_time": "2020-10-07T18:26:53.685967",
     "status": "completed"
    },
    "tags": []
   },
   "outputs": [],
   "source": [
    "p4_c1=df['Year']<=1950\n",
    "p4_c2=df['Year']>1900"
   ]
  },
  {
   "cell_type": "code",
   "execution_count": 38,
   "metadata": {
    "execution": {
     "iopub.execute_input": "2020-10-07T18:26:53.839301Z",
     "iopub.status.busy": "2020-10-07T18:26:53.838367Z",
     "iopub.status.idle": "2020-10-07T18:26:53.842601Z",
     "shell.execute_reply": "2020-10-07T18:26:53.841970Z"
    },
    "papermill": {
     "duration": 0.056027,
     "end_time": "2020-10-07T18:26:53.842711",
     "exception": false,
     "start_time": "2020-10-07T18:26:53.786684",
     "status": "completed"
    },
    "tags": []
   },
   "outputs": [],
   "source": [
    "period4=df[p4_c1&p4_c2]"
   ]
  },
  {
   "cell_type": "code",
   "execution_count": 39,
   "metadata": {
    "execution": {
     "iopub.execute_input": "2020-10-07T18:26:53.986561Z",
     "iopub.status.busy": "2020-10-07T18:26:53.985560Z",
     "iopub.status.idle": "2020-10-07T18:26:53.988690Z",
     "shell.execute_reply": "2020-10-07T18:26:53.989410Z"
    },
    "papermill": {
     "duration": 0.100445,
     "end_time": "2020-10-07T18:26:53.989611",
     "exception": false,
     "start_time": "2020-10-07T18:26:53.889166",
     "status": "completed"
    },
    "tags": []
   },
   "outputs": [],
   "source": [
    "p5_c1=df['Year']<=2000\n",
    "p5_c2=df['Year']>1950"
   ]
  },
  {
   "cell_type": "code",
   "execution_count": 40,
   "metadata": {
    "execution": {
     "iopub.execute_input": "2020-10-07T18:26:54.105746Z",
     "iopub.status.busy": "2020-10-07T18:26:54.105012Z",
     "iopub.status.idle": "2020-10-07T18:26:54.109413Z",
     "shell.execute_reply": "2020-10-07T18:26:54.109889Z"
    },
    "papermill": {
     "duration": 0.058753,
     "end_time": "2020-10-07T18:26:54.110040",
     "exception": false,
     "start_time": "2020-10-07T18:26:54.051287",
     "status": "completed"
    },
    "tags": []
   },
   "outputs": [],
   "source": [
    "period5=df[p5_c1&p5_c2]"
   ]
  },
  {
   "cell_type": "code",
   "execution_count": 41,
   "metadata": {
    "execution": {
     "iopub.execute_input": "2020-10-07T18:26:54.209541Z",
     "iopub.status.busy": "2020-10-07T18:26:54.208524Z",
     "iopub.status.idle": "2020-10-07T18:26:54.211662Z",
     "shell.execute_reply": "2020-10-07T18:26:54.210743Z"
    },
    "papermill": {
     "duration": 0.055412,
     "end_time": "2020-10-07T18:26:54.211850",
     "exception": false,
     "start_time": "2020-10-07T18:26:54.156438",
     "status": "completed"
    },
    "tags": []
   },
   "outputs": [],
   "source": [
    "p6_c1=df['Year']>2000"
   ]
  },
  {
   "cell_type": "code",
   "execution_count": 42,
   "metadata": {
    "execution": {
     "iopub.execute_input": "2020-10-07T18:26:54.357539Z",
     "iopub.status.busy": "2020-10-07T18:26:54.354284Z",
     "iopub.status.idle": "2020-10-07T18:26:54.361365Z",
     "shell.execute_reply": "2020-10-07T18:26:54.360564Z"
    },
    "papermill": {
     "duration": 0.07922,
     "end_time": "2020-10-07T18:26:54.361540",
     "exception": false,
     "start_time": "2020-10-07T18:26:54.282320",
     "status": "completed"
    },
    "tags": []
   },
   "outputs": [],
   "source": [
    "period6=df[p6_c1]"
   ]
  },
  {
   "cell_type": "markdown",
   "metadata": {
    "papermill": {
     "duration": 0.05933,
     "end_time": "2020-10-07T18:26:54.485852",
     "exception": false,
     "start_time": "2020-10-07T18:26:54.426522",
     "status": "completed"
    },
    "tags": []
   },
   "source": [
    "## Now let's see Co2 emissions in each period grouped by country"
   ]
  },
  {
   "cell_type": "markdown",
   "metadata": {
    "papermill": {
     "duration": 0.046696,
     "end_time": "2020-10-07T18:26:54.589669",
     "exception": false,
     "start_time": "2020-10-07T18:26:54.542973",
     "status": "completed"
    },
    "tags": []
   },
   "source": [
    "### Period 1 from year 1751 to 1800"
   ]
  },
  {
   "cell_type": "code",
   "execution_count": 43,
   "metadata": {
    "execution": {
     "iopub.execute_input": "2020-10-07T18:26:54.689649Z",
     "iopub.status.busy": "2020-10-07T18:26:54.688442Z",
     "iopub.status.idle": "2020-10-07T18:26:54.912838Z",
     "shell.execute_reply": "2020-10-07T18:26:54.912290Z"
    },
    "papermill": {
     "duration": 0.276418,
     "end_time": "2020-10-07T18:26:54.912962",
     "exception": false,
     "start_time": "2020-10-07T18:26:54.636544",
     "status": "completed"
    },
    "tags": []
   },
   "outputs": [
    {
     "data": {
      "image/png": "[encoded data removed]",
      "text/plain": [
       "<Figure size 576x396 with 1 Axes>"
      ]
     },
     "metadata": {},
     "output_type": "display_data"
    }
   ],
   "source": [
    "sns.distplot(period1['A_Co2_emissions(ton)'],kde=False).set_title('Co2 emissions from 1751 to 1800 Histogram')\n",
    "plt.ylabel('CO2 emissions in Tonnes')\n",
    "plt.show()"
   ]
  },
  {
   "cell_type": "code",
   "execution_count": 44,
   "metadata": {
    "execution": {
     "iopub.execute_input": "2020-10-07T18:26:55.018284Z",
     "iopub.status.busy": "2020-10-07T18:26:55.017534Z",
     "iopub.status.idle": "2020-10-07T18:26:55.021786Z",
     "shell.execute_reply": "2020-10-07T18:26:55.021174Z"
    },
    "papermill": {
     "duration": 0.060936,
     "end_time": "2020-10-07T18:26:55.021897",
     "exception": false,
     "start_time": "2020-10-07T18:26:54.960961",
     "status": "completed"
    },
    "tags": []
   },
   "outputs": [
    {
     "data": {
      "text/plain": [
       "Country\n",
       "World                       772162352.0\n",
       "EU-28                       771850912.0\n",
       "United Kingdom              766523456.0\n",
       "Germany                       4920752.0\n",
       "Poland                         406704.0\n",
       "United States                  252816.0\n",
       "Canada                          58624.0\n",
       "Americas (other)                58624.0\n",
       "Statistical differences             0.0\n",
       "Middle East                         0.0\n",
       "International transport             0.0\n",
       "India                               0.0\n",
       "Europe (other)                      0.0\n",
       "China                               0.0\n",
       "Asia and Pacific (other)            0.0\n",
       "Africa                              0.0\n",
       "Name: A_Co2_emissions(ton), dtype: float64"
      ]
     },
     "execution_count": 44,
     "metadata": {},
     "output_type": "execute_result"
    }
   ],
   "source": [
    "period1.groupby('Country')['A_Co2_emissions(ton)'].sum().sort_values(ascending=False)"
   ]
  },
  {
   "cell_type": "code",
   "execution_count": 45,
   "metadata": {
    "execution": {
     "iopub.execute_input": "2020-10-07T18:26:55.136928Z",
     "iopub.status.busy": "2020-10-07T18:26:55.136235Z",
     "iopub.status.idle": "2020-10-07T18:26:55.314299Z",
     "shell.execute_reply": "2020-10-07T18:26:55.313305Z"
    },
    "papermill": {
     "duration": 0.244464,
     "end_time": "2020-10-07T18:26:55.314424",
     "exception": false,
     "start_time": "2020-10-07T18:26:55.069960",
     "status": "completed"
    },
    "tags": []
   },
   "outputs": [
    {
     "data": {
      "text/plain": [
       "Text(0.5, 1.0, 'Co2 emissions from year 1751 to 1800 by country')"
      ]
     },
     "execution_count": 45,
     "metadata": {},
     "output_type": "execute_result"
    },
    {
     "data": {
      "image/png": "[encoded data removed]",
      "text/plain": [
       "<Figure size 576x396 with 1 Axes>"
      ]
     },
     "metadata": {},
     "output_type": "display_data"
    }
   ],
   "source": [
    "plt.style.use('seaborn')\n",
    "period1.groupby('Country')['A_Co2_emissions(ton)'].sum().sort_values(ascending=False)[1:11].plot(kind='bar')\n",
    "plt.ylabel('CO2 Emissions in tonnes')\n",
    "plt.title('Co2 emissions from year 1751 to 1800 by country',fontweight='bold')"
   ]
  },
  {
   "cell_type": "code",
   "execution_count": 46,
   "metadata": {
    "execution": {
     "iopub.execute_input": "2020-10-07T18:26:55.421375Z",
     "iopub.status.busy": "2020-10-07T18:26:55.420607Z",
     "iopub.status.idle": "2020-10-07T18:26:55.424638Z",
     "shell.execute_reply": "2020-10-07T18:26:55.425096Z"
    },
    "papermill": {
     "duration": 0.060347,
     "end_time": "2020-10-07T18:26:55.425246",
     "exception": false,
     "start_time": "2020-10-07T18:26:55.364899",
     "status": "completed"
    },
    "tags": []
   },
   "outputs": [
    {
     "data": {
      "text/plain": [
       "2316234240.0"
      ]
     },
     "execution_count": 46,
     "metadata": {},
     "output_type": "execute_result"
    }
   ],
   "source": [
    "co2_1751_to1800=period1['A_Co2_emissions(ton)'].sum()\n",
    "period1['A_Co2_emissions(ton)'].sum()"
   ]
  },
  {
   "cell_type": "markdown",
   "metadata": {
    "papermill": {
     "duration": 0.050319,
     "end_time": "2020-10-07T18:26:55.525739",
     "exception": false,
     "start_time": "2020-10-07T18:26:55.475420",
     "status": "completed"
    },
    "tags": []
   },
   "source": [
    "## Period 2 from 1801 to 1850"
   ]
  },
  {
   "cell_type": "code",
   "execution_count": 47,
   "metadata": {
    "execution": {
     "iopub.execute_input": "2020-10-07T18:26:55.638473Z",
     "iopub.status.busy": "2020-10-07T18:26:55.632828Z",
     "iopub.status.idle": "2020-10-07T18:26:55.953063Z",
     "shell.execute_reply": "2020-10-07T18:26:55.952391Z"
    },
    "papermill": {
     "duration": 0.375291,
     "end_time": "2020-10-07T18:26:55.953178",
     "exception": false,
     "start_time": "2020-10-07T18:26:55.577887",
     "status": "completed"
    },
    "tags": []
   },
   "outputs": [
    {
     "data": {
      "image/png": "[encoded data removed]",
      "text/plain": [
       "<Figure size 576x396 with 1 Axes>"
      ]
     },
     "metadata": {},
     "output_type": "display_data"
    }
   ],
   "source": [
    "sns.distplot(period2['A_Co2_emissions(ton)'],kde=False).set_title('Co2 emissions from 1801 to 1850 Histogram')\n",
    "plt.ylabel('CO2 Emissions per tonnes')\n",
    "plt.show()"
   ]
  },
  {
   "cell_type": "code",
   "execution_count": 48,
   "metadata": {
    "execution": {
     "iopub.execute_input": "2020-10-07T18:26:56.065508Z",
     "iopub.status.busy": "2020-10-07T18:26:56.064588Z",
     "iopub.status.idle": "2020-10-07T18:26:56.068961Z",
     "shell.execute_reply": "2020-10-07T18:26:56.068319Z"
    },
    "papermill": {
     "duration": 0.064858,
     "end_time": "2020-10-07T18:26:56.069074",
     "exception": false,
     "start_time": "2020-10-07T18:26:56.004216",
     "status": "completed"
    },
    "tags": []
   },
   "outputs": [
    {
     "data": {
      "text/plain": [
       "Country\n",
       "World                       3.977902e+09\n",
       "EU-28                       3.786469e+09\n",
       "United Kingdom              2.927455e+09\n",
       "France                      3.404222e+08\n",
       "Germany                     2.497309e+08\n",
       "United States               1.897219e+08\n",
       "Belgium                     1.504951e+08\n",
       "Poland                      6.295485e+07\n",
       "Austria                     3.064936e+07\n",
       "Netherlands                 1.685440e+07\n",
       "Spain                       2.740672e+06\n",
       "Denmark                     1.824672e+06\n",
       "Hungary                     1.766048e+06\n",
       "Europe (other)              1.348352e+06\n",
       "Sweden                      1.179808e+06\n",
       "Norway                      1.154160e+06\n",
       "Ireland                     3.957120e+05\n",
       "Canada                      3.700640e+05\n",
       "Americas (other)            3.700640e+05\n",
       "India                       0.000000e+00\n",
       "International transport     0.000000e+00\n",
       "Middle East                 0.000000e+00\n",
       "China                       0.000000e+00\n",
       "Statistical differences     0.000000e+00\n",
       "Asia and Pacific (other)    0.000000e+00\n",
       "Africa                      0.000000e+00\n",
       "Name: A_Co2_emissions(ton), dtype: float64"
      ]
     },
     "execution_count": 48,
     "metadata": {},
     "output_type": "execute_result"
    }
   ],
   "source": [
    "period2.groupby('Country')['A_Co2_emissions(ton)'].sum().sort_values(ascending=False)"
   ]
  },
  {
   "cell_type": "code",
   "execution_count": 49,
   "metadata": {
    "execution": {
     "iopub.execute_input": "2020-10-07T18:26:56.182344Z",
     "iopub.status.busy": "2020-10-07T18:26:56.178280Z",
     "iopub.status.idle": "2020-10-07T18:26:56.353164Z",
     "shell.execute_reply": "2020-10-07T18:26:56.352500Z"
    },
    "papermill": {
     "duration": 0.232702,
     "end_time": "2020-10-07T18:26:56.353278",
     "exception": false,
     "start_time": "2020-10-07T18:26:56.120576",
     "status": "completed"
    },
    "tags": []
   },
   "outputs": [
    {
     "data": {
      "text/plain": [
       "Text(0, 0.5, 'CO2 Emissions in tonnes')"
      ]
     },
     "execution_count": 49,
     "metadata": {},
     "output_type": "execute_result"
    },
    {
     "data": {
      "image/png": "[encoded data removed]",
      "text/plain": [
       "<Figure size 576x396 with 1 Axes>"
      ]
     },
     "metadata": {},
     "output_type": "display_data"
    }
   ],
   "source": [
    "plt.style.use('seaborn')\n",
    "period2.groupby('Country')['A_Co2_emissions(ton)'].sum().sort_values(ascending=False)[1:11].plot(kind='bar')\n",
    "plt.title('Co2 emissions from year 1801 to 1850 by country',fontweight='bold')\n",
    "plt.ylabel('CO2 Emissions in tonnes')\n"
   ]
  },
  {
   "cell_type": "code",
   "execution_count": 50,
   "metadata": {
    "execution": {
     "iopub.execute_input": "2020-10-07T18:26:56.468363Z",
     "iopub.status.busy": "2020-10-07T18:26:56.467245Z",
     "iopub.status.idle": "2020-10-07T18:26:56.471560Z",
     "shell.execute_reply": "2020-10-07T18:26:56.470951Z"
    },
    "papermill": {
     "duration": 0.064566,
     "end_time": "2020-10-07T18:26:56.471684",
     "exception": false,
     "start_time": "2020-10-07T18:26:56.407118",
     "status": "completed"
    },
    "tags": []
   },
   "outputs": [
    {
     "data": {
      "text/plain": [
       "11743805168.0"
      ]
     },
     "execution_count": 50,
     "metadata": {},
     "output_type": "execute_result"
    }
   ],
   "source": [
    "co2_1801_to1850=period2['A_Co2_emissions(ton)'].sum()\n",
    "period2['A_Co2_emissions(ton)'].sum()"
   ]
  },
  {
   "cell_type": "markdown",
   "metadata": {
    "papermill": {
     "duration": 0.053089,
     "end_time": "2020-10-07T18:26:56.578689",
     "exception": false,
     "start_time": "2020-10-07T18:26:56.525600",
     "status": "completed"
    },
    "tags": []
   },
   "source": [
    "## Period 3 from 1851 to 1900"
   ]
  },
  {
   "cell_type": "code",
   "execution_count": 51,
   "metadata": {
    "execution": {
     "iopub.execute_input": "2020-10-07T18:26:56.697293Z",
     "iopub.status.busy": "2020-10-07T18:26:56.696554Z",
     "iopub.status.idle": "2020-10-07T18:26:56.927835Z",
     "shell.execute_reply": "2020-10-07T18:26:56.927309Z"
    },
    "papermill": {
     "duration": 0.295753,
     "end_time": "2020-10-07T18:26:56.927957",
     "exception": false,
     "start_time": "2020-10-07T18:26:56.632204",
     "status": "completed"
    },
    "tags": []
   },
   "outputs": [
    {
     "data": {
      "image/png": "[encoded data removed]",
      "text/plain": [
       "<Figure size 576x396 with 1 Axes>"
      ]
     },
     "metadata": {},
     "output_type": "display_data"
    }
   ],
   "source": [
    "sns.distplot(period3['A_Co2_emissions(ton)'],kde=False).set_title('Co2 emissions from 1851 to 1900 Histogram')\n",
    "plt.ylabel('CO2 Emissions per tonnes')\n",
    "plt.show()"
   ]
  },
  {
   "cell_type": "code",
   "execution_count": 52,
   "metadata": {
    "execution": {
     "iopub.execute_input": "2020-10-07T18:26:57.045589Z",
     "iopub.status.busy": "2020-10-07T18:26:57.041690Z",
     "iopub.status.idle": "2020-10-07T18:26:57.050554Z",
     "shell.execute_reply": "2020-10-07T18:26:57.049924Z"
    },
    "papermill": {
     "duration": 0.068801,
     "end_time": "2020-10-07T18:26:57.050663",
     "exception": false,
     "start_time": "2020-10-07T18:26:56.981862",
     "status": "completed"
    },
    "tags": []
   },
   "outputs": [
    {
     "data": {
      "text/plain": [
       "Country\n",
       "World                       4.007100e+10\n",
       "EU-28                       2.701552e+10\n",
       "United Kingdom              1.304018e+10\n",
       "United States               1.047446e+10\n",
       "Germany                     6.136203e+09\n",
       "France                      3.370041e+09\n",
       "Europe (other)              1.776490e+09\n",
       "Belgium                     1.357424e+09\n",
       "Poland                      1.271983e+09\n",
       "Czechoslovakia              8.433759e+08\n",
       "Austria                     5.286383e+08\n",
       "Asia and Pacific (other)    4.458795e+08\n",
       "Netherlands                 3.649857e+08\n",
       "Americas (other)            3.170716e+08\n",
       "Canada                      2.809225e+08\n",
       "Italy                       2.584952e+08\n",
       "Spain                       2.212726e+08\n",
       "Japan                       1.800050e+08\n",
       "Hungary                     1.623115e+08\n",
       "Sweden                      1.410017e+08\n",
       "India                       1.256972e+08\n",
       "Australia                   9.663067e+07\n",
       "Denmark                     9.335139e+07\n",
       "Switzerland                 8.329371e+07\n",
       "Norway                      6.559293e+07\n",
       "Portugal                    3.825216e+07\n",
       "Africa                      3.194275e+07\n",
       "South Africa                3.194275e+07\n",
       "New Zealand                 3.076294e+07\n",
       "Argentina                   2.495917e+07\n",
       "Romania                     1.774842e+07\n",
       "Turkey                      1.106894e+07\n",
       "Middle East                 1.106894e+07\n",
       "Indonesia                   7.463568e+06\n",
       "Finland                     6.913968e+06\n",
       "Mexico                      6.422992e+06\n",
       "Greece                      4.840144e+06\n",
       "Vietnam                     4.147648e+06\n",
       "Chile                       3.920480e+06\n",
       "Bulgaria                    1.168816e+06\n",
       "Peru                        8.647040e+05\n",
       "Malaysia                    7.657760e+05\n",
       "Ireland                     7.034880e+05\n",
       "Taiwan                      3.590720e+05\n",
       "China                       9.526400e+04\n",
       "Statistical differences     0.000000e+00\n",
       "Algeria                     0.000000e+00\n",
       "International transport     0.000000e+00\n",
       "Name: A_Co2_emissions(ton), dtype: float64"
      ]
     },
     "execution_count": 52,
     "metadata": {},
     "output_type": "execute_result"
    }
   ],
   "source": [
    "period3.groupby('Country')['A_Co2_emissions(ton)'].sum().sort_values(ascending=False)"
   ]
  },
  {
   "cell_type": "code",
   "execution_count": 53,
   "metadata": {
    "execution": {
     "iopub.execute_input": "2020-10-07T18:26:57.166960Z",
     "iopub.status.busy": "2020-10-07T18:26:57.166319Z",
     "iopub.status.idle": "2020-10-07T18:26:57.345699Z",
     "shell.execute_reply": "2020-10-07T18:26:57.344777Z"
    },
    "papermill": {
     "duration": 0.240229,
     "end_time": "2020-10-07T18:26:57.345894",
     "exception": false,
     "start_time": "2020-10-07T18:26:57.105665",
     "status": "completed"
    },
    "tags": []
   },
   "outputs": [
    {
     "data": {
      "text/plain": [
       "Text(0.5, 1.0, 'Co2 emissions from 1851 to 1900 per country')"
      ]
     },
     "execution_count": 53,
     "metadata": {},
     "output_type": "execute_result"
    },
    {
     "data": {
      "image/png": "[encoded data removed]",
      "text/plain": [
       "<Figure size 576x396 with 1 Axes>"
      ]
     },
     "metadata": {},
     "output_type": "display_data"
    }
   ],
   "source": [
    "plt.style.use('seaborn')\n",
    "period3.groupby('Country')['A_Co2_emissions(ton)'].sum().sort_values(ascending=False)[1:11].plot(kind='bar')\n",
    "plt.ylabel('Co2 emissions in ton')\n",
    "plt.title('Co2 emissions from 1851 to 1900 per country',fontweight='bold')"
   ]
  },
  {
   "cell_type": "code",
   "execution_count": 54,
   "metadata": {
    "execution": {
     "iopub.execute_input": "2020-10-07T18:26:57.494604Z",
     "iopub.status.busy": "2020-10-07T18:26:57.493918Z",
     "iopub.status.idle": "2020-10-07T18:26:57.498460Z",
     "shell.execute_reply": "2020-10-07T18:26:57.497832Z"
    },
    "papermill": {
     "duration": 0.072129,
     "end_time": "2020-10-07T18:26:57.498570",
     "exception": false,
     "start_time": "2020-10-07T18:26:57.426441",
     "status": "completed"
    },
    "tags": []
   },
   "outputs": [
    {
     "data": {
      "text/plain": [
       "108957247360.0"
      ]
     },
     "execution_count": 54,
     "metadata": {},
     "output_type": "execute_result"
    }
   ],
   "source": [
    "co2_1851_to1900=period3['A_Co2_emissions(ton)'].sum()\n",
    "period3['A_Co2_emissions(ton)'].sum()"
   ]
  },
  {
   "cell_type": "markdown",
   "metadata": {
    "papermill": {
     "duration": 0.05795,
     "end_time": "2020-10-07T18:26:57.616168",
     "exception": false,
     "start_time": "2020-10-07T18:26:57.558218",
     "status": "completed"
    },
    "tags": []
   },
   "source": [
    "## Period 4 from 1901 to 1950"
   ]
  },
  {
   "cell_type": "code",
   "execution_count": 55,
   "metadata": {
    "execution": {
     "iopub.execute_input": "2020-10-07T18:26:57.748826Z",
     "iopub.status.busy": "2020-10-07T18:26:57.748107Z",
     "iopub.status.idle": "2020-10-07T18:26:57.969992Z",
     "shell.execute_reply": "2020-10-07T18:26:57.969361Z"
    },
    "papermill": {
     "duration": 0.290804,
     "end_time": "2020-10-07T18:26:57.970104",
     "exception": false,
     "start_time": "2020-10-07T18:26:57.679300",
     "status": "completed"
    },
    "tags": []
   },
   "outputs": [
    {
     "data": {
      "image/png": "[encoded data removed]",
      "text/plain": [
       "<Figure size 576x396 with 1 Axes>"
      ]
     },
     "metadata": {},
     "output_type": "display_data"
    }
   ],
   "source": [
    "sns.distplot(period4['A_Co2_emissions(ton)'],kde=False).set_title('Co2 emissions from 1901 to 1950 Histogram')\n",
    "plt.show()"
   ]
  },
  {
   "cell_type": "code",
   "execution_count": 56,
   "metadata": {
    "execution": {
     "iopub.execute_input": "2020-10-07T18:26:58.095220Z",
     "iopub.status.busy": "2020-10-07T18:26:58.090867Z",
     "iopub.status.idle": "2020-10-07T18:26:58.099409Z",
     "shell.execute_reply": "2020-10-07T18:26:58.098920Z"
    },
    "papermill": {
     "duration": 0.072047,
     "end_time": "2020-10-07T18:26:58.099540",
     "exception": false,
     "start_time": "2020-10-07T18:26:58.027493",
     "status": "completed"
    },
    "tags": []
   },
   "outputs": [
    {
     "data": {
      "text/plain": [
       "Country\n",
       "World                       1.867113e+11\n",
       "United States               8.114232e+10\n",
       "EU-28                       6.919735e+10\n",
       "Germany                     2.279887e+10\n",
       "United Kingdom              2.241528e+10\n",
       "Europe (other)              1.212064e+10\n",
       "Americas (other)            8.595019e+09\n",
       "France                      8.174043e+09\n",
       "Asia and Pacific (other)    6.615554e+09\n",
       "Poland                      4.231121e+09\n",
       "Canada                      4.224995e+09\n",
       "Japan                       3.937353e+09\n",
       "Belgium                     3.194440e+09\n",
       "Czechoslovakia              2.789832e+09\n",
       "India                       2.068881e+09\n",
       "China                       1.871381e+09\n",
       "Africa                      1.706222e+09\n",
       "Netherlands                 1.493443e+09\n",
       "South Africa                1.461071e+09\n",
       "Italy                       1.433309e+09\n",
       "Middle East                 1.367625e+09\n",
       "Australia                   1.243477e+09\n",
       "Mexico                      1.239286e+09\n",
       "Austria                     1.106319e+09\n",
       "Spain                       9.425933e+08\n",
       "Iran                        8.767622e+08\n",
       "Sweden                      7.913544e+08\n",
       "Romania                     6.997471e+08\n",
       "Hungary                     6.094075e+08\n",
       "Denmark                     6.004270e+08\n",
       "Indonesia                   5.753543e+08\n",
       "Argentina                   5.311078e+08\n",
       "Switzerland                 3.899595e+08\n",
       "Norway                      3.513410e+08\n",
       "Venezuela                   3.254438e+08\n",
       "Brazil                      2.551683e+08\n",
       "Ireland                     2.333931e+08\n",
       "New Zealand                 2.237092e+08\n",
       "Chile                       1.993582e+08\n",
       "Peru                        1.931294e+08\n",
       "Trinidad and Tobago         1.919093e+08\n",
       "Turkey                      1.727869e+08\n",
       "Portugal                    1.721640e+08\n",
       "Taiwan                      1.575300e+08\n",
       "Iraq                        1.308414e+08\n",
       "Vietnam                     1.298668e+08\n",
       "Saudi Arabia                1.261698e+08\n",
       "Bulgaria                    1.181933e+08\n",
       "Finland                     1.167607e+08\n",
       "Zimbabwe                    9.359322e+07\n",
       "Colombia                    7.542710e+07\n",
       "Egypt                       7.473094e+07\n",
       "Malaysia                    6.495173e+07\n",
       "Greece                      5.742221e+07\n",
       "Bahrain                     4.747811e+07\n",
       "Myanmar                     4.643021e+07\n",
       "Brunei                      3.292104e+07\n",
       "Nigeria                     3.197573e+07\n",
       "Ecuador                     2.211590e+07\n",
       "Algeria                     1.108726e+07\n",
       "Name: A_Co2_emissions(ton), dtype: float64"
      ]
     },
     "execution_count": 56,
     "metadata": {},
     "output_type": "execute_result"
    }
   ],
   "source": [
    "period4.groupby('Country')['A_Co2_emissions(ton)'].sum().sort_values(ascending=False)[:60]"
   ]
  },
  {
   "cell_type": "code",
   "execution_count": 57,
   "metadata": {
    "execution": {
     "iopub.execute_input": "2020-10-07T18:26:58.227217Z",
     "iopub.status.busy": "2020-10-07T18:26:58.222385Z",
     "iopub.status.idle": "2020-10-07T18:26:58.406300Z",
     "shell.execute_reply": "2020-10-07T18:26:58.405697Z"
    },
    "papermill": {
     "duration": 0.248887,
     "end_time": "2020-10-07T18:26:58.406418",
     "exception": false,
     "start_time": "2020-10-07T18:26:58.157531",
     "status": "completed"
    },
    "tags": []
   },
   "outputs": [
    {
     "data": {
      "text/plain": [
       "Text(0, 0.5, 'CO2 Emissions in tonnes')"
      ]
     },
     "execution_count": 57,
     "metadata": {},
     "output_type": "execute_result"
    },
    {
     "data": {
      "image/png": "[encoded data removed]",
      "text/plain": [
       "<Figure size 576x396 with 1 Axes>"
      ]
     },
     "metadata": {},
     "output_type": "display_data"
    }
   ],
   "source": [
    "plt.style.use('seaborn')\n",
    "period4.groupby('Country')['A_Co2_emissions(ton)'].sum().sort_values(ascending=False)[1:11].plot(kind='bar')\n",
    "plt.title('Top 10 coutries in emttiong co2 from 1901 to 1950',fontweight='bold')\n",
    "plt.ylabel('CO2 Emissions in tonnes')"
   ]
  },
  {
   "cell_type": "code",
   "execution_count": 58,
   "metadata": {
    "execution": {
     "iopub.execute_input": "2020-10-07T18:26:58.532958Z",
     "iopub.status.busy": "2020-10-07T18:26:58.531991Z",
     "iopub.status.idle": "2020-10-07T18:26:58.536466Z",
     "shell.execute_reply": "2020-10-07T18:26:58.535985Z"
    },
    "papermill": {
     "duration": 0.070082,
     "end_time": "2020-10-07T18:26:58.536580",
     "exception": false,
     "start_time": "2020-10-07T18:26:58.466498",
     "status": "completed"
    },
    "tags": []
   },
   "outputs": [
    {
     "data": {
      "text/plain": [
       "108957247360.0"
      ]
     },
     "execution_count": 58,
     "metadata": {},
     "output_type": "execute_result"
    }
   ],
   "source": [
    "co2_1901_to1950=period4['A_Co2_emissions(ton)'].sum()\n",
    "period3['A_Co2_emissions(ton)'].sum()"
   ]
  },
  {
   "cell_type": "markdown",
   "metadata": {
    "papermill": {
     "duration": 0.059666,
     "end_time": "2020-10-07T18:26:58.656288",
     "exception": false,
     "start_time": "2020-10-07T18:26:58.596622",
     "status": "completed"
    },
    "tags": []
   },
   "source": [
    "## Period 5 from 1951 to 2000"
   ]
  },
  {
   "cell_type": "code",
   "execution_count": 59,
   "metadata": {
    "execution": {
     "iopub.execute_input": "2020-10-07T18:26:58.785928Z",
     "iopub.status.busy": "2020-10-07T18:26:58.781592Z",
     "iopub.status.idle": "2020-10-07T18:26:59.000345Z",
     "shell.execute_reply": "2020-10-07T18:26:58.999648Z"
    },
    "papermill": {
     "duration": 0.284426,
     "end_time": "2020-10-07T18:26:59.000462",
     "exception": false,
     "start_time": "2020-10-07T18:26:58.716036",
     "status": "completed"
    },
    "tags": []
   },
   "outputs": [
    {
     "data": {
      "image/png": "[encoded data removed]",
      "text/plain": [
       "<Figure size 576x396 with 1 Axes>"
      ]
     },
     "metadata": {},
     "output_type": "display_data"
    }
   ],
   "source": [
    "sns.distplot(period5['A_Co2_emissions(ton)'],kde=False).set_title('Co2 emissions from 1951 to 2000 Histogram')\n",
    "plt.show()"
   ]
  },
  {
   "cell_type": "code",
   "execution_count": 60,
   "metadata": {
    "execution": {
     "iopub.execute_input": "2020-10-07T18:26:59.128468Z",
     "iopub.status.busy": "2020-10-07T18:26:59.127809Z",
     "iopub.status.idle": "2020-10-07T18:26:59.136842Z",
     "shell.execute_reply": "2020-10-07T18:26:59.136226Z"
    },
    "papermill": {
     "duration": 0.075618,
     "end_time": "2020-10-07T18:26:59.136955",
     "exception": false,
     "start_time": "2020-10-07T18:26:59.061337",
     "status": "completed"
    },
    "tags": []
   },
   "outputs": [
    {
     "data": {
      "text/plain": [
       "Country\n",
       "World                       8.038565e+11\n",
       "United States               2.101561e+11\n",
       "EU-28                       1.847867e+11\n",
       "Europe (other)              1.068213e+11\n",
       "Asia and Pacific (other)    9.525536e+10\n",
       "Russia                      7.278933e+10\n",
       "China                       7.093433e+10\n",
       "Americas (other)            5.206207e+10\n",
       "Germany                     4.704089e+10\n",
       "Japan                       3.687116e+10\n",
       "United Kingdom              2.931237e+10\n",
       "Middle East                 2.493215e+10\n",
       "Africa                      2.190192e+10\n",
       "Ukraine                     2.087584e+10\n",
       "International transport     1.926376e+10\n",
       "France                      1.920126e+10\n",
       "India                       1.805998e+10\n",
       "Canada                      1.772811e+10\n",
       "Poland                      1.581491e+10\n",
       "Italy                       1.466037e+10\n",
       "South Africa                1.064915e+10\n",
       "Mexico                      9.718950e+09\n",
       "Australia                   9.315328e+09\n",
       "Kazakhstan                  8.637974e+09\n",
       "Spain                       7.728443e+09\n",
       "Czechoslovakia              7.608241e+09\n",
       "Brazil                      7.066236e+09\n",
       "South Korea                 6.777311e+09\n",
       "Iran                        6.565614e+09\n",
       "Netherlands                 6.516918e+09\n",
       "Czech Republic              6.325350e+09\n",
       "Romania                     6.049540e+09\n",
       "Saudi Arabia                5.653556e+09\n",
       "Belgium                     5.628953e+09\n",
       "Indonesia                   4.632943e+09\n",
       "Argentina                   4.417941e+09\n",
       "Venezuela                   4.258166e+09\n",
       "Uzbekistan                  4.098787e+09\n",
       "Turkey                      4.079781e+09\n",
       "North Korea                 3.937622e+09\n",
       "Taiwan                      3.519739e+09\n",
       "Hungary                     3.186190e+09\n",
       "Sweden                      3.077239e+09\n",
       "Belarus                     3.010140e+09\n",
       "Bulgaria                    2.751779e+09\n",
       "Denmark                     2.483390e+09\n",
       "Thailand                    2.459687e+09\n",
       "Austria                     2.421913e+09\n",
       "Egypt                       2.358237e+09\n",
       "Greece                      2.170805e+09\n",
       "Algeria                     2.107537e+09\n",
       "Slovakia                    2.068032e+09\n",
       "Finland                     1.956448e+09\n",
       "Statistical differences     1.940406e+09\n",
       "Azerbaijan                  1.888820e+09\n",
       "Colombia                    1.833700e+09\n",
       "Pakistan                    1.791044e+09\n",
       "Malaysia                    1.738076e+09\n",
       "Iraq                        1.737683e+09\n",
       "Switzerland                 1.715676e+09\n",
       "Name: A_Co2_emissions(ton), dtype: float64"
      ]
     },
     "execution_count": 60,
     "metadata": {},
     "output_type": "execute_result"
    }
   ],
   "source": [
    "period5.groupby('Country')['A_Co2_emissions(ton)'].sum().sort_values(ascending=False)[:60]"
   ]
  },
  {
   "cell_type": "code",
   "execution_count": 61,
   "metadata": {
    "execution": {
     "iopub.execute_input": "2020-10-07T18:26:59.266205Z",
     "iopub.status.busy": "2020-10-07T18:26:59.265526Z",
     "iopub.status.idle": "2020-10-07T18:26:59.448233Z",
     "shell.execute_reply": "2020-10-07T18:26:59.447579Z"
    },
    "papermill": {
     "duration": 0.250497,
     "end_time": "2020-10-07T18:26:59.448345",
     "exception": false,
     "start_time": "2020-10-07T18:26:59.197848",
     "status": "completed"
    },
    "tags": []
   },
   "outputs": [
    {
     "data": {
      "text/plain": [
       "Text(0, 0.5, 'CO2 Emissions in tonnes')"
      ]
     },
     "execution_count": 61,
     "metadata": {},
     "output_type": "execute_result"
    },
    {
     "data": {
      "image/png": "[encoded data removed]",
      "text/plain": [
       "<Figure size 576x396 with 1 Axes>"
      ]
     },
     "metadata": {},
     "output_type": "display_data"
    }
   ],
   "source": [
    "plt.style.use('seaborn')\n",
    "period5.groupby('Country')['A_Co2_emissions(ton)'].sum().sort_values(ascending=False)[1:11].plot(kind='bar')\n",
    "plt.title('Top 10 coutries in emttiong co2 from 1951 to 2000',fontweight='bold')\n",
    "plt.ylabel('CO2 Emissions in tonnes')"
   ]
  },
  {
   "cell_type": "code",
   "execution_count": 62,
   "metadata": {
    "execution": {
     "iopub.execute_input": "2020-10-07T18:26:59.579970Z",
     "iopub.status.busy": "2020-10-07T18:26:59.579242Z",
     "iopub.status.idle": "2020-10-07T18:26:59.583445Z",
     "shell.execute_reply": "2020-10-07T18:26:59.582912Z"
    },
    "papermill": {
     "duration": 0.072863,
     "end_time": "2020-10-07T18:26:59.583555",
     "exception": false,
     "start_time": "2020-10-07T18:26:59.510692",
     "status": "completed"
    },
    "tags": []
   },
   "outputs": [
    {
     "data": {
      "text/plain": [
       "2098559550816.26"
      ]
     },
     "execution_count": 62,
     "metadata": {},
     "output_type": "execute_result"
    }
   ],
   "source": [
    "co2_1951_to2000=period5['A_Co2_emissions(ton)'].sum()\n",
    "period5['A_Co2_emissions(ton)'].sum()"
   ]
  },
  {
   "cell_type": "markdown",
   "metadata": {
    "papermill": {
     "duration": 0.062534,
     "end_time": "2020-10-07T18:26:59.708543",
     "exception": false,
     "start_time": "2020-10-07T18:26:59.646009",
     "status": "completed"
    },
    "tags": []
   },
   "source": [
    "## Period 6 from 2000 to 2017"
   ]
  },
  {
   "cell_type": "code",
   "execution_count": 63,
   "metadata": {
    "execution": {
     "iopub.execute_input": "2020-10-07T18:26:59.844626Z",
     "iopub.status.busy": "2020-10-07T18:26:59.839204Z",
     "iopub.status.idle": "2020-10-07T18:27:00.076108Z",
     "shell.execute_reply": "2020-10-07T18:27:00.075192Z"
    },
    "papermill": {
     "duration": 0.305019,
     "end_time": "2020-10-07T18:27:00.076287",
     "exception": false,
     "start_time": "2020-10-07T18:26:59.771268",
     "status": "completed"
    },
    "tags": []
   },
   "outputs": [
    {
     "data": {
      "image/png": "[encoded data removed]",
      "text/plain": [
       "<Figure size 576x396 with 1 Axes>"
      ]
     },
     "metadata": {},
     "output_type": "display_data"
    }
   ],
   "source": [
    "sns.distplot(period6['A_Co2_emissions(ton)'],kde=False).set_title('Co2 emissions from 1951 to 2000 Histogram')\n",
    "plt.show()"
   ]
  },
  {
   "cell_type": "code",
   "execution_count": 64,
   "metadata": {
    "execution": {
     "iopub.execute_input": "2020-10-07T18:27:00.219274Z",
     "iopub.status.busy": "2020-10-07T18:27:00.218594Z",
     "iopub.status.idle": "2020-10-07T18:27:00.390537Z",
     "shell.execute_reply": "2020-10-07T18:27:00.389908Z"
    },
    "papermill": {
     "duration": 0.245303,
     "end_time": "2020-10-07T18:27:00.390661",
     "exception": false,
     "start_time": "2020-10-07T18:27:00.145358",
     "status": "completed"
    },
    "tags": []
   },
   "outputs": [
    {
     "data": {
      "text/plain": [
       "Text(0, 0.5, 'CO2 Emissions in tonnes')"
      ]
     },
     "execution_count": 64,
     "metadata": {},
     "output_type": "execute_result"
    },
    {
     "data": {
      "image/png": "[encoded data removed]",
      "text/plain": [
       "<Figure size 576x396 with 1 Axes>"
      ]
     },
     "metadata": {},
     "output_type": "display_data"
    }
   ],
   "source": [
    "plt.style.use('seaborn')\n",
    "period6.groupby('Country')['A_Co2_emissions(ton)'].sum().sort_values(ascending=False)[1:11].plot(kind='bar')\n",
    "plt.title('Top 10 coutries in emttiong co2 from 2000 to 2017',fontweight='bold')\n",
    "plt.ylabel('CO2 Emissions in tonnes')"
   ]
  },
  {
   "cell_type": "code",
   "execution_count": 65,
   "metadata": {
    "execution": {
     "iopub.execute_input": "2020-10-07T18:27:00.528132Z",
     "iopub.status.busy": "2020-10-07T18:27:00.527142Z",
     "iopub.status.idle": "2020-10-07T18:27:00.531492Z",
     "shell.execute_reply": "2020-10-07T18:27:00.530899Z"
    },
    "papermill": {
     "duration": 0.075276,
     "end_time": "2020-10-07T18:27:00.531604",
     "exception": false,
     "start_time": "2020-10-07T18:27:00.456328",
     "status": "completed"
    },
    "tags": []
   },
   "outputs": [
    {
     "data": {
      "text/plain": [
       "1353813227237.38"
      ]
     },
     "execution_count": 65,
     "metadata": {},
     "output_type": "execute_result"
    }
   ],
   "source": [
    "co2_2000_to2017=period6['A_Co2_emissions(ton)'].sum()\n",
    "period6['A_Co2_emissions(ton)'].sum()"
   ]
  },
  {
   "cell_type": "code",
   "execution_count": 68,
   "metadata": {
    "execution": {
     "iopub.execute_input": "2020-10-07T18:27:00.675344Z",
     "iopub.status.busy": "2020-10-07T18:27:00.674664Z",
     "iopub.status.idle": "2020-10-07T18:27:00.803819Z",
     "shell.execute_reply": "2020-10-07T18:27:00.803199Z"
    },
    "papermill": {
     "duration": 0.205935,
     "end_time": "2020-10-07T18:27:00.803931",
     "exception": false,
     "start_time": "2020-10-07T18:27:00.597996",
     "status": "completed"
    },
    "tags": []
   },
   "outputs": [
    {
     "data": {
      "image/png": "[encoded data removed]",
      "text/plain": [
       "<Figure size 576x396 with 1 Axes>"
      ]
     },
     "metadata": {},
     "output_type": "display_data"
    }
   ],
   "source": [
    "plt.bar([1,2,3,4,5,6],[co2_2000_to2017/17,co2_1951_to2000/50,co2_1901_to1950/50,co2_1851_to1900/50,co2_1801_to1850/50,co2_1751_to1800/50]\n",
    "       ,tick_label=['2000-2017','1951-2000','1950-1901','1851-1900','1801-1850','1751-1800'])\n",
    "plt.xtitle=('Time Frames')\n",
    "plt.ylabel=('CO2 Emissions in ton')\n",
    "plt.title('Normalized CO2 Emissions over different periods of time',fontweight='bold')\n",
    "plt.show()"
   ]
  },
  {
   "cell_type": "code",
   "execution_count": null,
   "metadata": {
    "papermill": {
     "duration": 0.065769,
     "end_time": "2020-10-07T18:27:00.936329",
     "exception": false,
     "start_time": "2020-10-07T18:27:00.870560",
     "status": "completed"
    },
    "tags": []
   },
   "outputs": [],
   "source": []
  }
 ],
 "metadata": {
  "kernelspec": {
   "display_name": "Python 3",
   "language": "python",
   "name": "python3"
  },
  "language_info": {
   "codemirror_mode": {
    "name": "ipython",
    "version": 3
   },
   "file_extension": ".py",
   "mimetype": "text/x-python",
   "name": "python",
   "nbconvert_exporter": "python",
   "pygments_lexer": "ipython3",
   "version": "3.7.4"
  },
  "papermill": {
   "duration": 16.825448,
   "end_time": "2020-10-07T18:27:01.110120",
   "environment_variables": {},
   "exception": null,
   "input_path": "__notebook__.ipynb",
   "output_path": "__notebook__.ipynb",
   "parameters": {},
   "start_time": "2020-10-07T18:26:44.284672",
   "version": "2.1.0"
  }
 },
 "nbformat": 4,
 "nbformat_minor": 4
}
