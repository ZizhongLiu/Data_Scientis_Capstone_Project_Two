{
 "cells": [
  {
   "cell_type": "markdown",
   "metadata": {},
   "source": [
    "# 3 Processing and Training Data<a id='2_Processing_and_Training_Data'></a>"
   ]
  },
  {
   "cell_type": "markdown",
   "metadata": {},
   "source": [
    "## 3.1 Introduction<a id='2.1_Introduction'></a>"
   ]
  },
  {
   "cell_type": "markdown",
   "metadata": {},
   "source": [
    "The goal of this step is to normalize and standardize all the features in your data, as well as create a validation set."
   ]
  },
  {
   "cell_type": "markdown",
   "metadata": {},
   "source": [
    "## 3.2 Imports<a id='1.2_Imports'></a>"
   ]
  },
  {
   "cell_type": "code",
   "execution_count": 169,
   "metadata": {},
   "outputs": [],
   "source": [
    "# Import functions\n",
    "import pandas as pd\n",
    "import numpy as np\n",
    "import matplotlib.pyplot as plt\n",
    "import seaborn as sns\n",
    "import statsmodels.api as sm\n",
    "import os\n",
    "import pickle\n",
    "import datetime\n",
    "from library.sb_utils import save_file\n",
    "from sklearn import datasets,linear_model\n",
    "from sklearn.linear_model import LinearRegression\n",
    "from sklearn import __version__ as sklearn_version\n",
    "from sklearn.decomposition import PCA\n",
    "from sklearn.preprocessing import scale, StandardScaler, MinMaxScaler, PolynomialFeatures\n",
    "from sklearn.model_selection import train_test_split, cross_validate, GridSearchCV, learning_curve\n",
    "from sklearn.dummy import DummyRegressor\n",
    "from sklearn.ensemble import RandomForestRegressor\n",
    "from sklearn.metrics import r2_score, mean_squared_error, mean_absolute_error\n",
    "from sklearn.pipeline import make_pipeline\n",
    "from sklearn.impute import SimpleImputer\n",
    "from sklearn.feature_selection import SelectKBest, f_regression\n",
    "\n",
    "pd.options.display.max_columns = 1000"
   ]
  },
  {
   "cell_type": "code",
   "execution_count": 170,
   "metadata": {},
   "outputs": [],
   "source": [
    "# Define my own functions\n",
    "def rmse(y_true, y_pre):\n",
    "    return (np.mean((y_pre-y_true)**2))**0.5"
   ]
  },
  {
   "cell_type": "code",
   "execution_count": 171,
   "metadata": {},
   "outputs": [],
   "source": [
    "# Define global variables\n",
    "hypertable = []"
   ]
  },
  {
   "cell_type": "code",
   "execution_count": 172,
   "metadata": {},
   "outputs": [],
   "source": [
    "AFRICA_ISOCODES = ['DZA', 'AGO', 'BEN', 'BWA', 'BFA', 'BDI', 'CMR', 'CPV', 'CAF', 'TCD', \n",
    "               'COM', 'COG', 'COD', 'CIV', 'DJI', 'EGY', 'GNQ', 'ERI', 'ETH', 'GAB', \n",
    "               'GMB', 'GHA', 'GIN', 'GNB', 'KEN', 'LSO', 'LBR', 'LBY', 'MDG', 'MLI', \n",
    "               'MWI', 'MRT', 'MUS', 'MYT', 'MAR', 'MOZ', 'NAM', 'NER', 'NGA', 'REU', \n",
    "               'RWA', 'STP', 'SEN', 'SYC', 'SLE', 'SOM', 'ZAF', 'SSD', 'SDN', 'SWZ', \n",
    "               'TZA', 'TGO', 'TUN', 'UGA', 'ESH', 'ZMB', 'ZWE']\n",
    "EUR_ISOCODES = ['AUT', 'BEL', 'BGR', 'HRV', 'CYP', 'CZE', 'DNK', 'EST', 'FIN', 'FRA', 'DEU', 'GRC', \n",
    "               'HUN', 'IRL', 'ITA', 'LVA', 'LTU', 'LUX', 'MLT', 'NLD', 'POL', 'PRT', 'ROU', 'SVK', \n",
    "               'SVN', 'ESP', 'SWE', 'GBR']"
   ]
  },
  {
   "cell_type": "code",
   "execution_count": 173,
   "metadata": {},
   "outputs": [],
   "source": [
    "def get_region_name(iso_code) : \n",
    "    if iso_code in AFRICA_ISOCODES:\n",
    "        return 'Africa'\n",
    "    if iso_code in EUR_ISOCODES:\n",
    "        return 'Europe'\n",
    "    if iso_code == 'USA':\n",
    "        return 'USA'\n",
    "    if iso_code == 'CHN':\n",
    "        return 'China'\n",
    "    if iso_code == 'IND':\n",
    "        return 'India'\n",
    "    if iso_code == 'RUS':\n",
    "        return 'Russia'\n",
    "    return 'Other'"
   ]
  },
  {
   "cell_type": "code",
   "execution_count": 174,
   "metadata": {},
   "outputs": [
    {
     "data": {
      "text/html": [
       "<div>\n",
       "<style scoped>\n",
       "    .dataframe tbody tr th:only-of-type {\n",
       "        vertical-align: middle;\n",
       "    }\n",
       "\n",
       "    .dataframe tbody tr th {\n",
       "        vertical-align: top;\n",
       "    }\n",
       "\n",
       "    .dataframe thead th {\n",
       "        text-align: right;\n",
       "    }\n",
       "</style>\n",
       "<table border=\"1\" class=\"dataframe\">\n",
       "  <thead>\n",
       "    <tr style=\"text-align: right;\">\n",
       "      <th></th>\n",
       "      <th>iso_code</th>\n",
       "      <th>country</th>\n",
       "      <th>year</th>\n",
       "      <th>annual_co2_prod_Megaton</th>\n",
       "      <th>primary_energy_consumption_10Gwh</th>\n",
       "      <th>population</th>\n",
       "      <th>gdp</th>\n",
       "      <th>Unit_argi</th>\n",
       "      <th>Value_agri_1000hectare</th>\n",
       "      <th>Unit_beef</th>\n",
       "      <th>Value_beef_tonnes</th>\n",
       "    </tr>\n",
       "  </thead>\n",
       "  <tbody>\n",
       "    <tr>\n",
       "      <th>0</th>\n",
       "      <td>AFG</td>\n",
       "      <td>Afghanistan</td>\n",
       "      <td>1949-01-01</td>\n",
       "      <td>0.015</td>\n",
       "      <td>NaN</td>\n",
       "      <td>7663783.0</td>\n",
       "      <td>NaN</td>\n",
       "      <td>NaN</td>\n",
       "      <td>NaN</td>\n",
       "      <td>NaN</td>\n",
       "      <td>NaN</td>\n",
       "    </tr>\n",
       "    <tr>\n",
       "      <th>1</th>\n",
       "      <td>AFG</td>\n",
       "      <td>Afghanistan</td>\n",
       "      <td>1950-01-01</td>\n",
       "      <td>0.084</td>\n",
       "      <td>NaN</td>\n",
       "      <td>7752000.0</td>\n",
       "      <td>1.949480e+10</td>\n",
       "      <td>NaN</td>\n",
       "      <td>NaN</td>\n",
       "      <td>NaN</td>\n",
       "      <td>NaN</td>\n",
       "    </tr>\n",
       "    <tr>\n",
       "      <th>2</th>\n",
       "      <td>AFG</td>\n",
       "      <td>Afghanistan</td>\n",
       "      <td>1951-01-01</td>\n",
       "      <td>0.092</td>\n",
       "      <td>NaN</td>\n",
       "      <td>7840000.0</td>\n",
       "      <td>2.006385e+10</td>\n",
       "      <td>NaN</td>\n",
       "      <td>NaN</td>\n",
       "      <td>NaN</td>\n",
       "      <td>NaN</td>\n",
       "    </tr>\n",
       "    <tr>\n",
       "      <th>3</th>\n",
       "      <td>AFG</td>\n",
       "      <td>Afghanistan</td>\n",
       "      <td>1952-01-01</td>\n",
       "      <td>0.092</td>\n",
       "      <td>NaN</td>\n",
       "      <td>7936000.0</td>\n",
       "      <td>2.074235e+10</td>\n",
       "      <td>NaN</td>\n",
       "      <td>NaN</td>\n",
       "      <td>NaN</td>\n",
       "      <td>NaN</td>\n",
       "    </tr>\n",
       "    <tr>\n",
       "      <th>4</th>\n",
       "      <td>AFG</td>\n",
       "      <td>Afghanistan</td>\n",
       "      <td>1953-01-01</td>\n",
       "      <td>0.106</td>\n",
       "      <td>NaN</td>\n",
       "      <td>8040000.0</td>\n",
       "      <td>2.201546e+10</td>\n",
       "      <td>NaN</td>\n",
       "      <td>NaN</td>\n",
       "      <td>NaN</td>\n",
       "      <td>NaN</td>\n",
       "    </tr>\n",
       "  </tbody>\n",
       "</table>\n",
       "</div>"
      ],
      "text/plain": [
       "  iso_code      country        year  annual_co2_prod_Megaton  \\\n",
       "0      AFG  Afghanistan  1949-01-01                    0.015   \n",
       "1      AFG  Afghanistan  1950-01-01                    0.084   \n",
       "2      AFG  Afghanistan  1951-01-01                    0.092   \n",
       "3      AFG  Afghanistan  1952-01-01                    0.092   \n",
       "4      AFG  Afghanistan  1953-01-01                    0.106   \n",
       "\n",
       "   primary_energy_consumption_10Gwh  population           gdp Unit_argi  \\\n",
       "0                               NaN   7663783.0           NaN       NaN   \n",
       "1                               NaN   7752000.0  1.949480e+10       NaN   \n",
       "2                               NaN   7840000.0  2.006385e+10       NaN   \n",
       "3                               NaN   7936000.0  2.074235e+10       NaN   \n",
       "4                               NaN   8040000.0  2.201546e+10       NaN   \n",
       "\n",
       "   Value_agri_1000hectare Unit_beef  Value_beef_tonnes  \n",
       "0                     NaN       NaN                NaN  \n",
       "1                     NaN       NaN                NaN  \n",
       "2                     NaN       NaN                NaN  \n",
       "3                     NaN       NaN                NaN  \n",
       "4                     NaN       NaN                NaN  "
      ]
     },
     "execution_count": 174,
     "metadata": {},
     "output_type": "execute_result"
    }
   ],
   "source": [
    "co2_data_df = pd.read_csv('../data/co2_data_cleaned.csv')\n",
    "co2_data_df.head()"
   ]
  },
  {
   "cell_type": "markdown",
   "metadata": {},
   "source": [
    "## 3.3 Feature Engineering"
   ]
  },
  {
   "cell_type": "code",
   "execution_count": 175,
   "metadata": {},
   "outputs": [
    {
     "name": "stdout",
     "output_type": "stream",
     "text": [
      "  iso_code      country        year  annual_co2_prod_Megaton  \\\n",
      "0      AFG  Afghanistan  1949-01-01                    0.015   \n",
      "1      AFG  Afghanistan  1950-01-01                    0.084   \n",
      "2      AFG  Afghanistan  1951-01-01                    0.092   \n",
      "3      AFG  Afghanistan  1952-01-01                    0.092   \n",
      "4      AFG  Afghanistan  1953-01-01                    0.106   \n",
      "\n",
      "   primary_energy_consumption_10Gwh  population           gdp Unit_argi  \\\n",
      "0                               NaN   7663783.0           NaN       NaN   \n",
      "1                               NaN   7752000.0  1.949480e+10       NaN   \n",
      "2                               NaN   7840000.0  2.006385e+10       NaN   \n",
      "3                               NaN   7936000.0  2.074235e+10       NaN   \n",
      "4                               NaN   8040000.0  2.201546e+10       NaN   \n",
      "\n",
      "   Value_agri_1000hectare Unit_beef  Value_beef_tonnes  energy_isnan  \\\n",
      "0                     NaN       NaN                NaN          True   \n",
      "1                     NaN       NaN                NaN          True   \n",
      "2                     NaN       NaN                NaN          True   \n",
      "3                     NaN       NaN                NaN          True   \n",
      "4                     NaN       NaN                NaN          True   \n",
      "\n",
      "   gdp_isnan  population_isnan  argi_isnan  beef_isnan  \n",
      "0       True             False        True        True  \n",
      "1      False             False        True        True  \n",
      "2      False             False        True        True  \n",
      "3      False             False        True        True  \n",
      "4      False             False        True        True  \n"
     ]
    }
   ],
   "source": [
    "co2_data_df['energy_isnan'] = np.isnan(co2_data_df['primary_energy_consumption_10Gwh'])\n",
    "co2_data_df['gdp_isnan'] = np.isnan(co2_data_df['gdp'])\n",
    "co2_data_df['population_isnan'] = np.isnan(co2_data_df['population'])\n",
    "co2_data_df['argi_isnan'] = np.isnan(co2_data_df['Value_agri_1000hectare'])\n",
    "co2_data_df['beef_isnan'] = np.isnan(co2_data_df['Value_beef_tonnes'])\n",
    "print(co2_data_df.head())"
   ]
  },
  {
   "cell_type": "code",
   "execution_count": 176,
   "metadata": {},
   "outputs": [],
   "source": [
    "# **2 and **3 to another features\n",
    "# co2_data_df['primary_energy_consumption_square'] = co2_data_df['primary_energy_consumption_10Gwh'] ** 2\n",
    "# co2_data_df['primary_energy_consumption_cubic'] = co2_data_df['primary_energy_consumption_10Gwh'] ** 3\n",
    "\n",
    "# features_adjust = ['population','gdp']\n",
    "# for feature in features_adjust:\n",
    "#     name1 = feature+'_square'\n",
    "#     name2 = feature+'_cubic'\n",
    "#     co2_data_df[name1] = co2_data_df[feature] ** 2\n",
    "#     co2_data_df[name2] = co2_data_df[feature] ** 3\n",
    "    \n",
    "#     'Value_agri_1000hectare','Value_beef_tonnes'\n",
    "    \n",
    "# co2_data_df['Value_agri_square'] = co2_data_df['Value_agri_1000hectare'] ** 2\n",
    "# co2_data_df['Value_agri_cubic'] = co2_data_df['Value_agri_1000hectare'] ** 3\n",
    "\n",
    "# co2_data_df['Value_beef_square'] = co2_data_df['Value_beef_tonnes'] ** 2\n",
    "# co2_data_df['Value_beef_cubic'] = co2_data_df['Value_beef_tonnes'] ** 3"
   ]
  },
  {
   "cell_type": "code",
   "execution_count": 177,
   "metadata": {},
   "outputs": [],
   "source": [
    "# add threshold\n",
    "co2_data_df['emissions_gt_70k'] = co2_data_df['primary_energy_consumption_10Gwh'] > 70000 \n",
    "co2_data_df['emissions_gt_110k'] = co2_data_df['primary_energy_consumption_10Gwh'] > 110000 "
   ]
  },
  {
   "cell_type": "code",
   "execution_count": 178,
   "metadata": {},
   "outputs": [
    {
     "data": {
      "text/plain": [
       "array(['Other', 'Africa', 'Europe', 'China', 'India', 'Russia', 'USA'],\n",
       "      dtype=object)"
      ]
     },
     "execution_count": 178,
     "metadata": {},
     "output_type": "execute_result"
    }
   ],
   "source": [
    "co2_data_df['region_name'] = co2_data_df['iso_code'].apply(get_region_name)\n",
    "co2_data_df['region_name'].unique()"
   ]
  },
  {
   "cell_type": "code",
   "execution_count": 179,
   "metadata": {},
   "outputs": [],
   "source": [
    "co2_data_df.drop(['Unit_argi','Unit_beef'],axis=1,inplace=True)"
   ]
  },
  {
   "cell_type": "code",
   "execution_count": 180,
   "metadata": {},
   "outputs": [
    {
     "data": {
      "text/html": [
       "<div>\n",
       "<style scoped>\n",
       "    .dataframe tbody tr th:only-of-type {\n",
       "        vertical-align: middle;\n",
       "    }\n",
       "\n",
       "    .dataframe tbody tr th {\n",
       "        vertical-align: top;\n",
       "    }\n",
       "\n",
       "    .dataframe thead th {\n",
       "        text-align: right;\n",
       "    }\n",
       "</style>\n",
       "<table border=\"1\" class=\"dataframe\">\n",
       "  <thead>\n",
       "    <tr style=\"text-align: right;\">\n",
       "      <th></th>\n",
       "      <th>iso_code</th>\n",
       "      <th>country</th>\n",
       "      <th>year</th>\n",
       "      <th>annual_co2_prod_Megaton</th>\n",
       "      <th>primary_energy_consumption_10Gwh</th>\n",
       "      <th>population</th>\n",
       "      <th>gdp</th>\n",
       "      <th>Value_agri_1000hectare</th>\n",
       "      <th>Value_beef_tonnes</th>\n",
       "      <th>energy_isnan</th>\n",
       "      <th>gdp_isnan</th>\n",
       "      <th>population_isnan</th>\n",
       "      <th>argi_isnan</th>\n",
       "      <th>beef_isnan</th>\n",
       "      <th>emissions_gt_70k</th>\n",
       "      <th>emissions_gt_110k</th>\n",
       "      <th>region_name</th>\n",
       "    </tr>\n",
       "  </thead>\n",
       "  <tbody>\n",
       "    <tr>\n",
       "      <th>0</th>\n",
       "      <td>AFG</td>\n",
       "      <td>Afghanistan</td>\n",
       "      <td>1949-01-01</td>\n",
       "      <td>0.015</td>\n",
       "      <td>0.0</td>\n",
       "      <td>7663783.0</td>\n",
       "      <td>0.000000e+00</td>\n",
       "      <td>0.0</td>\n",
       "      <td>0.0</td>\n",
       "      <td>True</td>\n",
       "      <td>True</td>\n",
       "      <td>False</td>\n",
       "      <td>True</td>\n",
       "      <td>True</td>\n",
       "      <td>False</td>\n",
       "      <td>False</td>\n",
       "      <td>Other</td>\n",
       "    </tr>\n",
       "    <tr>\n",
       "      <th>1</th>\n",
       "      <td>AFG</td>\n",
       "      <td>Afghanistan</td>\n",
       "      <td>1950-01-01</td>\n",
       "      <td>0.084</td>\n",
       "      <td>0.0</td>\n",
       "      <td>7752000.0</td>\n",
       "      <td>1.949480e+10</td>\n",
       "      <td>0.0</td>\n",
       "      <td>0.0</td>\n",
       "      <td>True</td>\n",
       "      <td>False</td>\n",
       "      <td>False</td>\n",
       "      <td>True</td>\n",
       "      <td>True</td>\n",
       "      <td>False</td>\n",
       "      <td>False</td>\n",
       "      <td>Other</td>\n",
       "    </tr>\n",
       "    <tr>\n",
       "      <th>2</th>\n",
       "      <td>AFG</td>\n",
       "      <td>Afghanistan</td>\n",
       "      <td>1951-01-01</td>\n",
       "      <td>0.092</td>\n",
       "      <td>0.0</td>\n",
       "      <td>7840000.0</td>\n",
       "      <td>2.006385e+10</td>\n",
       "      <td>0.0</td>\n",
       "      <td>0.0</td>\n",
       "      <td>True</td>\n",
       "      <td>False</td>\n",
       "      <td>False</td>\n",
       "      <td>True</td>\n",
       "      <td>True</td>\n",
       "      <td>False</td>\n",
       "      <td>False</td>\n",
       "      <td>Other</td>\n",
       "    </tr>\n",
       "    <tr>\n",
       "      <th>3</th>\n",
       "      <td>AFG</td>\n",
       "      <td>Afghanistan</td>\n",
       "      <td>1952-01-01</td>\n",
       "      <td>0.092</td>\n",
       "      <td>0.0</td>\n",
       "      <td>7936000.0</td>\n",
       "      <td>2.074235e+10</td>\n",
       "      <td>0.0</td>\n",
       "      <td>0.0</td>\n",
       "      <td>True</td>\n",
       "      <td>False</td>\n",
       "      <td>False</td>\n",
       "      <td>True</td>\n",
       "      <td>True</td>\n",
       "      <td>False</td>\n",
       "      <td>False</td>\n",
       "      <td>Other</td>\n",
       "    </tr>\n",
       "    <tr>\n",
       "      <th>4</th>\n",
       "      <td>AFG</td>\n",
       "      <td>Afghanistan</td>\n",
       "      <td>1953-01-01</td>\n",
       "      <td>0.106</td>\n",
       "      <td>0.0</td>\n",
       "      <td>8040000.0</td>\n",
       "      <td>2.201546e+10</td>\n",
       "      <td>0.0</td>\n",
       "      <td>0.0</td>\n",
       "      <td>True</td>\n",
       "      <td>False</td>\n",
       "      <td>False</td>\n",
       "      <td>True</td>\n",
       "      <td>True</td>\n",
       "      <td>False</td>\n",
       "      <td>False</td>\n",
       "      <td>Other</td>\n",
       "    </tr>\n",
       "    <tr>\n",
       "      <th>...</th>\n",
       "      <td>...</td>\n",
       "      <td>...</td>\n",
       "      <td>...</td>\n",
       "      <td>...</td>\n",
       "      <td>...</td>\n",
       "      <td>...</td>\n",
       "      <td>...</td>\n",
       "      <td>...</td>\n",
       "      <td>...</td>\n",
       "      <td>...</td>\n",
       "      <td>...</td>\n",
       "      <td>...</td>\n",
       "      <td>...</td>\n",
       "      <td>...</td>\n",
       "      <td>...</td>\n",
       "      <td>...</td>\n",
       "      <td>...</td>\n",
       "    </tr>\n",
       "    <tr>\n",
       "      <th>23166</th>\n",
       "      <td>ZWE</td>\n",
       "      <td>Zimbabwe</td>\n",
       "      <td>2015-01-01</td>\n",
       "      <td>12.170</td>\n",
       "      <td>0.0</td>\n",
       "      <td>13815000.0</td>\n",
       "      <td>2.503057e+10</td>\n",
       "      <td>16200.0</td>\n",
       "      <td>114297.0</td>\n",
       "      <td>True</td>\n",
       "      <td>False</td>\n",
       "      <td>False</td>\n",
       "      <td>False</td>\n",
       "      <td>False</td>\n",
       "      <td>False</td>\n",
       "      <td>False</td>\n",
       "      <td>Africa</td>\n",
       "    </tr>\n",
       "    <tr>\n",
       "      <th>23167</th>\n",
       "      <td>ZWE</td>\n",
       "      <td>Zimbabwe</td>\n",
       "      <td>2016-01-01</td>\n",
       "      <td>10.815</td>\n",
       "      <td>0.0</td>\n",
       "      <td>14030000.0</td>\n",
       "      <td>2.515176e+10</td>\n",
       "      <td>16200.0</td>\n",
       "      <td>111470.0</td>\n",
       "      <td>True</td>\n",
       "      <td>False</td>\n",
       "      <td>False</td>\n",
       "      <td>False</td>\n",
       "      <td>False</td>\n",
       "      <td>False</td>\n",
       "      <td>False</td>\n",
       "      <td>Africa</td>\n",
       "    </tr>\n",
       "    <tr>\n",
       "      <th>23168</th>\n",
       "      <td>ZWE</td>\n",
       "      <td>Zimbabwe</td>\n",
       "      <td>2017-01-01</td>\n",
       "      <td>10.247</td>\n",
       "      <td>0.0</td>\n",
       "      <td>14237000.0</td>\n",
       "      <td>0.000000e+00</td>\n",
       "      <td>16200.0</td>\n",
       "      <td>107633.0</td>\n",
       "      <td>True</td>\n",
       "      <td>True</td>\n",
       "      <td>False</td>\n",
       "      <td>False</td>\n",
       "      <td>False</td>\n",
       "      <td>False</td>\n",
       "      <td>False</td>\n",
       "      <td>Africa</td>\n",
       "    </tr>\n",
       "    <tr>\n",
       "      <th>23169</th>\n",
       "      <td>ZWE</td>\n",
       "      <td>Zimbabwe</td>\n",
       "      <td>2018-01-01</td>\n",
       "      <td>11.341</td>\n",
       "      <td>0.0</td>\n",
       "      <td>14439000.0</td>\n",
       "      <td>0.000000e+00</td>\n",
       "      <td>16200.0</td>\n",
       "      <td>111133.0</td>\n",
       "      <td>True</td>\n",
       "      <td>True</td>\n",
       "      <td>False</td>\n",
       "      <td>False</td>\n",
       "      <td>False</td>\n",
       "      <td>False</td>\n",
       "      <td>False</td>\n",
       "      <td>Africa</td>\n",
       "    </tr>\n",
       "    <tr>\n",
       "      <th>23170</th>\n",
       "      <td>ZWE</td>\n",
       "      <td>Zimbabwe</td>\n",
       "      <td>2019-01-01</td>\n",
       "      <td>10.374</td>\n",
       "      <td>0.0</td>\n",
       "      <td>14645000.0</td>\n",
       "      <td>0.000000e+00</td>\n",
       "      <td>0.0</td>\n",
       "      <td>0.0</td>\n",
       "      <td>True</td>\n",
       "      <td>True</td>\n",
       "      <td>False</td>\n",
       "      <td>True</td>\n",
       "      <td>True</td>\n",
       "      <td>False</td>\n",
       "      <td>False</td>\n",
       "      <td>Africa</td>\n",
       "    </tr>\n",
       "  </tbody>\n",
       "</table>\n",
       "<p>23171 rows × 17 columns</p>\n",
       "</div>"
      ],
      "text/plain": [
       "      iso_code      country        year  annual_co2_prod_Megaton  \\\n",
       "0          AFG  Afghanistan  1949-01-01                    0.015   \n",
       "1          AFG  Afghanistan  1950-01-01                    0.084   \n",
       "2          AFG  Afghanistan  1951-01-01                    0.092   \n",
       "3          AFG  Afghanistan  1952-01-01                    0.092   \n",
       "4          AFG  Afghanistan  1953-01-01                    0.106   \n",
       "...        ...          ...         ...                      ...   \n",
       "23166      ZWE     Zimbabwe  2015-01-01                   12.170   \n",
       "23167      ZWE     Zimbabwe  2016-01-01                   10.815   \n",
       "23168      ZWE     Zimbabwe  2017-01-01                   10.247   \n",
       "23169      ZWE     Zimbabwe  2018-01-01                   11.341   \n",
       "23170      ZWE     Zimbabwe  2019-01-01                   10.374   \n",
       "\n",
       "       primary_energy_consumption_10Gwh  population           gdp  \\\n",
       "0                                   0.0   7663783.0  0.000000e+00   \n",
       "1                                   0.0   7752000.0  1.949480e+10   \n",
       "2                                   0.0   7840000.0  2.006385e+10   \n",
       "3                                   0.0   7936000.0  2.074235e+10   \n",
       "4                                   0.0   8040000.0  2.201546e+10   \n",
       "...                                 ...         ...           ...   \n",
       "23166                               0.0  13815000.0  2.503057e+10   \n",
       "23167                               0.0  14030000.0  2.515176e+10   \n",
       "23168                               0.0  14237000.0  0.000000e+00   \n",
       "23169                               0.0  14439000.0  0.000000e+00   \n",
       "23170                               0.0  14645000.0  0.000000e+00   \n",
       "\n",
       "       Value_agri_1000hectare  Value_beef_tonnes  energy_isnan  gdp_isnan  \\\n",
       "0                         0.0                0.0          True       True   \n",
       "1                         0.0                0.0          True      False   \n",
       "2                         0.0                0.0          True      False   \n",
       "3                         0.0                0.0          True      False   \n",
       "4                         0.0                0.0          True      False   \n",
       "...                       ...                ...           ...        ...   \n",
       "23166                 16200.0           114297.0          True      False   \n",
       "23167                 16200.0           111470.0          True      False   \n",
       "23168                 16200.0           107633.0          True       True   \n",
       "23169                 16200.0           111133.0          True       True   \n",
       "23170                     0.0                0.0          True       True   \n",
       "\n",
       "       population_isnan  argi_isnan  beef_isnan  emissions_gt_70k  \\\n",
       "0                 False        True        True             False   \n",
       "1                 False        True        True             False   \n",
       "2                 False        True        True             False   \n",
       "3                 False        True        True             False   \n",
       "4                 False        True        True             False   \n",
       "...                 ...         ...         ...               ...   \n",
       "23166             False       False       False             False   \n",
       "23167             False       False       False             False   \n",
       "23168             False       False       False             False   \n",
       "23169             False       False       False             False   \n",
       "23170             False        True        True             False   \n",
       "\n",
       "       emissions_gt_110k region_name  \n",
       "0                  False       Other  \n",
       "1                  False       Other  \n",
       "2                  False       Other  \n",
       "3                  False       Other  \n",
       "4                  False       Other  \n",
       "...                  ...         ...  \n",
       "23166              False      Africa  \n",
       "23167              False      Africa  \n",
       "23168              False      Africa  \n",
       "23169              False      Africa  \n",
       "23170              False      Africa  \n",
       "\n",
       "[23171 rows x 17 columns]"
      ]
     },
     "execution_count": 180,
     "metadata": {},
     "output_type": "execute_result"
    }
   ],
   "source": [
    "co2_data_df.fillna(0)"
   ]
  },
  {
   "cell_type": "code",
   "execution_count": 181,
   "metadata": {},
   "outputs": [],
   "source": [
    "co2_data_df.columns\n",
    "co2_data_df = co2_data_df[['region_name','iso_code', 'country', 'year', 'annual_co2_prod_Megaton',\n",
    "       'primary_energy_consumption_10Gwh', 'population', 'gdp','Value_agri_1000hectare','Value_beef_tonnes',\n",
    "       'energy_isnan', 'gdp_isnan', 'population_isnan', 'argi_isnan',\n",
    "       'beef_isnan', 'emissions_gt_70k', 'emissions_gt_110k']]"
   ]
  },
  {
   "cell_type": "code",
   "execution_count": 182,
   "metadata": {},
   "outputs": [],
   "source": [
    "co2_data_df[['primary_energy_consumption_10Gwh', 'population', 'gdp', \n",
    "       'Value_agri_1000hectare','Value_beef_tonnes']]=co2_data_df[['primary_energy_consumption_10Gwh', 'population', 'gdp', \n",
    "       'Value_agri_1000hectare','Value_beef_tonnes']].fillna(0)"
   ]
  },
  {
   "cell_type": "code",
   "execution_count": 183,
   "metadata": {},
   "outputs": [
    {
     "data": {
      "text/html": [
       "<div>\n",
       "<style scoped>\n",
       "    .dataframe tbody tr th:only-of-type {\n",
       "        vertical-align: middle;\n",
       "    }\n",
       "\n",
       "    .dataframe tbody tr th {\n",
       "        vertical-align: top;\n",
       "    }\n",
       "\n",
       "    .dataframe thead th {\n",
       "        text-align: right;\n",
       "    }\n",
       "</style>\n",
       "<table border=\"1\" class=\"dataframe\">\n",
       "  <thead>\n",
       "    <tr style=\"text-align: right;\">\n",
       "      <th></th>\n",
       "      <th>region_name</th>\n",
       "      <th>iso_code</th>\n",
       "      <th>country</th>\n",
       "      <th>year</th>\n",
       "      <th>annual_co2_prod_Megaton</th>\n",
       "      <th>primary_energy_consumption_10Gwh</th>\n",
       "      <th>population</th>\n",
       "      <th>gdp</th>\n",
       "      <th>Value_agri_1000hectare</th>\n",
       "      <th>Value_beef_tonnes</th>\n",
       "      <th>energy_isnan</th>\n",
       "      <th>gdp_isnan</th>\n",
       "      <th>population_isnan</th>\n",
       "      <th>argi_isnan</th>\n",
       "      <th>beef_isnan</th>\n",
       "      <th>emissions_gt_70k</th>\n",
       "      <th>emissions_gt_110k</th>\n",
       "    </tr>\n",
       "  </thead>\n",
       "  <tbody>\n",
       "    <tr>\n",
       "      <th>0</th>\n",
       "      <td>Other</td>\n",
       "      <td>AFG</td>\n",
       "      <td>Afghanistan</td>\n",
       "      <td>1949-01-01</td>\n",
       "      <td>0.015</td>\n",
       "      <td>0.0</td>\n",
       "      <td>7663783.0</td>\n",
       "      <td>0.000000e+00</td>\n",
       "      <td>0.0</td>\n",
       "      <td>0.0</td>\n",
       "      <td>True</td>\n",
       "      <td>True</td>\n",
       "      <td>False</td>\n",
       "      <td>True</td>\n",
       "      <td>True</td>\n",
       "      <td>False</td>\n",
       "      <td>False</td>\n",
       "    </tr>\n",
       "    <tr>\n",
       "      <th>1</th>\n",
       "      <td>Other</td>\n",
       "      <td>AFG</td>\n",
       "      <td>Afghanistan</td>\n",
       "      <td>1950-01-01</td>\n",
       "      <td>0.084</td>\n",
       "      <td>0.0</td>\n",
       "      <td>7752000.0</td>\n",
       "      <td>1.949480e+10</td>\n",
       "      <td>0.0</td>\n",
       "      <td>0.0</td>\n",
       "      <td>True</td>\n",
       "      <td>False</td>\n",
       "      <td>False</td>\n",
       "      <td>True</td>\n",
       "      <td>True</td>\n",
       "      <td>False</td>\n",
       "      <td>False</td>\n",
       "    </tr>\n",
       "    <tr>\n",
       "      <th>2</th>\n",
       "      <td>Other</td>\n",
       "      <td>AFG</td>\n",
       "      <td>Afghanistan</td>\n",
       "      <td>1951-01-01</td>\n",
       "      <td>0.092</td>\n",
       "      <td>0.0</td>\n",
       "      <td>7840000.0</td>\n",
       "      <td>2.006385e+10</td>\n",
       "      <td>0.0</td>\n",
       "      <td>0.0</td>\n",
       "      <td>True</td>\n",
       "      <td>False</td>\n",
       "      <td>False</td>\n",
       "      <td>True</td>\n",
       "      <td>True</td>\n",
       "      <td>False</td>\n",
       "      <td>False</td>\n",
       "    </tr>\n",
       "    <tr>\n",
       "      <th>3</th>\n",
       "      <td>Other</td>\n",
       "      <td>AFG</td>\n",
       "      <td>Afghanistan</td>\n",
       "      <td>1952-01-01</td>\n",
       "      <td>0.092</td>\n",
       "      <td>0.0</td>\n",
       "      <td>7936000.0</td>\n",
       "      <td>2.074235e+10</td>\n",
       "      <td>0.0</td>\n",
       "      <td>0.0</td>\n",
       "      <td>True</td>\n",
       "      <td>False</td>\n",
       "      <td>False</td>\n",
       "      <td>True</td>\n",
       "      <td>True</td>\n",
       "      <td>False</td>\n",
       "      <td>False</td>\n",
       "    </tr>\n",
       "    <tr>\n",
       "      <th>4</th>\n",
       "      <td>Other</td>\n",
       "      <td>AFG</td>\n",
       "      <td>Afghanistan</td>\n",
       "      <td>1953-01-01</td>\n",
       "      <td>0.106</td>\n",
       "      <td>0.0</td>\n",
       "      <td>8040000.0</td>\n",
       "      <td>2.201546e+10</td>\n",
       "      <td>0.0</td>\n",
       "      <td>0.0</td>\n",
       "      <td>True</td>\n",
       "      <td>False</td>\n",
       "      <td>False</td>\n",
       "      <td>True</td>\n",
       "      <td>True</td>\n",
       "      <td>False</td>\n",
       "      <td>False</td>\n",
       "    </tr>\n",
       "  </tbody>\n",
       "</table>\n",
       "</div>"
      ],
      "text/plain": [
       "  region_name iso_code      country        year  annual_co2_prod_Megaton  \\\n",
       "0       Other      AFG  Afghanistan  1949-01-01                    0.015   \n",
       "1       Other      AFG  Afghanistan  1950-01-01                    0.084   \n",
       "2       Other      AFG  Afghanistan  1951-01-01                    0.092   \n",
       "3       Other      AFG  Afghanistan  1952-01-01                    0.092   \n",
       "4       Other      AFG  Afghanistan  1953-01-01                    0.106   \n",
       "\n",
       "   primary_energy_consumption_10Gwh  population           gdp  \\\n",
       "0                               0.0   7663783.0  0.000000e+00   \n",
       "1                               0.0   7752000.0  1.949480e+10   \n",
       "2                               0.0   7840000.0  2.006385e+10   \n",
       "3                               0.0   7936000.0  2.074235e+10   \n",
       "4                               0.0   8040000.0  2.201546e+10   \n",
       "\n",
       "   Value_agri_1000hectare  Value_beef_tonnes  energy_isnan  gdp_isnan  \\\n",
       "0                     0.0                0.0          True       True   \n",
       "1                     0.0                0.0          True      False   \n",
       "2                     0.0                0.0          True      False   \n",
       "3                     0.0                0.0          True      False   \n",
       "4                     0.0                0.0          True      False   \n",
       "\n",
       "   population_isnan  argi_isnan  beef_isnan  emissions_gt_70k  \\\n",
       "0             False        True        True             False   \n",
       "1             False        True        True             False   \n",
       "2             False        True        True             False   \n",
       "3             False        True        True             False   \n",
       "4             False        True        True             False   \n",
       "\n",
       "   emissions_gt_110k  \n",
       "0              False  \n",
       "1              False  \n",
       "2              False  \n",
       "3              False  \n",
       "4              False  "
      ]
     },
     "execution_count": 183,
     "metadata": {},
     "output_type": "execute_result"
    }
   ],
   "source": [
    "co2_data_df.head()"
   ]
  },
  {
   "cell_type": "code",
   "execution_count": 184,
   "metadata": {},
   "outputs": [
    {
     "name": "stdout",
     "output_type": "stream",
     "text": [
      "<class 'pandas.core.frame.DataFrame'>\n",
      "RangeIndex: 23171 entries, 0 to 23170\n",
      "Data columns (total 17 columns):\n",
      " #   Column                            Non-Null Count  Dtype  \n",
      "---  ------                            --------------  -----  \n",
      " 0   region_name                       23171 non-null  object \n",
      " 1   iso_code                          20440 non-null  object \n",
      " 2   country                           23171 non-null  object \n",
      " 3   year                              23171 non-null  object \n",
      " 4   annual_co2_prod_Megaton           23171 non-null  float64\n",
      " 5   primary_energy_consumption_10Gwh  23171 non-null  float64\n",
      " 6   population                        23171 non-null  float64\n",
      " 7   gdp                               23171 non-null  float64\n",
      " 8   Value_agri_1000hectare            23171 non-null  float64\n",
      " 9   Value_beef_tonnes                 23171 non-null  float64\n",
      " 10  energy_isnan                      23171 non-null  bool   \n",
      " 11  gdp_isnan                         23171 non-null  bool   \n",
      " 12  population_isnan                  23171 non-null  bool   \n",
      " 13  argi_isnan                        23171 non-null  bool   \n",
      " 14  beef_isnan                        23171 non-null  bool   \n",
      " 15  emissions_gt_70k                  23171 non-null  bool   \n",
      " 16  emissions_gt_110k                 23171 non-null  bool   \n",
      "dtypes: bool(7), float64(6), object(4)\n",
      "memory usage: 1.9+ MB\n"
     ]
    }
   ],
   "source": [
    "co2_data_df.info()"
   ]
  },
  {
   "cell_type": "code",
   "execution_count": 185,
   "metadata": {},
   "outputs": [
    {
     "data": {
      "text/html": [
       "<div>\n",
       "<style scoped>\n",
       "    .dataframe tbody tr th:only-of-type {\n",
       "        vertical-align: middle;\n",
       "    }\n",
       "\n",
       "    .dataframe tbody tr th {\n",
       "        vertical-align: top;\n",
       "    }\n",
       "\n",
       "    .dataframe thead th {\n",
       "        text-align: right;\n",
       "    }\n",
       "</style>\n",
       "<table border=\"1\" class=\"dataframe\">\n",
       "  <thead>\n",
       "    <tr style=\"text-align: right;\">\n",
       "      <th></th>\n",
       "      <th>annual_co2_prod_Megaton</th>\n",
       "      <th>primary_energy_consumption_10Gwh</th>\n",
       "      <th>population</th>\n",
       "      <th>gdp</th>\n",
       "      <th>Value_agri_1000hectare</th>\n",
       "      <th>Value_beef_tonnes</th>\n",
       "    </tr>\n",
       "  </thead>\n",
       "  <tbody>\n",
       "    <tr>\n",
       "      <th>count</th>\n",
       "      <td>23171.000000</td>\n",
       "      <td>23171.000000</td>\n",
       "      <td>2.317100e+04</td>\n",
       "      <td>2.317100e+04</td>\n",
       "      <td>2.317100e+04</td>\n",
       "      <td>2.317100e+04</td>\n",
       "    </tr>\n",
       "    <tr>\n",
       "      <th>mean</th>\n",
       "      <td>270.234760</td>\n",
       "      <td>427.340898</td>\n",
       "      <td>5.377207e+07</td>\n",
       "      <td>2.466605e+11</td>\n",
       "      <td>3.110576e+04</td>\n",
       "      <td>3.152261e+05</td>\n",
       "    </tr>\n",
       "    <tr>\n",
       "      <th>std</th>\n",
       "      <td>1509.880287</td>\n",
       "      <td>4988.785806</td>\n",
       "      <td>3.561507e+08</td>\n",
       "      <td>2.755277e+12</td>\n",
       "      <td>2.586929e+05</td>\n",
       "      <td>2.907625e+06</td>\n",
       "    </tr>\n",
       "    <tr>\n",
       "      <th>min</th>\n",
       "      <td>-1.165000</td>\n",
       "      <td>0.000000</td>\n",
       "      <td>0.000000e+00</td>\n",
       "      <td>0.000000e+00</td>\n",
       "      <td>0.000000e+00</td>\n",
       "      <td>0.000000e+00</td>\n",
       "    </tr>\n",
       "    <tr>\n",
       "      <th>25%</th>\n",
       "      <td>0.546000</td>\n",
       "      <td>0.000000</td>\n",
       "      <td>5.210860e+05</td>\n",
       "      <td>0.000000e+00</td>\n",
       "      <td>0.000000e+00</td>\n",
       "      <td>0.000000e+00</td>\n",
       "    </tr>\n",
       "    <tr>\n",
       "      <th>50%</th>\n",
       "      <td>5.170000</td>\n",
       "      <td>0.000000</td>\n",
       "      <td>3.937048e+06</td>\n",
       "      <td>3.365131e+09</td>\n",
       "      <td>0.000000e+00</td>\n",
       "      <td>0.000000e+00</td>\n",
       "    </tr>\n",
       "    <tr>\n",
       "      <th>75%</th>\n",
       "      <td>44.785000</td>\n",
       "      <td>11.387500</td>\n",
       "      <td>1.349560e+07</td>\n",
       "      <td>3.919910e+10</td>\n",
       "      <td>2.032500e+03</td>\n",
       "      <td>1.661550e+04</td>\n",
       "    </tr>\n",
       "    <tr>\n",
       "      <th>max</th>\n",
       "      <td>36441.388000</td>\n",
       "      <td>153848.433000</td>\n",
       "      <td>7.713468e+09</td>\n",
       "      <td>1.065610e+14</td>\n",
       "      <td>4.882180e+06</td>\n",
       "      <td>7.160131e+07</td>\n",
       "    </tr>\n",
       "  </tbody>\n",
       "</table>\n",
       "</div>"
      ],
      "text/plain": [
       "       annual_co2_prod_Megaton  primary_energy_consumption_10Gwh  \\\n",
       "count             23171.000000                      23171.000000   \n",
       "mean                270.234760                        427.340898   \n",
       "std                1509.880287                       4988.785806   \n",
       "min                  -1.165000                          0.000000   \n",
       "25%                   0.546000                          0.000000   \n",
       "50%                   5.170000                          0.000000   \n",
       "75%                  44.785000                         11.387500   \n",
       "max               36441.388000                     153848.433000   \n",
       "\n",
       "         population           gdp  Value_agri_1000hectare  Value_beef_tonnes  \n",
       "count  2.317100e+04  2.317100e+04            2.317100e+04       2.317100e+04  \n",
       "mean   5.377207e+07  2.466605e+11            3.110576e+04       3.152261e+05  \n",
       "std    3.561507e+08  2.755277e+12            2.586929e+05       2.907625e+06  \n",
       "min    0.000000e+00  0.000000e+00            0.000000e+00       0.000000e+00  \n",
       "25%    5.210860e+05  0.000000e+00            0.000000e+00       0.000000e+00  \n",
       "50%    3.937048e+06  3.365131e+09            0.000000e+00       0.000000e+00  \n",
       "75%    1.349560e+07  3.919910e+10            2.032500e+03       1.661550e+04  \n",
       "max    7.713468e+09  1.065610e+14            4.882180e+06       7.160131e+07  "
      ]
     },
     "execution_count": 185,
     "metadata": {},
     "output_type": "execute_result"
    }
   ],
   "source": [
    "co2_data_df.describe()"
   ]
  },
  {
   "cell_type": "code",
   "execution_count": 186,
   "metadata": {},
   "outputs": [],
   "source": [
    "# future works:\n",
    "# add columns relate countries to developed and undeveloped\n",
    "# add columns relate countries to region/continent\n",
    "# try Ridge, Lasso models, understant regulartions"
   ]
  },
  {
   "cell_type": "markdown",
   "metadata": {},
   "source": [
    "## 3.4 Simple Linear regression"
   ]
  },
  {
   "cell_type": "markdown",
   "metadata": {},
   "source": [
    "### 2.3.1 Prepare dataset"
   ]
  },
  {
   "cell_type": "code",
   "execution_count": 187,
   "metadata": {},
   "outputs": [],
   "source": [
    "# Define results dictionary\n",
    "results = {}"
   ]
  },
  {
   "cell_type": "code",
   "execution_count": 188,
   "metadata": {},
   "outputs": [
    {
     "name": "stdout",
     "output_type": "stream",
     "text": [
      "[['Other' 'AFG' 'Afghanistan' ... True False False]\n",
      " ['Other' 'AFG' 'Afghanistan' ... True False False]\n",
      " ['Other' 'AFG' 'Afghanistan' ... True False False]\n",
      " ...\n",
      " ['Africa' 'ZWE' 'Zimbabwe' ... False False False]\n",
      " ['Africa' 'ZWE' 'Zimbabwe' ... False False False]\n",
      " ['Africa' 'ZWE' 'Zimbabwe' ... True False False]] \n",
      " [ 0.015  0.084  0.092 ... 10.247 11.341 10.374]\n"
     ]
    }
   ],
   "source": [
    "# Create target feature set\n",
    "x_set = co2_data_df.drop(['annual_co2_prod_Megaton'],axis=1).values\n",
    "y_set = co2_data_df['annual_co2_prod_Megaton'].values\n",
    "print(x_set,'\\n',y_set)"
   ]
  },
  {
   "cell_type": "code",
   "execution_count": 189,
   "metadata": {},
   "outputs": [],
   "source": [
    "# Create training set and test set\n",
    "x_set_train,x_set_test,y_set_train,y_set_test = train_test_split(x_set,y_set,test_size=0.3,random_state=47)"
   ]
  },
  {
   "cell_type": "markdown",
   "metadata": {},
   "source": [
    "### 2.3.2 Univariate linear regression"
   ]
  },
  {
   "cell_type": "code",
   "execution_count": 190,
   "metadata": {},
   "outputs": [
    {
     "name": "stdout",
     "output_type": "stream",
     "text": [
      "[[0.]\n",
      " [0.]\n",
      " [0.]\n",
      " ...\n",
      " [0.]\n",
      " [0.]\n",
      " [0.]] \n",
      "\n",
      "\n",
      " [[ 0.015]\n",
      " [ 0.084]\n",
      " [ 0.092]\n",
      " ...\n",
      " [10.247]\n",
      " [11.341]\n",
      " [10.374]]\n"
     ]
    }
   ],
   "source": [
    "# prepare data\n",
    "\"\"\" \n",
    "x: regressor; y: predictor \n",
    "reshape: make it two dimentional - one column and many rows, y can also be 2 dimensional\n",
    "\"\"\"\n",
    "x_var_1 = np.array(co2_data_df['primary_energy_consumption_10Gwh']).reshape((-1, 1))\n",
    "y_var_1 = np.array(co2_data_df['annual_co2_prod_Megaton']).reshape((-1, 1))\n",
    "print(x_var_1,'\\n\\n\\n',y_var_1)\n",
    "x_var_1_train,x_var_1_test,y_var_1_train,y_var_1_test = train_test_split(x_var_1,y_var_1,test_size=0.3,random_state=47)"
   ]
  },
  {
   "cell_type": "code",
   "execution_count": 191,
   "metadata": {},
   "outputs": [
    {
     "data": {
      "text/plain": [
       "LinearRegression()"
      ]
     },
     "execution_count": 191,
     "metadata": {},
     "output_type": "execute_result"
    }
   ],
   "source": [
    "# train the model and predict\n",
    "# create a univariate model and fit it\n",
    "ml_var_1 = LinearRegression()\n",
    "ml_var_1.fit(x_var_1_train, y_var_1_train)"
   ]
  },
  {
   "cell_type": "code",
   "execution_count": 192,
   "metadata": {},
   "outputs": [],
   "source": [
    "# predict the test set results"
   ]
  },
  {
   "cell_type": "code",
   "execution_count": 193,
   "metadata": {},
   "outputs": [
    {
     "name": "stdout",
     "output_type": "stream",
     "text": [
      "[[168.63693617]\n",
      " [192.50998044]\n",
      " [168.63693617]\n",
      " ...\n",
      " [177.15674099]\n",
      " [168.63693617]\n",
      " [168.63693617]]\n"
     ]
    }
   ],
   "source": [
    "y_var_1_pred = ml_var_1.predict(x_var_1_test)\n",
    "print(y_var_1_pred)"
   ]
  },
  {
   "cell_type": "code",
   "execution_count": 194,
   "metadata": {},
   "outputs": [
    {
     "data": {
      "text/plain": [
       "year                       2016-01-01\n",
       "annual_co2_prod_Megaton        39.193\n",
       "Name: 20000, dtype: object"
      ]
     },
     "execution_count": 194,
     "metadata": {},
     "output_type": "execute_result"
    }
   ],
   "source": [
    "co2_data_df.iloc[20000,3:5]"
   ]
  },
  {
   "cell_type": "code",
   "execution_count": 195,
   "metadata": {},
   "outputs": [
    {
     "data": {
      "text/plain": [
       "array([[174.8678277]])"
      ]
     },
     "execution_count": 195,
     "metadata": {},
     "output_type": "execute_result"
    }
   ],
   "source": [
    "ml_var_1.predict([[26.566]])"
   ]
  },
  {
   "cell_type": "code",
   "execution_count": 196,
   "metadata": {},
   "outputs": [
    {
     "name": "stdout",
     "output_type": "stream",
     "text": [
      "0.6813818514447589\n"
     ]
    }
   ],
   "source": [
    "# Evaluate the model & visualize the results\n",
    "# calculate r2\n",
    "ml_var_1_r2 = r2_score(y_var_1_test,y_var_1_pred)\n",
    "print(ml_var_1_r2)"
   ]
  },
  {
   "cell_type": "code",
   "execution_count": 197,
   "metadata": {},
   "outputs": [
    {
     "data": {
      "text/html": [
       "<div>\n",
       "<style scoped>\n",
       "    .dataframe tbody tr th:only-of-type {\n",
       "        vertical-align: middle;\n",
       "    }\n",
       "\n",
       "    .dataframe tbody tr th {\n",
       "        vertical-align: top;\n",
       "    }\n",
       "\n",
       "    .dataframe thead th {\n",
       "        text-align: right;\n",
       "    }\n",
       "</style>\n",
       "<table border=\"1\" class=\"dataframe\">\n",
       "  <thead>\n",
       "    <tr style=\"text-align: right;\">\n",
       "      <th></th>\n",
       "      <th>r2</th>\n",
       "      <th>rmse</th>\n",
       "      <th>coef</th>\n",
       "      <th>incpt</th>\n",
       "      <th>model</th>\n",
       "      <th>features</th>\n",
       "      <th>description</th>\n",
       "    </tr>\n",
       "  </thead>\n",
       "  <tbody>\n",
       "    <tr>\n",
       "      <th>0</th>\n",
       "      <td>0.681382</td>\n",
       "      <td>922.819914</td>\n",
       "      <td>[[0.23454383520784683]]</td>\n",
       "      <td>[168.6369361718422]</td>\n",
       "      <td>LinearRegression</td>\n",
       "      <td>[primary_energy_consumption_10Gwh]</td>\n",
       "      <td>Univariate(fea=1,var=1)</td>\n",
       "    </tr>\n",
       "  </tbody>\n",
       "</table>\n",
       "</div>"
      ],
      "text/plain": [
       "         r2        rmse                     coef                incpt  \\\n",
       "0  0.681382  922.819914  [[0.23454383520784683]]  [168.6369361718422]   \n",
       "\n",
       "              model                            features  \\\n",
       "0  LinearRegression  [primary_energy_consumption_10Gwh]   \n",
       "\n",
       "               description  \n",
       "0  Univariate(fea=1,var=1)  "
      ]
     },
     "execution_count": 197,
     "metadata": {},
     "output_type": "execute_result"
    }
   ],
   "source": [
    "# add results to hypertable\n",
    "results = {}\n",
    "results['r2'] = ml_var_1_r2\n",
    "results['rmse'] = rmse(y_var_1_test,y_var_1_pred)\n",
    "results['coef'] = ml_var_1.coef_\n",
    "results['incpt'] = ml_var_1.intercept_                       \n",
    "results['model'] = ml_var_1.__class__.__name__\n",
    "results['features'] = ['primary_energy_consumption_10Gwh']\n",
    "results['description'] = 'Univariate(fea=1,var=1)'\n",
    "                       \n",
    "hypertable.extend([results])\n",
    "pd.DataFrame(hypertable)"
   ]
  },
  {
   "cell_type": "code",
   "execution_count": 198,
   "metadata": {},
   "outputs": [
    {
     "data": {
      "image/png": "[encoded data removed]",
      "text/plain": [
       "<Figure size 1008x288 with 2 Axes>"
      ]
     },
     "metadata": {
      "needs_background": "light"
     },
     "output_type": "display_data"
    }
   ],
   "source": [
    "#plot the results\n",
    "plt.figure(figsize=(14,4))\n",
    "\n",
    "plt.subplot(121)\n",
    "plt.scatter(x=y_var_1_test,y=y_var_1_pred-y_var_1_test,alpha=0.6)\n",
    "plt.xlabel('true emissions (megaton)')\n",
    "plt.ylabel('pred-true (megaton)')\n",
    "plt.title('Error vs. True emissions')\n",
    "plt.grid('on')\n",
    "\n",
    "plt.subplot(122)\n",
    "plt.scatter(x=x_var_1_test,y=y_var_1_pred-y_var_1_test,alpha=0.6)\n",
    "plt.xlabel('energy consumption (10Gwh)')\n",
    "plt.ylabel('pred-true (megaton)')\n",
    "plt.title('Error vs. True energy consumption')\n",
    "plt.grid('on')"
   ]
  },
  {
   "cell_type": "code",
   "execution_count": 199,
   "metadata": {},
   "outputs": [],
   "source": [
    "# plt.figure(figsize=(8,6))\n",
    "# plt.scatter(x_var_1_test, y_var_1_test, color='green', label='test_set',alpha=0.6)\n",
    "# plt.plot(x_var_1_test,y_var_1_pred,color='red', label='train_result')\n",
    "# plt.legend()\n",
    "# plt.xlabel('Energy Consumption')\n",
    "# plt.ylabel('CO2 Production')\n",
    "# plt.title('Linear Regression Results')"
   ]
  },
  {
   "cell_type": "markdown",
   "metadata": {},
   "source": [
    "## 2.4 Save the data "
   ]
  },
  {
   "cell_type": "code",
   "execution_count": 200,
   "metadata": {},
   "outputs": [
    {
     "name": "stdout",
     "output_type": "stream",
     "text": [
      "A file already exists with this name.\n",
      "\n",
      "Do you want to overwrite? (Y/N)Y\n",
      "Writing file.  \"../data/co2_data_updated.csv\"\n"
     ]
    }
   ],
   "source": [
    "# save the data to a new csv file\n",
    "datapath = '../data'\n",
    "save_file(co2_data_df, 'co2_data_updated.csv', datapath)"
   ]
  },
  {
   "cell_type": "code",
   "execution_count": 201,
   "metadata": {},
   "outputs": [],
   "source": [
    "# !!! (residue plot => feature engi.)\n",
    "# !!! any insight i can gain from this porject, talk about coeff. of my model."
   ]
  }
 ],
 "metadata": {
  "kernelspec": {
   "display_name": "Python 3",
   "language": "python",
   "name": "python3"
  },
  "language_info": {
   "codemirror_mode": {
    "name": "ipython",
    "version": 3
   },
   "file_extension": ".py",
   "mimetype": "text/x-python",
   "name": "python",
   "nbconvert_exporter": "python",
   "pygments_lexer": "ipython3",
   "version": "3.8.5"
  }
 },
 "nbformat": 4,
 "nbformat_minor": 2
}
