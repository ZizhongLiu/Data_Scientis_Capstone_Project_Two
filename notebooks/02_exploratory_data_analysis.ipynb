{
 "cells": [
  {
   "cell_type": "markdown",
   "metadata": {
    "papermill": {
     "duration": 0.036427,
     "end_time": "2020-10-07T18:26:48.894692",
     "exception": false,
     "start_time": "2020-10-07T18:26:48.858265",
     "status": "completed"
    },
    "tags": []
   },
   "source": [
    "# 2 Exploratory Data Analysis"
   ]
  },
  {
   "cell_type": "markdown",
   "metadata": {},
   "source": [
    "## 2.1 Introduction"
   ]
  },
  {
   "cell_type": "markdown",
   "metadata": {},
   "source": [
    "During this step of your capstone, you'll become familiar with the features of your dataset, investigate the relationships between features, and begin to understand the core characteristics of your data. Tap into your creativity and consider using different figures and plots to deepen this understanding."
   ]
  },
  {
   "cell_type": "markdown",
   "metadata": {},
   "source": [
    "## 2.2 Imports"
   ]
  },
  {
   "cell_type": "code",
   "execution_count": 2,
   "metadata": {
    "execution": {
     "iopub.execute_input": "2020-10-07T18:26:48.969190Z",
     "iopub.status.busy": "2020-10-07T18:26:48.968466Z",
     "iopub.status.idle": "2020-10-07T18:26:50.073557Z",
     "shell.execute_reply": "2020-10-07T18:26:50.072830Z"
    },
    "papermill": {
     "duration": 1.144223,
     "end_time": "2020-10-07T18:26:50.073679",
     "exception": false,
     "start_time": "2020-10-07T18:26:48.929456",
     "status": "completed"
    },
    "tags": []
   },
   "outputs": [],
   "source": [
    "import pandas as pd\n",
    "import numpy as np\n",
    "import matplotlib.pyplot as plt\n",
    "import seaborn as sns"
   ]
  },
  {
   "cell_type": "code",
   "execution_count": 3,
   "metadata": {},
   "outputs": [],
   "source": [
    "co2_data_df = pd.read_csv('../data/co2_data_cleaned.csv')"
   ]
  },
  {
   "cell_type": "code",
   "execution_count": 4,
   "metadata": {},
   "outputs": [
    {
     "data": {
      "text/html": [
       "<div>\n",
       "<style scoped>\n",
       "    .dataframe tbody tr th:only-of-type {\n",
       "        vertical-align: middle;\n",
       "    }\n",
       "\n",
       "    .dataframe tbody tr th {\n",
       "        vertical-align: top;\n",
       "    }\n",
       "\n",
       "    .dataframe thead th {\n",
       "        text-align: right;\n",
       "    }\n",
       "</style>\n",
       "<table border=\"1\" class=\"dataframe\">\n",
       "  <thead>\n",
       "    <tr style=\"text-align: right;\">\n",
       "      <th></th>\n",
       "      <th>iso_code</th>\n",
       "      <th>country</th>\n",
       "      <th>year</th>\n",
       "      <th>annual_co2_prod_Megaton</th>\n",
       "      <th>primary_energy_consumption_10Gwh</th>\n",
       "      <th>population</th>\n",
       "      <th>gdp</th>\n",
       "      <th>Unit_argi</th>\n",
       "      <th>Value_agri_1000hectare</th>\n",
       "      <th>Unit_beef</th>\n",
       "      <th>Value_beef_tonnes</th>\n",
       "    </tr>\n",
       "  </thead>\n",
       "  <tbody>\n",
       "    <tr>\n",
       "      <td>0</td>\n",
       "      <td>AFG</td>\n",
       "      <td>Afghanistan</td>\n",
       "      <td>1949-01-01</td>\n",
       "      <td>0.015</td>\n",
       "      <td>NaN</td>\n",
       "      <td>7663783.0</td>\n",
       "      <td>NaN</td>\n",
       "      <td>NaN</td>\n",
       "      <td>NaN</td>\n",
       "      <td>NaN</td>\n",
       "      <td>NaN</td>\n",
       "    </tr>\n",
       "    <tr>\n",
       "      <td>1</td>\n",
       "      <td>AFG</td>\n",
       "      <td>Afghanistan</td>\n",
       "      <td>1950-01-01</td>\n",
       "      <td>0.084</td>\n",
       "      <td>NaN</td>\n",
       "      <td>7752000.0</td>\n",
       "      <td>1.949480e+10</td>\n",
       "      <td>NaN</td>\n",
       "      <td>NaN</td>\n",
       "      <td>NaN</td>\n",
       "      <td>NaN</td>\n",
       "    </tr>\n",
       "    <tr>\n",
       "      <td>2</td>\n",
       "      <td>AFG</td>\n",
       "      <td>Afghanistan</td>\n",
       "      <td>1951-01-01</td>\n",
       "      <td>0.092</td>\n",
       "      <td>NaN</td>\n",
       "      <td>7840000.0</td>\n",
       "      <td>2.006385e+10</td>\n",
       "      <td>NaN</td>\n",
       "      <td>NaN</td>\n",
       "      <td>NaN</td>\n",
       "      <td>NaN</td>\n",
       "    </tr>\n",
       "    <tr>\n",
       "      <td>3</td>\n",
       "      <td>AFG</td>\n",
       "      <td>Afghanistan</td>\n",
       "      <td>1952-01-01</td>\n",
       "      <td>0.092</td>\n",
       "      <td>NaN</td>\n",
       "      <td>7936000.0</td>\n",
       "      <td>2.074235e+10</td>\n",
       "      <td>NaN</td>\n",
       "      <td>NaN</td>\n",
       "      <td>NaN</td>\n",
       "      <td>NaN</td>\n",
       "    </tr>\n",
       "    <tr>\n",
       "      <td>4</td>\n",
       "      <td>AFG</td>\n",
       "      <td>Afghanistan</td>\n",
       "      <td>1953-01-01</td>\n",
       "      <td>0.106</td>\n",
       "      <td>NaN</td>\n",
       "      <td>8040000.0</td>\n",
       "      <td>2.201546e+10</td>\n",
       "      <td>NaN</td>\n",
       "      <td>NaN</td>\n",
       "      <td>NaN</td>\n",
       "      <td>NaN</td>\n",
       "    </tr>\n",
       "  </tbody>\n",
       "</table>\n",
       "</div>"
      ],
      "text/plain": [
       "  iso_code      country        year  annual_co2_prod_Megaton  \\\n",
       "0      AFG  Afghanistan  1949-01-01                    0.015   \n",
       "1      AFG  Afghanistan  1950-01-01                    0.084   \n",
       "2      AFG  Afghanistan  1951-01-01                    0.092   \n",
       "3      AFG  Afghanistan  1952-01-01                    0.092   \n",
       "4      AFG  Afghanistan  1953-01-01                    0.106   \n",
       "\n",
       "   primary_energy_consumption_10Gwh  population           gdp Unit_argi  \\\n",
       "0                               NaN   7663783.0           NaN       NaN   \n",
       "1                               NaN   7752000.0  1.949480e+10       NaN   \n",
       "2                               NaN   7840000.0  2.006385e+10       NaN   \n",
       "3                               NaN   7936000.0  2.074235e+10       NaN   \n",
       "4                               NaN   8040000.0  2.201546e+10       NaN   \n",
       "\n",
       "   Value_agri_1000hectare Unit_beef  Value_beef_tonnes  \n",
       "0                     NaN       NaN                NaN  \n",
       "1                     NaN       NaN                NaN  \n",
       "2                     NaN       NaN                NaN  \n",
       "3                     NaN       NaN                NaN  \n",
       "4                     NaN       NaN                NaN  "
      ]
     },
     "execution_count": 4,
     "metadata": {},
     "output_type": "execute_result"
    }
   ],
   "source": [
    "co2_data_df.head()"
   ]
  },
  {
   "cell_type": "code",
   "execution_count": 5,
   "metadata": {
    "execution": {
     "iopub.execute_input": "2020-10-07T18:26:50.266781Z",
     "iopub.status.busy": "2020-10-07T18:26:50.266056Z",
     "iopub.status.idle": "2020-10-07T18:26:50.270337Z",
     "shell.execute_reply": "2020-10-07T18:26:50.269848Z"
    },
    "papermill": {
     "duration": 0.048397,
     "end_time": "2020-10-07T18:26:50.270462",
     "exception": false,
     "start_time": "2020-10-07T18:26:50.222065",
     "status": "completed"
    },
    "tags": []
   },
   "outputs": [
    {
     "data": {
      "text/plain": [
       "(23171, 11)"
      ]
     },
     "execution_count": 5,
     "metadata": {},
     "output_type": "execute_result"
    }
   ],
   "source": [
    "co2_data_df.shape"
   ]
  },
  {
   "cell_type": "code",
   "execution_count": 6,
   "metadata": {
    "execution": {
     "iopub.execute_input": "2020-10-07T18:26:50.450667Z",
     "iopub.status.busy": "2020-10-07T18:26:50.446690Z",
     "iopub.status.idle": "2020-10-07T18:26:50.467178Z",
     "shell.execute_reply": "2020-10-07T18:26:50.466534Z"
    },
    "papermill": {
     "duration": 0.06154,
     "end_time": "2020-10-07T18:26:50.467292",
     "exception": false,
     "start_time": "2020-10-07T18:26:50.405752",
     "status": "completed"
    },
    "tags": []
   },
   "outputs": [
    {
     "name": "stdout",
     "output_type": "stream",
     "text": [
      "<class 'pandas.core.frame.DataFrame'>\n",
      "RangeIndex: 23171 entries, 0 to 23170\n",
      "Data columns (total 11 columns):\n",
      "iso_code                            20440 non-null object\n",
      "country                             23171 non-null object\n",
      "year                                23171 non-null object\n",
      "annual_co2_prod_Megaton             23171 non-null float64\n",
      "primary_energy_consumption_10Gwh    6045 non-null float64\n",
      "population                          20583 non-null float64\n",
      "gdp                                 12973 non-null float64\n",
      "Unit_argi                           9818 non-null object\n",
      "Value_agri_1000hectare              9818 non-null float64\n",
      "Unit_beef                           9377 non-null object\n",
      "Value_beef_tonnes                   9377 non-null float64\n",
      "dtypes: float64(6), object(5)\n",
      "memory usage: 1.9+ MB\n"
     ]
    }
   ],
   "source": [
    "co2_data_df.info()"
   ]
  },
  {
   "cell_type": "code",
   "execution_count": 7,
   "metadata": {},
   "outputs": [
    {
     "data": {
      "text/plain": [
       "array(['AFG', nan, 'ALB', 'DZA', 'AND', 'AGO', 'AIA', 'ATG', 'ARG', 'ARM',\n",
       "       'ABW', 'AUS', 'AUT', 'AZE', 'BHS', 'BHR', 'BGD', 'BRB', 'BLR',\n",
       "       'BEL', 'BLZ', 'BEN', 'BMU', 'BTN', 'BOL', 'BES', 'BIH', 'BWA',\n",
       "       'BRA', 'VGB', 'BRN', 'BGR', 'BFA', 'BDI', 'KHM', 'CMR', 'CAN',\n",
       "       'CPV', 'CAF', 'TCD', 'CHL', 'CHN', 'CXR', 'COL', 'COM', 'COG',\n",
       "       'COK', 'CRI', 'HRV', 'CUB', 'CYP', 'CZE', 'COD', 'DNK', 'DJI',\n",
       "       'DMA', 'DOM', 'ECU', 'EGY', 'SLV', 'GNQ', 'ERI', 'EST', 'SWZ',\n",
       "       'ETH', 'FRO', 'FJI', 'FIN', 'FRA', 'PYF', 'GAB', 'GMB', 'GEO',\n",
       "       'DEU', 'GHA', 'GRC', 'GRL', 'GRD', 'GTM', 'GIN', 'GNB', 'GUY',\n",
       "       'HTI', 'HND', 'HKG', 'HUN', 'ISL', 'IND', 'IDN', 'IRN', 'IRQ',\n",
       "       'IRL', 'ISR', 'ITA', 'JAM', 'JPN', 'JOR', 'KAZ', 'KEN', 'KIR',\n",
       "       'OWID_KOS', 'KWT', 'KGZ', 'LAO', 'LVA', 'LBN', 'LSO', 'LBR', 'LBY',\n",
       "       'LIE', 'LTU', 'LUX', 'MDG', 'MWI', 'MYS', 'MDV', 'MLI', 'MLT',\n",
       "       'MHL', 'MRT', 'MUS', 'MEX', 'MDA', 'MNG', 'MNE', 'MSR', 'MAR',\n",
       "       'MOZ', 'MMR', 'NAM', 'NRU', 'NPL', 'NLD', 'NCL', 'NZL', 'NIC',\n",
       "       'NER', 'NGA', 'NIU', 'PRK', 'MKD', 'NOR', 'OMN', 'PAK', 'PSE',\n",
       "       'PAN', 'PNG', 'PRY', 'PER', 'PHL', 'POL', 'PRT', 'PRI', 'QAT',\n",
       "       'ROU', 'RUS', 'RWA', 'SHN', 'KNA', 'LCA', 'SPM', 'VCT', 'WSM',\n",
       "       'STP', 'SAU', 'SEN', 'SRB', 'SYC', 'SLE', 'SGP', 'SXM', 'SVK',\n",
       "       'SVN', 'SLB', 'SOM', 'ZAF', 'KOR', 'SSD', 'ESP', 'LKA', 'SDN',\n",
       "       'SUR', 'SWE', 'CHE', 'SYR', 'TWN', 'TJK', 'TZA', 'THA', 'TLS',\n",
       "       'TGO', 'TON', 'TTO', 'TUN', 'TUR', 'TKM', 'TCA', 'TUV', 'UGA',\n",
       "       'UKR', 'ARE', 'GBR', 'USA', 'URY', 'UZB', 'VUT', 'VEN', 'VNM',\n",
       "       'WLF', 'OWID_WRL', 'YEM', 'ZMB', 'ZWE'], dtype=object)"
      ]
     },
     "execution_count": 7,
     "metadata": {},
     "output_type": "execute_result"
    }
   ],
   "source": [
    "co2_data_df.iso_code.unique()"
   ]
  },
  {
   "cell_type": "code",
   "execution_count": 8,
   "metadata": {
    "execution": {
     "iopub.execute_input": "2020-10-07T18:26:50.983667Z",
     "iopub.status.busy": "2020-10-07T18:26:50.983073Z",
     "iopub.status.idle": "2020-10-07T18:26:50.988615Z",
     "shell.execute_reply": "2020-10-07T18:26:50.988017Z"
    },
    "papermill": {
     "duration": 0.04851,
     "end_time": "2020-10-07T18:26:50.988720",
     "exception": false,
     "start_time": "2020-10-07T18:26:50.940210",
     "status": "completed"
    },
    "tags": []
   },
   "outputs": [
    {
     "data": {
      "text/plain": [
       "array(['Afghanistan', 'Africa', 'Albania', 'Algeria', 'Andorra', 'Angola',\n",
       "       'Anguilla', 'Antigua and Barbuda', 'Argentina', 'Armenia', 'Aruba',\n",
       "       'Asia', 'Asia (excl. China & India)', 'Australia', 'Austria',\n",
       "       'Azerbaijan', 'Bahamas', 'Bahrain', 'Bangladesh', 'Barbados',\n",
       "       'Belarus', 'Belgium', 'Belize', 'Benin', 'Bermuda', 'Bhutan',\n",
       "       'Bolivia', 'Bonaire Sint Eustatius and Saba',\n",
       "       'Bosnia and Herzegovina', 'Botswana', 'Brazil',\n",
       "       'British Virgin Islands', 'Brunei', 'Bulgaria', 'Burkina Faso',\n",
       "       'Burundi', 'Cambodia', 'Cameroon', 'Canada', 'Cape Verde',\n",
       "       'Central African Republic', 'Chad', 'Chile', 'China',\n",
       "       'Christmas Island', 'Colombia', 'Comoros', 'Congo', 'Cook Islands',\n",
       "       'Costa Rica', 'Croatia', 'Cuba', 'Cyprus', 'Czechia',\n",
       "       'Democratic Republic of Congo', 'Denmark', 'Djibouti', 'Dominica',\n",
       "       'Dominican Republic', 'EU-27', 'EU-28', 'Ecuador', 'Egypt',\n",
       "       'El Salvador', 'Equatorial Guinea', 'Eritrea', 'Estonia',\n",
       "       'Eswatini', 'Ethiopia', 'Europe', 'Europe (excl. EU-27)',\n",
       "       'Europe (excl. EU-28)', 'Faeroe Islands', 'Fiji', 'Finland',\n",
       "       'France', 'French Equatorial Africa', 'French Polynesia',\n",
       "       'French West Africa', 'Gabon', 'Gambia', 'Georgia', 'Germany',\n",
       "       'Ghana', 'Greece', 'Greenland', 'Grenada', 'Guatemala', 'Guinea',\n",
       "       'Guinea-Bissau', 'Guyana', 'Haiti', 'Honduras', 'Hong Kong',\n",
       "       'Hungary', 'Iceland', 'India', 'Indonesia',\n",
       "       'International transport', 'Iran', 'Iraq', 'Ireland', 'Israel',\n",
       "       'Italy', 'Jamaica', 'Japan', 'Jordan', 'Kazakhstan', 'Kenya',\n",
       "       'Kiribati', 'Kosovo', 'Kuwait', 'Kuwaiti Oil Fires', 'Kyrgyzstan',\n",
       "       'Laos', 'Latvia', 'Lebanon', 'Leeward Islands', 'Lesotho',\n",
       "       'Liberia', 'Libya', 'Liechtenstein', 'Lithuania', 'Luxembourg',\n",
       "       'Macao', 'Madagascar', 'Malawi', 'Malaysia', 'Maldives', 'Mali',\n",
       "       'Malta', 'Marshall Islands', 'Mauritania', 'Mauritius', 'Mexico',\n",
       "       'Micronesia', 'Moldova', 'Mongolia', 'Montenegro', 'Montserrat',\n",
       "       'Morocco', 'Mozambique', 'Myanmar', 'Namibia', 'Nauru', 'Nepal',\n",
       "       'Netherlands', 'New Caledonia', 'New Zealand', 'Nicaragua',\n",
       "       'Niger', 'Nigeria', 'Niue', 'North America',\n",
       "       'North America (excl. USA)', 'North Korea', 'North Macedonia',\n",
       "       'Norway', 'Oceania', 'Oman', 'Pakistan', 'Palestine', 'Panama',\n",
       "       'Panama Canal Zone', 'Papua New Guinea', 'Paraguay', 'Peru',\n",
       "       'Philippines', 'Poland', 'Portugal', 'Puerto Rico', 'Qatar',\n",
       "       'Romania', 'Russia', 'Rwanda', 'Ryukyu Islands', 'Saint Helena',\n",
       "       'Saint Kitts and Nevis', 'Saint Lucia',\n",
       "       'Saint Pierre and Miquelon', 'Saint Vincent and the Grenadines',\n",
       "       'Samoa', 'Sao Tome and Principe', 'Saudi Arabia', 'Senegal',\n",
       "       'Serbia', 'Seychelles', 'Sierra Leone', 'Singapore',\n",
       "       'Sint Maarten (Dutch part)', 'Slovakia', 'Slovenia',\n",
       "       'Solomon Islands', 'Somalia', 'South Africa', 'South America',\n",
       "       'South Korea', 'South Sudan', 'Spain', 'Sri Lanka',\n",
       "       'St. Kitts-Nevis-Anguilla', 'Sudan', 'Suriname', 'Sweden',\n",
       "       'Switzerland', 'Syria', 'Taiwan', 'Tajikistan', 'Tanzania',\n",
       "       'Thailand', 'Timor', 'Togo', 'Tonga', 'Trinidad and Tobago',\n",
       "       'Tunisia', 'Turkey', 'Turkmenistan', 'Turks and Caicos Islands',\n",
       "       'Tuvalu', 'Uganda', 'Ukraine', 'United Arab Emirates',\n",
       "       'United Kingdom', 'United States', 'Uruguay', 'Uzbekistan',\n",
       "       'Vanuatu', 'Venezuela', 'Vietnam', 'Wallis and Futuna Islands',\n",
       "       'World', 'Yemen', 'Zambia', 'Zimbabwe'], dtype=object)"
      ]
     },
     "execution_count": 8,
     "metadata": {},
     "output_type": "execute_result"
    }
   ],
   "source": [
    "co2_data_df.country.unique()"
   ]
  },
  {
   "cell_type": "code",
   "execution_count": 9,
   "metadata": {
    "execution": {
     "iopub.execute_input": "2020-10-07T18:26:51.252958Z",
     "iopub.status.busy": "2020-10-07T18:26:51.252030Z",
     "iopub.status.idle": "2020-10-07T18:26:51.256528Z",
     "shell.execute_reply": "2020-10-07T18:26:51.255990Z"
    },
    "papermill": {
     "duration": 0.0502,
     "end_time": "2020-10-07T18:26:51.256647",
     "exception": false,
     "start_time": "2020-10-07T18:26:51.206447",
     "status": "completed"
    },
    "tags": []
   },
   "outputs": [
    {
     "data": {
      "text/plain": [
       "array(['1949-01-01', '1950-01-01', '1951-01-01', '1952-01-01',\n",
       "       '1953-01-01', '1954-01-01', '1955-01-01', '1956-01-01',\n",
       "       '1957-01-01', '1958-01-01', '1959-01-01', '1960-01-01',\n",
       "       '1961-01-01', '1962-01-01', '1963-01-01', '1964-01-01',\n",
       "       '1965-01-01', '1966-01-01', '1967-01-01', '1968-01-01',\n",
       "       '1969-01-01', '1970-01-01', '1971-01-01', '1972-01-01',\n",
       "       '1973-01-01', '1974-01-01', '1975-01-01', '1976-01-01',\n",
       "       '1977-01-01', '1978-01-01', '1979-01-01', '1980-01-01',\n",
       "       '1981-01-01', '1982-01-01', '1983-01-01', '1984-01-01',\n",
       "       '1985-01-01', '1986-01-01', '1987-01-01', '1988-01-01',\n",
       "       '1989-01-01', '1990-01-01', '1991-01-01', '1992-01-01',\n",
       "       '1993-01-01', '1994-01-01', '1995-01-01', '1996-01-01',\n",
       "       '1997-01-01', '1998-01-01', '1999-01-01', '2000-01-01',\n",
       "       '2001-01-01', '2002-01-01', '2003-01-01', '2004-01-01',\n",
       "       '2005-01-01', '2006-01-01', '2007-01-01', '2008-01-01',\n",
       "       '2009-01-01', '2010-01-01', '2011-01-01', '2012-01-01',\n",
       "       '2013-01-01', '2014-01-01', '2015-01-01', '2016-01-01',\n",
       "       '2017-01-01', '2018-01-01', '2019-01-01', '1884-01-01',\n",
       "       '1885-01-01', '1886-01-01', '1887-01-01', '1888-01-01',\n",
       "       '1889-01-01', '1890-01-01', '1891-01-01', '1892-01-01',\n",
       "       '1893-01-01', '1894-01-01', '1895-01-01', '1896-01-01',\n",
       "       '1897-01-01', '1898-01-01', '1899-01-01', '1900-01-01',\n",
       "       '1901-01-01', '1902-01-01', '1903-01-01', '1904-01-01',\n",
       "       '1905-01-01', '1906-01-01', '1907-01-01', '1908-01-01',\n",
       "       '1909-01-01', '1910-01-01', '1911-01-01', '1912-01-01',\n",
       "       '1913-01-01', '1914-01-01', '1915-01-01', '1916-01-01',\n",
       "       '1917-01-01', '1918-01-01', '1919-01-01', '1920-01-01',\n",
       "       '1921-01-01', '1922-01-01', '1923-01-01', '1924-01-01',\n",
       "       '1925-01-01', '1926-01-01', '1927-01-01', '1928-01-01',\n",
       "       '1929-01-01', '1930-01-01', '1931-01-01', '1932-01-01',\n",
       "       '1933-01-01', '1934-01-01', '1935-01-01', '1936-01-01',\n",
       "       '1937-01-01', '1938-01-01', '1939-01-01', '1940-01-01',\n",
       "       '1941-01-01', '1942-01-01', '1943-01-01', '1944-01-01',\n",
       "       '1945-01-01', '1946-01-01', '1947-01-01', '1948-01-01',\n",
       "       '1830-01-01', '1831-01-01', '1832-01-01', '1833-01-01',\n",
       "       '1850-01-01', '1855-01-01', '1858-01-01', '1859-01-01',\n",
       "       '1860-01-01', '1861-01-01', '1862-01-01', '1863-01-01',\n",
       "       '1864-01-01', '1865-01-01', '1866-01-01', '1867-01-01',\n",
       "       '1868-01-01', '1869-01-01', '1870-01-01', '1871-01-01',\n",
       "       '1872-01-01', '1873-01-01', '1874-01-01', '1875-01-01',\n",
       "       '1876-01-01', '1877-01-01', '1878-01-01', '1879-01-01',\n",
       "       '1880-01-01', '1881-01-01', '1882-01-01', '1883-01-01',\n",
       "       '1807-01-01', '1819-01-01', '1820-01-01', '1821-01-01',\n",
       "       '1822-01-01', '1823-01-01', '1824-01-01', '1825-01-01',\n",
       "       '1826-01-01', '1827-01-01', '1828-01-01', '1829-01-01',\n",
       "       '1834-01-01', '1835-01-01', '1836-01-01', '1837-01-01',\n",
       "       '1838-01-01', '1839-01-01', '1840-01-01', '1841-01-01',\n",
       "       '1842-01-01', '1843-01-01', '1844-01-01', '1845-01-01',\n",
       "       '1846-01-01', '1847-01-01', '1848-01-01', '1849-01-01',\n",
       "       '1851-01-01', '1852-01-01', '1853-01-01', '1854-01-01',\n",
       "       '1856-01-01', '1857-01-01', '1802-01-01', '1785-01-01',\n",
       "       '1786-01-01', '1787-01-01', '1788-01-01', '1789-01-01',\n",
       "       '1790-01-01', '1791-01-01', '1792-01-01', '1793-01-01',\n",
       "       '1794-01-01', '1795-01-01', '1796-01-01', '1797-01-01',\n",
       "       '1798-01-01', '1799-01-01', '1800-01-01', '1801-01-01',\n",
       "       '1803-01-01', '1804-01-01', '1805-01-01', '1806-01-01',\n",
       "       '1808-01-01', '1809-01-01', '1810-01-01', '1811-01-01',\n",
       "       '1812-01-01', '1813-01-01', '1814-01-01', '1815-01-01',\n",
       "       '1816-01-01', '1817-01-01', '1818-01-01', '1750-01-01',\n",
       "       '1751-01-01', '1752-01-01', '1753-01-01', '1754-01-01',\n",
       "       '1755-01-01', '1756-01-01', '1757-01-01', '1758-01-01',\n",
       "       '1759-01-01', '1760-01-01', '1761-01-01', '1762-01-01',\n",
       "       '1763-01-01', '1764-01-01', '1765-01-01', '1766-01-01',\n",
       "       '1767-01-01', '1768-01-01', '1769-01-01', '1770-01-01',\n",
       "       '1771-01-01', '1772-01-01', '1773-01-01', '1774-01-01',\n",
       "       '1775-01-01', '1776-01-01', '1777-01-01', '1778-01-01',\n",
       "       '1779-01-01', '1780-01-01', '1781-01-01', '1782-01-01',\n",
       "       '1783-01-01', '1784-01-01'], dtype=object)"
      ]
     },
     "execution_count": 9,
     "metadata": {},
     "output_type": "execute_result"
    }
   ],
   "source": [
    "co2_data_df.year.unique()"
   ]
  },
  {
   "cell_type": "code",
   "execution_count": 10,
   "metadata": {
    "execution": {
     "iopub.execute_input": "2020-10-07T18:26:51.346889Z",
     "iopub.status.busy": "2020-10-07T18:26:51.345980Z",
     "iopub.status.idle": "2020-10-07T18:26:51.350706Z",
     "shell.execute_reply": "2020-10-07T18:26:51.350140Z"
    },
    "papermill": {
     "duration": 0.054094,
     "end_time": "2020-10-07T18:26:51.350837",
     "exception": false,
     "start_time": "2020-10-07T18:26:51.296743",
     "status": "completed"
    },
    "tags": []
   },
   "outputs": [
    {
     "data": {
      "text/plain": [
       "'1750-01-01'"
      ]
     },
     "execution_count": 10,
     "metadata": {},
     "output_type": "execute_result"
    }
   ],
   "source": [
    "co2_data_df.year.min()"
   ]
  },
  {
   "cell_type": "code",
   "execution_count": 11,
   "metadata": {
    "execution": {
     "iopub.execute_input": "2020-10-07T18:26:51.436298Z",
     "iopub.status.busy": "2020-10-07T18:26:51.435461Z",
     "iopub.status.idle": "2020-10-07T18:26:51.439092Z",
     "shell.execute_reply": "2020-10-07T18:26:51.439532Z"
    },
    "papermill": {
     "duration": 0.048629,
     "end_time": "2020-10-07T18:26:51.439681",
     "exception": false,
     "start_time": "2020-10-07T18:26:51.391052",
     "status": "completed"
    },
    "tags": []
   },
   "outputs": [
    {
     "data": {
      "text/plain": [
       "'2019-01-01'"
      ]
     },
     "execution_count": 11,
     "metadata": {},
     "output_type": "execute_result"
    }
   ],
   "source": [
    "co2_data_df.year.max()"
   ]
  },
  {
   "cell_type": "code",
   "execution_count": 12,
   "metadata": {
    "execution": {
     "iopub.execute_input": "2020-10-07T18:26:51.525903Z",
     "iopub.status.busy": "2020-10-07T18:26:51.525203Z",
     "iopub.status.idle": "2020-10-07T18:26:51.529078Z",
     "shell.execute_reply": "2020-10-07T18:26:51.528538Z"
    },
    "papermill": {
     "duration": 0.048833,
     "end_time": "2020-10-07T18:26:51.529189",
     "exception": false,
     "start_time": "2020-10-07T18:26:51.480356",
     "status": "completed"
    },
    "tags": []
   },
   "outputs": [
    {
     "data": {
      "text/plain": [
       "36441.388"
      ]
     },
     "execution_count": 12,
     "metadata": {},
     "output_type": "execute_result"
    }
   ],
   "source": [
    "co2_data_df['annual_co2_prod_Megaton'].max()"
   ]
  },
  {
   "cell_type": "code",
   "execution_count": 13,
   "metadata": {
    "execution": {
     "iopub.execute_input": "2020-10-07T18:26:51.616010Z",
     "iopub.status.busy": "2020-10-07T18:26:51.615203Z",
     "iopub.status.idle": "2020-10-07T18:26:51.619438Z",
     "shell.execute_reply": "2020-10-07T18:26:51.618816Z"
    },
    "papermill": {
     "duration": 0.049672,
     "end_time": "2020-10-07T18:26:51.619547",
     "exception": false,
     "start_time": "2020-10-07T18:26:51.569875",
     "status": "completed"
    },
    "tags": []
   },
   "outputs": [
    {
     "data": {
      "text/plain": [
       "-1.165"
      ]
     },
     "execution_count": 13,
     "metadata": {},
     "output_type": "execute_result"
    }
   ],
   "source": [
    "co2_data_df['annual_co2_prod_Megaton'].min()"
   ]
  },
  {
   "cell_type": "code",
   "execution_count": 14,
   "metadata": {
    "execution": {
     "iopub.execute_input": "2020-10-07T18:26:51.707076Z",
     "iopub.status.busy": "2020-10-07T18:26:51.706399Z",
     "iopub.status.idle": "2020-10-07T18:26:51.733125Z",
     "shell.execute_reply": "2020-10-07T18:26:51.732531Z"
    },
    "papermill": {
     "duration": 0.072419,
     "end_time": "2020-10-07T18:26:51.733244",
     "exception": false,
     "start_time": "2020-10-07T18:26:51.660825",
     "status": "completed"
    },
    "tags": []
   },
   "outputs": [],
   "source": [
    "condition1=co2_data_df['annual_co2_prod_Megaton']>=0\n",
    "condition2=pd.isnull(co2_data_df['iso_code'])\n",
    "df=co2_data_df[condition1&(~condition2)]"
   ]
  },
  {
   "cell_type": "code",
   "execution_count": 15,
   "metadata": {
    "execution": {
     "iopub.execute_input": "2020-10-07T18:26:51.822401Z",
     "iopub.status.busy": "2020-10-07T18:26:51.821483Z",
     "iopub.status.idle": "2020-10-07T18:26:51.828037Z",
     "shell.execute_reply": "2020-10-07T18:26:51.827226Z"
    },
    "papermill": {
     "duration": 0.053682,
     "end_time": "2020-10-07T18:26:51.828203",
     "exception": false,
     "start_time": "2020-10-07T18:26:51.774521",
     "status": "completed"
    },
    "tags": []
   },
   "outputs": [
    {
     "data": {
      "text/plain": [
       "0.0"
      ]
     },
     "execution_count": 15,
     "metadata": {},
     "output_type": "execute_result"
    }
   ],
   "source": [
    "df['annual_co2_prod_Megaton'].min()"
   ]
  },
  {
   "cell_type": "code",
   "execution_count": 16,
   "metadata": {
    "execution": {
     "iopub.execute_input": "2020-10-07T18:26:51.920558Z",
     "iopub.status.busy": "2020-10-07T18:26:51.919854Z",
     "iopub.status.idle": "2020-10-07T18:26:51.923315Z",
     "shell.execute_reply": "2020-10-07T18:26:51.922784Z"
    },
    "papermill": {
     "duration": 0.050485,
     "end_time": "2020-10-07T18:26:51.923425",
     "exception": false,
     "start_time": "2020-10-07T18:26:51.872940",
     "status": "completed"
    },
    "tags": []
   },
   "outputs": [
    {
     "data": {
      "text/plain": [
       "36441.388"
      ]
     },
     "execution_count": 16,
     "metadata": {},
     "output_type": "execute_result"
    }
   ],
   "source": [
    "df['annual_co2_prod_Megaton'].max()"
   ]
  },
  {
   "cell_type": "code",
   "execution_count": 17,
   "metadata": {
    "execution": {
     "iopub.execute_input": "2020-10-07T18:26:52.016159Z",
     "iopub.status.busy": "2020-10-07T18:26:52.013989Z",
     "iopub.status.idle": "2020-10-07T18:26:52.022038Z",
     "shell.execute_reply": "2020-10-07T18:26:52.022519Z"
    },
    "papermill": {
     "duration": 0.057069,
     "end_time": "2020-10-07T18:26:52.022668",
     "exception": false,
     "start_time": "2020-10-07T18:26:51.965599",
     "status": "completed"
    },
    "tags": []
   },
   "outputs": [
    {
     "name": "stdout",
     "output_type": "stream",
     "text": [
      "<class 'pandas.core.frame.DataFrame'>\n",
      "Int64Index: 20432 entries, 0 to 23170\n",
      "Data columns (total 11 columns):\n",
      "iso_code                            20432 non-null object\n",
      "country                             20432 non-null object\n",
      "year                                20432 non-null object\n",
      "annual_co2_prod_Megaton             20432 non-null float64\n",
      "primary_energy_consumption_10Gwh    6045 non-null float64\n",
      "population                          20097 non-null float64\n",
      "gdp                                 12968 non-null float64\n",
      "Unit_argi                           9500 non-null object\n",
      "Value_agri_1000hectare              9500 non-null float64\n",
      "Unit_beef                           9059 non-null object\n",
      "Value_beef_tonnes                   9059 non-null float64\n",
      "dtypes: float64(6), object(5)\n",
      "memory usage: 1.9+ MB\n"
     ]
    }
   ],
   "source": [
    "df.info()"
   ]
  },
  {
   "cell_type": "code",
   "execution_count": 19,
   "metadata": {},
   "outputs": [
    {
     "data": {
      "image/png": "[encoded data removed]",
      "text/plain": [
       "<Figure size 432x288 with 2 Axes>"
      ]
     },
     "metadata": {
      "needs_background": "light"
     },
     "output_type": "display_data"
    }
   ],
   "source": [
    "df_corr = df[[\"annual_co2_prod_Megaton\",\"primary_energy_consumption_10Gwh\",\"population\",\"gdp\",\n",
    "              'Value_agri_1000hectare','Value_beef_tonnes']].fillna(0).corr()\n",
    "\n",
    "sns.heatmap(df_corr, square=True, annot=True,)\n",
    "plt.title('CO2 Emission Factors Correlations')\n",
    "plt.show()"
   ]
  },
  {
   "cell_type": "code",
   "execution_count": 61,
   "metadata": {
    "execution": {
     "iopub.execute_input": "2020-10-07T18:26:52.114433Z",
     "iopub.status.busy": "2020-10-07T18:26:52.113800Z",
     "iopub.status.idle": "2020-10-07T18:26:52.428084Z",
     "shell.execute_reply": "2020-10-07T18:26:52.427547Z"
    },
    "papermill": {
     "duration": 0.361341,
     "end_time": "2020-10-07T18:26:52.428208",
     "exception": false,
     "start_time": "2020-10-07T18:26:52.066867",
     "status": "completed"
    },
    "tags": []
   },
   "outputs": [
    {
     "name": "stderr",
     "output_type": "stream",
     "text": [
      "/opt/anaconda3/lib/python3.8/site-packages/seaborn/distributions.py:2551: FutureWarning: `distplot` is a deprecated function and will be removed in a future version. Please adapt your code to use either `displot` (a figure-level function with similar flexibility) or `histplot` (an axes-level function for histograms).\n",
      "  warnings.warn(msg, FutureWarning)\n"
     ]
    },
    {
     "data": {
      "image/png": "[encoded data removed]",
      "text/plain": [
       "<Figure size 576x396 with 1 Axes>"
      ]
     },
     "metadata": {},
     "output_type": "display_data"
    }
   ],
   "source": [
    "sns.distplot(df['annual_co2_prod_Megaton'],kde=True)\n",
    "plt.show()"
   ]
  },
  {
   "cell_type": "code",
   "execution_count": 62,
   "metadata": {
    "execution": {
     "iopub.execute_input": "2020-10-07T18:26:52.521849Z",
     "iopub.status.busy": "2020-10-07T18:26:52.521217Z",
     "iopub.status.idle": "2020-10-07T18:26:52.529142Z",
     "shell.execute_reply": "2020-10-07T18:26:52.529659Z"
    },
    "papermill": {
     "duration": 0.057969,
     "end_time": "2020-10-07T18:26:52.529827",
     "exception": false,
     "start_time": "2020-10-07T18:26:52.471858",
     "status": "completed"
    },
    "tags": []
   },
   "outputs": [
    {
     "data": {
      "text/plain": [
       "country\n",
       "World                        1652920.386\n",
       "United States                 410238.268\n",
       "China                         219985.864\n",
       "Russia                        113884.448\n",
       "Germany                        91979.322\n",
       "                                ...     \n",
       "Wallis and Futuna Islands          0.486\n",
       "Saint Helena                       0.367\n",
       "Niue                               0.275\n",
       "Tuvalu                             0.271\n",
       "Puerto Rico                        0.209\n",
       "Name: annual_co2_prod_Megaton, Length: 212, dtype: float64"
      ]
     },
     "execution_count": 62,
     "metadata": {},
     "output_type": "execute_result"
    }
   ],
   "source": [
    "df.groupby('country')['annual_co2_prod_Megaton'].sum().sort_values(ascending=False)"
   ]
  },
  {
   "cell_type": "code",
   "execution_count": 73,
   "metadata": {
    "execution": {
     "iopub.execute_input": "2020-10-07T18:26:52.623450Z",
     "iopub.status.busy": "2020-10-07T18:26:52.622797Z",
     "iopub.status.idle": "2020-10-07T18:26:52.631044Z",
     "shell.execute_reply": "2020-10-07T18:26:52.631472Z"
    },
    "papermill": {
     "duration": 0.058056,
     "end_time": "2020-10-07T18:26:52.631625",
     "exception": false,
     "start_time": "2020-10-07T18:26:52.573569",
     "status": "completed"
    },
    "tags": []
   },
   "outputs": [
    {
     "data": {
      "text/plain": [
       "country\n",
       "United States     410238.268\n",
       "China             219985.864\n",
       "Russia            113884.448\n",
       "Germany            91979.322\n",
       "United Kingdom     77835.701\n",
       "Japan              64584.913\n",
       "India              51937.020\n",
       "France             38258.337\n",
       "Canada             33113.562\n",
       "Ukraine            29549.361\n",
       "Name: annual_co2_prod_Megaton, dtype: float64"
      ]
     },
     "execution_count": 73,
     "metadata": {},
     "output_type": "execute_result"
    }
   ],
   "source": [
    "df.groupby('country')['annual_co2_prod_Megaton'].sum().sort_values(ascending=False)[1:11]"
   ]
  },
  {
   "cell_type": "code",
   "execution_count": 74,
   "metadata": {
    "execution": {
     "iopub.execute_input": "2020-10-07T18:26:52.727895Z",
     "iopub.status.busy": "2020-10-07T18:26:52.727232Z",
     "iopub.status.idle": "2020-10-07T18:26:52.933896Z",
     "shell.execute_reply": "2020-10-07T18:26:52.933233Z"
    },
    "papermill": {
     "duration": 0.258118,
     "end_time": "2020-10-07T18:26:52.934025",
     "exception": false,
     "start_time": "2020-10-07T18:26:52.675907",
     "status": "completed"
    },
    "tags": []
   },
   "outputs": [
    {
     "data": {
      "text/plain": [
       "Text(0, 0.5, 'CO2 Emissions in MegaTonnes')"
      ]
     },
     "execution_count": 74,
     "metadata": {},
     "output_type": "execute_result"
    },
    {
     "data": {
      "image/png": "[encoded data removed]",
      "text/plain": [
       "<Figure size 576x396 with 1 Axes>"
      ]
     },
     "metadata": {},
     "output_type": "display_data"
    }
   ],
   "source": [
    "plt.style.use('seaborn')\n",
    "df.groupby('country')['annual_co2_prod_Megaton'].sum().sort_values(ascending=False)[1:11].plot(kind='bar')\n",
    "plt.title('Top 10 Countries in co2 emission from 1751 to 2019',fontweight='bold',fontsize=14)\n",
    "plt.ylabel('CO2 Emissions in MegaTonnes')"
   ]
  },
  {
   "cell_type": "markdown",
   "metadata": {
    "papermill": {
     "duration": 0.045073,
     "end_time": "2020-10-07T18:26:53.024952",
     "exception": false,
     "start_time": "2020-10-07T18:26:52.979879",
     "status": "completed"
    },
    "tags": []
   },
   "source": [
    "## Now we will classify our data into time periods and analyze each one of them\n",
    "- Period1 smaller than or equal 1800 ( from 1751 to 1800)\n",
    "- Period2 smaller than or equal 1850 and greater than 1800 ( 1801 to 1850)\n",
    "- Period3 smaller than or equal 1900 and greater than 1850 ( 1851 to 1900)\n",
    "- Period4 smaller than or equal 1950 and greater than 1900 ( 1901 to 1950)\n",
    "- Period5 smaller than or equal 2000 and greater than 1950 ( 1951 to 2000)\n",
    "- Period6 greater than 2000"
   ]
  },
  {
   "cell_type": "code",
   "execution_count": 65,
   "metadata": {
    "execution": {
     "iopub.execute_input": "2020-10-07T18:26:53.121370Z",
     "iopub.status.busy": "2020-10-07T18:26:53.120668Z",
     "iopub.status.idle": "2020-10-07T18:26:53.124243Z",
     "shell.execute_reply": "2020-10-07T18:26:53.123584Z"
    },
    "papermill": {
     "duration": 0.053961,
     "end_time": "2020-10-07T18:26:53.124359",
     "exception": false,
     "start_time": "2020-10-07T18:26:53.070398",
     "status": "completed"
    },
    "tags": []
   },
   "outputs": [
    {
     "data": {
      "text/html": [
       "<div>\n",
       "<style scoped>\n",
       "    .dataframe tbody tr th:only-of-type {\n",
       "        vertical-align: middle;\n",
       "    }\n",
       "\n",
       "    .dataframe tbody tr th {\n",
       "        vertical-align: top;\n",
       "    }\n",
       "\n",
       "    .dataframe thead th {\n",
       "        text-align: right;\n",
       "    }\n",
       "</style>\n",
       "<table border=\"1\" class=\"dataframe\">\n",
       "  <thead>\n",
       "    <tr style=\"text-align: right;\">\n",
       "      <th></th>\n",
       "      <th>iso_code</th>\n",
       "      <th>country</th>\n",
       "      <th>year</th>\n",
       "      <th>annual_co2_prod_Megaton</th>\n",
       "      <th>primary_energy_consumption_10Gwh</th>\n",
       "      <th>population</th>\n",
       "      <th>gdp</th>\n",
       "      <th>Unit_argi</th>\n",
       "      <th>Value_agri_1000hectare</th>\n",
       "      <th>Unit_beef</th>\n",
       "      <th>Value_beef_tonnes</th>\n",
       "    </tr>\n",
       "  </thead>\n",
       "  <tbody>\n",
       "    <tr>\n",
       "      <th>3801</th>\n",
       "      <td>CAN</td>\n",
       "      <td>Canada</td>\n",
       "      <td>1785-01-01</td>\n",
       "      <td>0.004</td>\n",
       "      <td>NaN</td>\n",
       "      <td>NaN</td>\n",
       "      <td>NaN</td>\n",
       "      <td>NaN</td>\n",
       "      <td>NaN</td>\n",
       "      <td>NaN</td>\n",
       "      <td>NaN</td>\n",
       "    </tr>\n",
       "    <tr>\n",
       "      <th>3802</th>\n",
       "      <td>CAN</td>\n",
       "      <td>Canada</td>\n",
       "      <td>1786-01-01</td>\n",
       "      <td>0.004</td>\n",
       "      <td>NaN</td>\n",
       "      <td>NaN</td>\n",
       "      <td>NaN</td>\n",
       "      <td>NaN</td>\n",
       "      <td>NaN</td>\n",
       "      <td>NaN</td>\n",
       "      <td>NaN</td>\n",
       "    </tr>\n",
       "    <tr>\n",
       "      <th>3803</th>\n",
       "      <td>CAN</td>\n",
       "      <td>Canada</td>\n",
       "      <td>1787-01-01</td>\n",
       "      <td>0.004</td>\n",
       "      <td>NaN</td>\n",
       "      <td>NaN</td>\n",
       "      <td>NaN</td>\n",
       "      <td>NaN</td>\n",
       "      <td>NaN</td>\n",
       "      <td>NaN</td>\n",
       "      <td>NaN</td>\n",
       "    </tr>\n",
       "    <tr>\n",
       "      <th>3804</th>\n",
       "      <td>CAN</td>\n",
       "      <td>Canada</td>\n",
       "      <td>1788-01-01</td>\n",
       "      <td>0.004</td>\n",
       "      <td>NaN</td>\n",
       "      <td>NaN</td>\n",
       "      <td>NaN</td>\n",
       "      <td>NaN</td>\n",
       "      <td>NaN</td>\n",
       "      <td>NaN</td>\n",
       "      <td>NaN</td>\n",
       "    </tr>\n",
       "    <tr>\n",
       "      <th>3805</th>\n",
       "      <td>CAN</td>\n",
       "      <td>Canada</td>\n",
       "      <td>1789-01-01</td>\n",
       "      <td>0.004</td>\n",
       "      <td>NaN</td>\n",
       "      <td>NaN</td>\n",
       "      <td>NaN</td>\n",
       "      <td>NaN</td>\n",
       "      <td>NaN</td>\n",
       "      <td>NaN</td>\n",
       "      <td>NaN</td>\n",
       "    </tr>\n",
       "  </tbody>\n",
       "</table>\n",
       "</div>"
      ],
      "text/plain": [
       "     iso_code country        year  annual_co2_prod_Megaton  \\\n",
       "3801      CAN  Canada  1785-01-01                    0.004   \n",
       "3802      CAN  Canada  1786-01-01                    0.004   \n",
       "3803      CAN  Canada  1787-01-01                    0.004   \n",
       "3804      CAN  Canada  1788-01-01                    0.004   \n",
       "3805      CAN  Canada  1789-01-01                    0.004   \n",
       "\n",
       "      primary_energy_consumption_10Gwh  population  gdp Unit_argi  \\\n",
       "3801                               NaN         NaN  NaN       NaN   \n",
       "3802                               NaN         NaN  NaN       NaN   \n",
       "3803                               NaN         NaN  NaN       NaN   \n",
       "3804                               NaN         NaN  NaN       NaN   \n",
       "3805                               NaN         NaN  NaN       NaN   \n",
       "\n",
       "      Value_agri_1000hectare Unit_beef  Value_beef_tonnes  \n",
       "3801                     NaN       NaN                NaN  \n",
       "3802                     NaN       NaN                NaN  \n",
       "3803                     NaN       NaN                NaN  \n",
       "3804                     NaN       NaN                NaN  \n",
       "3805                     NaN       NaN                NaN  "
      ]
     },
     "execution_count": 65,
     "metadata": {},
     "output_type": "execute_result"
    }
   ],
   "source": [
    "p1_c1=df['year']<='1800-01-01'\n",
    "period1=df[p1_c1]\n",
    "period1.head()"
   ]
  },
  {
   "cell_type": "code",
   "execution_count": 66,
   "metadata": {
    "execution": {
     "iopub.execute_input": "2020-10-07T18:26:53.332393Z",
     "iopub.status.busy": "2020-10-07T18:26:53.331717Z",
     "iopub.status.idle": "2020-10-07T18:26:53.335819Z",
     "shell.execute_reply": "2020-10-07T18:26:53.335181Z"
    },
    "papermill": {
     "duration": 0.057442,
     "end_time": "2020-10-07T18:26:53.335934",
     "exception": false,
     "start_time": "2020-10-07T18:26:53.278492",
     "status": "completed"
    },
    "tags": []
   },
   "outputs": [
    {
     "data": {
      "text/html": [
       "<div>\n",
       "<style scoped>\n",
       "    .dataframe tbody tr th:only-of-type {\n",
       "        vertical-align: middle;\n",
       "    }\n",
       "\n",
       "    .dataframe tbody tr th {\n",
       "        vertical-align: top;\n",
       "    }\n",
       "\n",
       "    .dataframe thead th {\n",
       "        text-align: right;\n",
       "    }\n",
       "</style>\n",
       "<table border=\"1\" class=\"dataframe\">\n",
       "  <thead>\n",
       "    <tr style=\"text-align: right;\">\n",
       "      <th></th>\n",
       "      <th>iso_code</th>\n",
       "      <th>country</th>\n",
       "      <th>year</th>\n",
       "      <th>annual_co2_prod_Megaton</th>\n",
       "      <th>primary_energy_consumption_10Gwh</th>\n",
       "      <th>population</th>\n",
       "      <th>gdp</th>\n",
       "      <th>Unit_argi</th>\n",
       "      <th>Value_agri_1000hectare</th>\n",
       "      <th>Unit_beef</th>\n",
       "      <th>Value_beef_tonnes</th>\n",
       "    </tr>\n",
       "  </thead>\n",
       "  <tbody>\n",
       "    <tr>\n",
       "      <th>724</th>\n",
       "      <td>ARM</td>\n",
       "      <td>Armenia</td>\n",
       "      <td>1830-01-01</td>\n",
       "      <td>0.000</td>\n",
       "      <td>NaN</td>\n",
       "      <td>453507.0</td>\n",
       "      <td>NaN</td>\n",
       "      <td>NaN</td>\n",
       "      <td>NaN</td>\n",
       "      <td>NaN</td>\n",
       "      <td>NaN</td>\n",
       "    </tr>\n",
       "    <tr>\n",
       "      <th>725</th>\n",
       "      <td>ARM</td>\n",
       "      <td>Armenia</td>\n",
       "      <td>1831-01-01</td>\n",
       "      <td>0.000</td>\n",
       "      <td>NaN</td>\n",
       "      <td>457664.0</td>\n",
       "      <td>NaN</td>\n",
       "      <td>NaN</td>\n",
       "      <td>NaN</td>\n",
       "      <td>NaN</td>\n",
       "      <td>NaN</td>\n",
       "    </tr>\n",
       "    <tr>\n",
       "      <th>726</th>\n",
       "      <td>ARM</td>\n",
       "      <td>Armenia</td>\n",
       "      <td>1832-01-01</td>\n",
       "      <td>0.000</td>\n",
       "      <td>NaN</td>\n",
       "      <td>461859.0</td>\n",
       "      <td>NaN</td>\n",
       "      <td>NaN</td>\n",
       "      <td>NaN</td>\n",
       "      <td>NaN</td>\n",
       "      <td>NaN</td>\n",
       "    </tr>\n",
       "    <tr>\n",
       "      <th>727</th>\n",
       "      <td>ARM</td>\n",
       "      <td>Armenia</td>\n",
       "      <td>1833-01-01</td>\n",
       "      <td>0.000</td>\n",
       "      <td>NaN</td>\n",
       "      <td>466093.0</td>\n",
       "      <td>NaN</td>\n",
       "      <td>NaN</td>\n",
       "      <td>NaN</td>\n",
       "      <td>NaN</td>\n",
       "      <td>NaN</td>\n",
       "    </tr>\n",
       "    <tr>\n",
       "      <th>728</th>\n",
       "      <td>ARM</td>\n",
       "      <td>Armenia</td>\n",
       "      <td>1850-01-01</td>\n",
       "      <td>0.001</td>\n",
       "      <td>NaN</td>\n",
       "      <td>544302.0</td>\n",
       "      <td>NaN</td>\n",
       "      <td>NaN</td>\n",
       "      <td>NaN</td>\n",
       "      <td>NaN</td>\n",
       "      <td>NaN</td>\n",
       "    </tr>\n",
       "  </tbody>\n",
       "</table>\n",
       "</div>"
      ],
      "text/plain": [
       "    iso_code  country        year  annual_co2_prod_Megaton  \\\n",
       "724      ARM  Armenia  1830-01-01                    0.000   \n",
       "725      ARM  Armenia  1831-01-01                    0.000   \n",
       "726      ARM  Armenia  1832-01-01                    0.000   \n",
       "727      ARM  Armenia  1833-01-01                    0.000   \n",
       "728      ARM  Armenia  1850-01-01                    0.001   \n",
       "\n",
       "     primary_energy_consumption_10Gwh  population  gdp Unit_argi  \\\n",
       "724                               NaN    453507.0  NaN       NaN   \n",
       "725                               NaN    457664.0  NaN       NaN   \n",
       "726                               NaN    461859.0  NaN       NaN   \n",
       "727                               NaN    466093.0  NaN       NaN   \n",
       "728                               NaN    544302.0  NaN       NaN   \n",
       "\n",
       "     Value_agri_1000hectare Unit_beef  Value_beef_tonnes  \n",
       "724                     NaN       NaN                NaN  \n",
       "725                     NaN       NaN                NaN  \n",
       "726                     NaN       NaN                NaN  \n",
       "727                     NaN       NaN                NaN  \n",
       "728                     NaN       NaN                NaN  "
      ]
     },
     "execution_count": 66,
     "metadata": {},
     "output_type": "execute_result"
    }
   ],
   "source": [
    "p2_c1=df['year']<='1850-01-01'\n",
    "p2_c2=df['year']>'1800-01-01'\n",
    "period2=df[p2_c1&p2_c2]\n",
    "period2.head()"
   ]
  },
  {
   "cell_type": "code",
   "execution_count": 67,
   "metadata": {
    "execution": {
     "iopub.execute_input": "2020-10-07T18:26:53.434336Z",
     "iopub.status.busy": "2020-10-07T18:26:53.433600Z",
     "iopub.status.idle": "2020-10-07T18:26:53.437195Z",
     "shell.execute_reply": "2020-10-07T18:26:53.437670Z"
    },
    "papermill": {
     "duration": 0.054481,
     "end_time": "2020-10-07T18:26:53.437840",
     "exception": false,
     "start_time": "2020-10-07T18:26:53.383359",
     "status": "completed"
    },
    "tags": []
   },
   "outputs": [
    {
     "data": {
      "text/html": [
       "<div>\n",
       "<style scoped>\n",
       "    .dataframe tbody tr th:only-of-type {\n",
       "        vertical-align: middle;\n",
       "    }\n",
       "\n",
       "    .dataframe tbody tr th {\n",
       "        vertical-align: top;\n",
       "    }\n",
       "\n",
       "    .dataframe thead th {\n",
       "        text-align: right;\n",
       "    }\n",
       "</style>\n",
       "<table border=\"1\" class=\"dataframe\">\n",
       "  <thead>\n",
       "    <tr style=\"text-align: right;\">\n",
       "      <th></th>\n",
       "      <th>iso_code</th>\n",
       "      <th>country</th>\n",
       "      <th>year</th>\n",
       "      <th>annual_co2_prod_Megaton</th>\n",
       "      <th>primary_energy_consumption_10Gwh</th>\n",
       "      <th>population</th>\n",
       "      <th>gdp</th>\n",
       "      <th>Unit_argi</th>\n",
       "      <th>Value_agri_1000hectare</th>\n",
       "      <th>Unit_beef</th>\n",
       "      <th>Value_beef_tonnes</th>\n",
       "    </tr>\n",
       "  </thead>\n",
       "  <tbody>\n",
       "    <tr>\n",
       "      <th>591</th>\n",
       "      <td>ARG</td>\n",
       "      <td>Argentina</td>\n",
       "      <td>1887-01-01</td>\n",
       "      <td>1.085</td>\n",
       "      <td>NaN</td>\n",
       "      <td>3089624.0</td>\n",
       "      <td>NaN</td>\n",
       "      <td>NaN</td>\n",
       "      <td>NaN</td>\n",
       "      <td>NaN</td>\n",
       "      <td>NaN</td>\n",
       "    </tr>\n",
       "    <tr>\n",
       "      <th>592</th>\n",
       "      <td>ARG</td>\n",
       "      <td>Argentina</td>\n",
       "      <td>1888-01-01</td>\n",
       "      <td>0.890</td>\n",
       "      <td>NaN</td>\n",
       "      <td>3190089.0</td>\n",
       "      <td>NaN</td>\n",
       "      <td>NaN</td>\n",
       "      <td>NaN</td>\n",
       "      <td>NaN</td>\n",
       "      <td>NaN</td>\n",
       "    </tr>\n",
       "    <tr>\n",
       "      <th>593</th>\n",
       "      <td>ARG</td>\n",
       "      <td>Argentina</td>\n",
       "      <td>1889-01-01</td>\n",
       "      <td>1.755</td>\n",
       "      <td>NaN</td>\n",
       "      <td>3294260.0</td>\n",
       "      <td>NaN</td>\n",
       "      <td>NaN</td>\n",
       "      <td>NaN</td>\n",
       "      <td>NaN</td>\n",
       "      <td>NaN</td>\n",
       "    </tr>\n",
       "    <tr>\n",
       "      <th>594</th>\n",
       "      <td>ARG</td>\n",
       "      <td>Argentina</td>\n",
       "      <td>1890-01-01</td>\n",
       "      <td>1.370</td>\n",
       "      <td>NaN</td>\n",
       "      <td>3402273.0</td>\n",
       "      <td>1.397326e+10</td>\n",
       "      <td>NaN</td>\n",
       "      <td>NaN</td>\n",
       "      <td>NaN</td>\n",
       "      <td>NaN</td>\n",
       "    </tr>\n",
       "    <tr>\n",
       "      <th>595</th>\n",
       "      <td>ARG</td>\n",
       "      <td>Argentina</td>\n",
       "      <td>1891-01-01</td>\n",
       "      <td>0.938</td>\n",
       "      <td>NaN</td>\n",
       "      <td>3514267.0</td>\n",
       "      <td>NaN</td>\n",
       "      <td>NaN</td>\n",
       "      <td>NaN</td>\n",
       "      <td>NaN</td>\n",
       "      <td>NaN</td>\n",
       "    </tr>\n",
       "  </tbody>\n",
       "</table>\n",
       "</div>"
      ],
      "text/plain": [
       "    iso_code    country        year  annual_co2_prod_Megaton  \\\n",
       "591      ARG  Argentina  1887-01-01                    1.085   \n",
       "592      ARG  Argentina  1888-01-01                    0.890   \n",
       "593      ARG  Argentina  1889-01-01                    1.755   \n",
       "594      ARG  Argentina  1890-01-01                    1.370   \n",
       "595      ARG  Argentina  1891-01-01                    0.938   \n",
       "\n",
       "     primary_energy_consumption_10Gwh  population           gdp Unit_argi  \\\n",
       "591                               NaN   3089624.0           NaN       NaN   \n",
       "592                               NaN   3190089.0           NaN       NaN   \n",
       "593                               NaN   3294260.0           NaN       NaN   \n",
       "594                               NaN   3402273.0  1.397326e+10       NaN   \n",
       "595                               NaN   3514267.0           NaN       NaN   \n",
       "\n",
       "     Value_agri_1000hectare Unit_beef  Value_beef_tonnes  \n",
       "591                     NaN       NaN                NaN  \n",
       "592                     NaN       NaN                NaN  \n",
       "593                     NaN       NaN                NaN  \n",
       "594                     NaN       NaN                NaN  \n",
       "595                     NaN       NaN                NaN  "
      ]
     },
     "execution_count": 67,
     "metadata": {},
     "output_type": "execute_result"
    }
   ],
   "source": [
    "p3_c1=df['year']<='1900-01-01'\n",
    "p3_c2=df['year']>'1850-01-01'\n",
    "period3=df[p3_c1&p3_c2]\n",
    "period3.head()"
   ]
  },
  {
   "cell_type": "code",
   "execution_count": 68,
   "metadata": {},
   "outputs": [
    {
     "data": {
      "text/html": [
       "<div>\n",
       "<style scoped>\n",
       "    .dataframe tbody tr th:only-of-type {\n",
       "        vertical-align: middle;\n",
       "    }\n",
       "\n",
       "    .dataframe tbody tr th {\n",
       "        vertical-align: top;\n",
       "    }\n",
       "\n",
       "    .dataframe thead th {\n",
       "        text-align: right;\n",
       "    }\n",
       "</style>\n",
       "<table border=\"1\" class=\"dataframe\">\n",
       "  <thead>\n",
       "    <tr style=\"text-align: right;\">\n",
       "      <th></th>\n",
       "      <th>iso_code</th>\n",
       "      <th>country</th>\n",
       "      <th>year</th>\n",
       "      <th>annual_co2_prod_Megaton</th>\n",
       "      <th>primary_energy_consumption_10Gwh</th>\n",
       "      <th>population</th>\n",
       "      <th>gdp</th>\n",
       "      <th>Unit_argi</th>\n",
       "      <th>Value_agri_1000hectare</th>\n",
       "      <th>Unit_beef</th>\n",
       "      <th>Value_beef_tonnes</th>\n",
       "    </tr>\n",
       "  </thead>\n",
       "  <tbody>\n",
       "    <tr>\n",
       "      <th>0</th>\n",
       "      <td>AFG</td>\n",
       "      <td>Afghanistan</td>\n",
       "      <td>1949-01-01</td>\n",
       "      <td>0.015</td>\n",
       "      <td>NaN</td>\n",
       "      <td>7663783.0</td>\n",
       "      <td>NaN</td>\n",
       "      <td>NaN</td>\n",
       "      <td>NaN</td>\n",
       "      <td>NaN</td>\n",
       "      <td>NaN</td>\n",
       "    </tr>\n",
       "    <tr>\n",
       "      <th>1</th>\n",
       "      <td>AFG</td>\n",
       "      <td>Afghanistan</td>\n",
       "      <td>1950-01-01</td>\n",
       "      <td>0.084</td>\n",
       "      <td>NaN</td>\n",
       "      <td>7752000.0</td>\n",
       "      <td>1.949480e+10</td>\n",
       "      <td>NaN</td>\n",
       "      <td>NaN</td>\n",
       "      <td>NaN</td>\n",
       "      <td>NaN</td>\n",
       "    </tr>\n",
       "    <tr>\n",
       "      <th>207</th>\n",
       "      <td>ALB</td>\n",
       "      <td>Albania</td>\n",
       "      <td>1933-01-01</td>\n",
       "      <td>0.007</td>\n",
       "      <td>NaN</td>\n",
       "      <td>1032197.0</td>\n",
       "      <td>NaN</td>\n",
       "      <td>NaN</td>\n",
       "      <td>NaN</td>\n",
       "      <td>NaN</td>\n",
       "      <td>NaN</td>\n",
       "    </tr>\n",
       "    <tr>\n",
       "      <th>208</th>\n",
       "      <td>ALB</td>\n",
       "      <td>Albania</td>\n",
       "      <td>1934-01-01</td>\n",
       "      <td>0.007</td>\n",
       "      <td>NaN</td>\n",
       "      <td>1037713.0</td>\n",
       "      <td>NaN</td>\n",
       "      <td>NaN</td>\n",
       "      <td>NaN</td>\n",
       "      <td>NaN</td>\n",
       "      <td>NaN</td>\n",
       "    </tr>\n",
       "    <tr>\n",
       "      <th>209</th>\n",
       "      <td>ALB</td>\n",
       "      <td>Albania</td>\n",
       "      <td>1935-01-01</td>\n",
       "      <td>0.018</td>\n",
       "      <td>NaN</td>\n",
       "      <td>1043229.0</td>\n",
       "      <td>NaN</td>\n",
       "      <td>NaN</td>\n",
       "      <td>NaN</td>\n",
       "      <td>NaN</td>\n",
       "      <td>NaN</td>\n",
       "    </tr>\n",
       "  </tbody>\n",
       "</table>\n",
       "</div>"
      ],
      "text/plain": [
       "    iso_code      country        year  annual_co2_prod_Megaton  \\\n",
       "0        AFG  Afghanistan  1949-01-01                    0.015   \n",
       "1        AFG  Afghanistan  1950-01-01                    0.084   \n",
       "207      ALB      Albania  1933-01-01                    0.007   \n",
       "208      ALB      Albania  1934-01-01                    0.007   \n",
       "209      ALB      Albania  1935-01-01                    0.018   \n",
       "\n",
       "     primary_energy_consumption_10Gwh  population           gdp Unit_argi  \\\n",
       "0                                 NaN   7663783.0           NaN       NaN   \n",
       "1                                 NaN   7752000.0  1.949480e+10       NaN   \n",
       "207                               NaN   1032197.0           NaN       NaN   \n",
       "208                               NaN   1037713.0           NaN       NaN   \n",
       "209                               NaN   1043229.0           NaN       NaN   \n",
       "\n",
       "     Value_agri_1000hectare Unit_beef  Value_beef_tonnes  \n",
       "0                       NaN       NaN                NaN  \n",
       "1                       NaN       NaN                NaN  \n",
       "207                     NaN       NaN                NaN  \n",
       "208                     NaN       NaN                NaN  \n",
       "209                     NaN       NaN                NaN  "
      ]
     },
     "execution_count": 68,
     "metadata": {},
     "output_type": "execute_result"
    }
   ],
   "source": [
    "p4_c1=df['year']<='1950-01-01'\n",
    "p4_c2=df['year']>'1900-01-01'\n",
    "period4=df[p4_c1&p4_c2]\n",
    "period4.head()"
   ]
  },
  {
   "cell_type": "code",
   "execution_count": 69,
   "metadata": {
    "execution": {
     "iopub.execute_input": "2020-10-07T18:26:54.105746Z",
     "iopub.status.busy": "2020-10-07T18:26:54.105012Z",
     "iopub.status.idle": "2020-10-07T18:26:54.109413Z",
     "shell.execute_reply": "2020-10-07T18:26:54.109889Z"
    },
    "papermill": {
     "duration": 0.058753,
     "end_time": "2020-10-07T18:26:54.110040",
     "exception": false,
     "start_time": "2020-10-07T18:26:54.051287",
     "status": "completed"
    },
    "tags": []
   },
   "outputs": [
    {
     "data": {
      "text/html": [
       "<div>\n",
       "<style scoped>\n",
       "    .dataframe tbody tr th:only-of-type {\n",
       "        vertical-align: middle;\n",
       "    }\n",
       "\n",
       "    .dataframe tbody tr th {\n",
       "        vertical-align: top;\n",
       "    }\n",
       "\n",
       "    .dataframe thead th {\n",
       "        text-align: right;\n",
       "    }\n",
       "</style>\n",
       "<table border=\"1\" class=\"dataframe\">\n",
       "  <thead>\n",
       "    <tr style=\"text-align: right;\">\n",
       "      <th></th>\n",
       "      <th>iso_code</th>\n",
       "      <th>country</th>\n",
       "      <th>year</th>\n",
       "      <th>annual_co2_prod_Megaton</th>\n",
       "      <th>primary_energy_consumption_10Gwh</th>\n",
       "      <th>population</th>\n",
       "      <th>gdp</th>\n",
       "      <th>Unit_argi</th>\n",
       "      <th>Value_agri_1000hectare</th>\n",
       "      <th>Unit_beef</th>\n",
       "      <th>Value_beef_tonnes</th>\n",
       "    </tr>\n",
       "  </thead>\n",
       "  <tbody>\n",
       "    <tr>\n",
       "      <th>2</th>\n",
       "      <td>AFG</td>\n",
       "      <td>Afghanistan</td>\n",
       "      <td>1951-01-01</td>\n",
       "      <td>0.092</td>\n",
       "      <td>NaN</td>\n",
       "      <td>7840000.0</td>\n",
       "      <td>2.006385e+10</td>\n",
       "      <td>NaN</td>\n",
       "      <td>NaN</td>\n",
       "      <td>NaN</td>\n",
       "      <td>NaN</td>\n",
       "    </tr>\n",
       "    <tr>\n",
       "      <th>3</th>\n",
       "      <td>AFG</td>\n",
       "      <td>Afghanistan</td>\n",
       "      <td>1952-01-01</td>\n",
       "      <td>0.092</td>\n",
       "      <td>NaN</td>\n",
       "      <td>7936000.0</td>\n",
       "      <td>2.074235e+10</td>\n",
       "      <td>NaN</td>\n",
       "      <td>NaN</td>\n",
       "      <td>NaN</td>\n",
       "      <td>NaN</td>\n",
       "    </tr>\n",
       "    <tr>\n",
       "      <th>4</th>\n",
       "      <td>AFG</td>\n",
       "      <td>Afghanistan</td>\n",
       "      <td>1953-01-01</td>\n",
       "      <td>0.106</td>\n",
       "      <td>NaN</td>\n",
       "      <td>8040000.0</td>\n",
       "      <td>2.201546e+10</td>\n",
       "      <td>NaN</td>\n",
       "      <td>NaN</td>\n",
       "      <td>NaN</td>\n",
       "      <td>NaN</td>\n",
       "    </tr>\n",
       "    <tr>\n",
       "      <th>5</th>\n",
       "      <td>AFG</td>\n",
       "      <td>Afghanistan</td>\n",
       "      <td>1954-01-01</td>\n",
       "      <td>0.106</td>\n",
       "      <td>NaN</td>\n",
       "      <td>8151000.0</td>\n",
       "      <td>2.248333e+10</td>\n",
       "      <td>NaN</td>\n",
       "      <td>NaN</td>\n",
       "      <td>NaN</td>\n",
       "      <td>NaN</td>\n",
       "    </tr>\n",
       "    <tr>\n",
       "      <th>6</th>\n",
       "      <td>AFG</td>\n",
       "      <td>Afghanistan</td>\n",
       "      <td>1955-01-01</td>\n",
       "      <td>0.154</td>\n",
       "      <td>NaN</td>\n",
       "      <td>8271000.0</td>\n",
       "      <td>2.292989e+10</td>\n",
       "      <td>NaN</td>\n",
       "      <td>NaN</td>\n",
       "      <td>NaN</td>\n",
       "      <td>NaN</td>\n",
       "    </tr>\n",
       "  </tbody>\n",
       "</table>\n",
       "</div>"
      ],
      "text/plain": [
       "  iso_code      country        year  annual_co2_prod_Megaton  \\\n",
       "2      AFG  Afghanistan  1951-01-01                    0.092   \n",
       "3      AFG  Afghanistan  1952-01-01                    0.092   \n",
       "4      AFG  Afghanistan  1953-01-01                    0.106   \n",
       "5      AFG  Afghanistan  1954-01-01                    0.106   \n",
       "6      AFG  Afghanistan  1955-01-01                    0.154   \n",
       "\n",
       "   primary_energy_consumption_10Gwh  population           gdp Unit_argi  \\\n",
       "2                               NaN   7840000.0  2.006385e+10       NaN   \n",
       "3                               NaN   7936000.0  2.074235e+10       NaN   \n",
       "4                               NaN   8040000.0  2.201546e+10       NaN   \n",
       "5                               NaN   8151000.0  2.248333e+10       NaN   \n",
       "6                               NaN   8271000.0  2.292989e+10       NaN   \n",
       "\n",
       "   Value_agri_1000hectare Unit_beef  Value_beef_tonnes  \n",
       "2                     NaN       NaN                NaN  \n",
       "3                     NaN       NaN                NaN  \n",
       "4                     NaN       NaN                NaN  \n",
       "5                     NaN       NaN                NaN  \n",
       "6                     NaN       NaN                NaN  "
      ]
     },
     "execution_count": 69,
     "metadata": {},
     "output_type": "execute_result"
    }
   ],
   "source": [
    "p5_c1=df['year']<='2000-01-01'\n",
    "p5_c2=df['year']>'1950-01-01'\n",
    "period5=df[p5_c1&p5_c2]\n",
    "period5.head()"
   ]
  },
  {
   "cell_type": "code",
   "execution_count": 70,
   "metadata": {
    "execution": {
     "iopub.execute_input": "2020-10-07T18:26:54.357539Z",
     "iopub.status.busy": "2020-10-07T18:26:54.354284Z",
     "iopub.status.idle": "2020-10-07T18:26:54.361365Z",
     "shell.execute_reply": "2020-10-07T18:26:54.360564Z"
    },
    "papermill": {
     "duration": 0.07922,
     "end_time": "2020-10-07T18:26:54.361540",
     "exception": false,
     "start_time": "2020-10-07T18:26:54.282320",
     "status": "completed"
    },
    "tags": []
   },
   "outputs": [
    {
     "data": {
      "text/html": [
       "<div>\n",
       "<style scoped>\n",
       "    .dataframe tbody tr th:only-of-type {\n",
       "        vertical-align: middle;\n",
       "    }\n",
       "\n",
       "    .dataframe tbody tr th {\n",
       "        vertical-align: top;\n",
       "    }\n",
       "\n",
       "    .dataframe thead th {\n",
       "        text-align: right;\n",
       "    }\n",
       "</style>\n",
       "<table border=\"1\" class=\"dataframe\">\n",
       "  <thead>\n",
       "    <tr style=\"text-align: right;\">\n",
       "      <th></th>\n",
       "      <th>iso_code</th>\n",
       "      <th>country</th>\n",
       "      <th>year</th>\n",
       "      <th>annual_co2_prod_Megaton</th>\n",
       "      <th>primary_energy_consumption_10Gwh</th>\n",
       "      <th>population</th>\n",
       "      <th>gdp</th>\n",
       "      <th>Unit_argi</th>\n",
       "      <th>Value_agri_1000hectare</th>\n",
       "      <th>Unit_beef</th>\n",
       "      <th>Value_beef_tonnes</th>\n",
       "    </tr>\n",
       "  </thead>\n",
       "  <tbody>\n",
       "    <tr>\n",
       "      <th>52</th>\n",
       "      <td>AFG</td>\n",
       "      <td>Afghanistan</td>\n",
       "      <td>2001-01-01</td>\n",
       "      <td>0.798</td>\n",
       "      <td>NaN</td>\n",
       "      <td>21607000.0</td>\n",
       "      <td>1.557484e+10</td>\n",
       "      <td>1000 ha</td>\n",
       "      <td>37753.0</td>\n",
       "      <td>tonnes</td>\n",
       "      <td>108000.0</td>\n",
       "    </tr>\n",
       "    <tr>\n",
       "      <th>53</th>\n",
       "      <td>AFG</td>\n",
       "      <td>Afghanistan</td>\n",
       "      <td>2002-01-01</td>\n",
       "      <td>1.052</td>\n",
       "      <td>NaN</td>\n",
       "      <td>22601000.0</td>\n",
       "      <td>2.567680e+10</td>\n",
       "      <td>1000 ha</td>\n",
       "      <td>37753.0</td>\n",
       "      <td>tonnes</td>\n",
       "      <td>150000.0</td>\n",
       "    </tr>\n",
       "    <tr>\n",
       "      <th>54</th>\n",
       "      <td>AFG</td>\n",
       "      <td>Afghanistan</td>\n",
       "      <td>2003-01-01</td>\n",
       "      <td>1.186</td>\n",
       "      <td>NaN</td>\n",
       "      <td>23681000.0</td>\n",
       "      <td>2.780556e+10</td>\n",
       "      <td>1000 ha</td>\n",
       "      <td>37910.0</td>\n",
       "      <td>tonnes</td>\n",
       "      <td>137000.0</td>\n",
       "    </tr>\n",
       "    <tr>\n",
       "      <th>55</th>\n",
       "      <td>AFG</td>\n",
       "      <td>Afghanistan</td>\n",
       "      <td>2004-01-01</td>\n",
       "      <td>0.889</td>\n",
       "      <td>NaN</td>\n",
       "      <td>24727000.0</td>\n",
       "      <td>2.844769e+10</td>\n",
       "      <td>1000 ha</td>\n",
       "      <td>37911.0</td>\n",
       "      <td>tonnes</td>\n",
       "      <td>149300.0</td>\n",
       "    </tr>\n",
       "    <tr>\n",
       "      <th>56</th>\n",
       "      <td>AFG</td>\n",
       "      <td>Afghanistan</td>\n",
       "      <td>2005-01-01</td>\n",
       "      <td>1.303</td>\n",
       "      <td>NaN</td>\n",
       "      <td>25654000.0</td>\n",
       "      <td>3.125965e+10</td>\n",
       "      <td>1000 ha</td>\n",
       "      <td>37910.0</td>\n",
       "      <td>tonnes</td>\n",
       "      <td>141100.0</td>\n",
       "    </tr>\n",
       "  </tbody>\n",
       "</table>\n",
       "</div>"
      ],
      "text/plain": [
       "   iso_code      country        year  annual_co2_prod_Megaton  \\\n",
       "52      AFG  Afghanistan  2001-01-01                    0.798   \n",
       "53      AFG  Afghanistan  2002-01-01                    1.052   \n",
       "54      AFG  Afghanistan  2003-01-01                    1.186   \n",
       "55      AFG  Afghanistan  2004-01-01                    0.889   \n",
       "56      AFG  Afghanistan  2005-01-01                    1.303   \n",
       "\n",
       "    primary_energy_consumption_10Gwh  population           gdp Unit_argi  \\\n",
       "52                               NaN  21607000.0  1.557484e+10   1000 ha   \n",
       "53                               NaN  22601000.0  2.567680e+10   1000 ha   \n",
       "54                               NaN  23681000.0  2.780556e+10   1000 ha   \n",
       "55                               NaN  24727000.0  2.844769e+10   1000 ha   \n",
       "56                               NaN  25654000.0  3.125965e+10   1000 ha   \n",
       "\n",
       "    Value_agri_1000hectare Unit_beef  Value_beef_tonnes  \n",
       "52                 37753.0    tonnes           108000.0  \n",
       "53                 37753.0    tonnes           150000.0  \n",
       "54                 37910.0    tonnes           137000.0  \n",
       "55                 37911.0    tonnes           149300.0  \n",
       "56                 37910.0    tonnes           141100.0  "
      ]
     },
     "execution_count": 70,
     "metadata": {},
     "output_type": "execute_result"
    }
   ],
   "source": [
    "p6_c1=df['year']>'2000-01-01'\n",
    "period6=df[p6_c1]\n",
    "period6.head()"
   ]
  },
  {
   "cell_type": "markdown",
   "metadata": {
    "papermill": {
     "duration": 0.05933,
     "end_time": "2020-10-07T18:26:54.485852",
     "exception": false,
     "start_time": "2020-10-07T18:26:54.426522",
     "status": "completed"
    },
    "tags": []
   },
   "source": [
    "## Now let's see Co2 emissions in each period grouped by country"
   ]
  },
  {
   "cell_type": "markdown",
   "metadata": {
    "papermill": {
     "duration": 0.046696,
     "end_time": "2020-10-07T18:26:54.589669",
     "exception": false,
     "start_time": "2020-10-07T18:26:54.542973",
     "status": "completed"
    },
    "tags": []
   },
   "source": [
    "### Period 1 from year 1751 to 1800"
   ]
  },
  {
   "cell_type": "code",
   "execution_count": 71,
   "metadata": {
    "execution": {
     "iopub.execute_input": "2020-10-07T18:26:54.689649Z",
     "iopub.status.busy": "2020-10-07T18:26:54.688442Z",
     "iopub.status.idle": "2020-10-07T18:26:54.912838Z",
     "shell.execute_reply": "2020-10-07T18:26:54.912290Z"
    },
    "papermill": {
     "duration": 0.276418,
     "end_time": "2020-10-07T18:26:54.912962",
     "exception": false,
     "start_time": "2020-10-07T18:26:54.636544",
     "status": "completed"
    },
    "tags": []
   },
   "outputs": [
    {
     "name": "stderr",
     "output_type": "stream",
     "text": [
      "/opt/anaconda3/lib/python3.8/site-packages/seaborn/distributions.py:2551: FutureWarning: `distplot` is a deprecated function and will be removed in a future version. Please adapt your code to use either `displot` (a figure-level function with similar flexibility) or `histplot` (an axes-level function for histograms).\n",
      "  warnings.warn(msg, FutureWarning)\n"
     ]
    },
    {
     "data": {
      "image/png": "[encoded data removed]",
      "text/plain": [
       "<Figure size 576x396 with 1 Axes>"
      ]
     },
     "metadata": {},
     "output_type": "display_data"
    }
   ],
   "source": [
    "sns.distplot(period1['annual_co2_prod_Megaton'],kde=False).set_title('Co2 emissions from 1751 to 1800 Histogram')\n",
    "plt.ylabel('CO2 emissions in MegaTonnes')\n",
    "plt.show()"
   ]
  },
  {
   "cell_type": "code",
   "execution_count": 72,
   "metadata": {
    "execution": {
     "iopub.execute_input": "2020-10-07T18:26:55.018284Z",
     "iopub.status.busy": "2020-10-07T18:26:55.017534Z",
     "iopub.status.idle": "2020-10-07T18:26:55.021786Z",
     "shell.execute_reply": "2020-10-07T18:26:55.021174Z"
    },
    "papermill": {
     "duration": 0.060936,
     "end_time": "2020-10-07T18:26:55.021897",
     "exception": false,
     "start_time": "2020-10-07T18:26:54.960961",
     "status": "completed"
    },
    "tags": []
   },
   "outputs": [
    {
     "data": {
      "text/plain": [
       "country\n",
       "World             781.509\n",
       "United Kingdom    775.871\n",
       "Germany             4.921\n",
       "Poland              0.407\n",
       "United States       0.253\n",
       "Canada              0.064\n",
       "Name: annual_co2_prod_Megaton, dtype: float64"
      ]
     },
     "execution_count": 72,
     "metadata": {},
     "output_type": "execute_result"
    }
   ],
   "source": [
    "period1.groupby('country')['annual_co2_prod_Megaton'].sum().sort_values(ascending=False)"
   ]
  },
  {
   "cell_type": "code",
   "execution_count": 75,
   "metadata": {
    "execution": {
     "iopub.execute_input": "2020-10-07T18:26:55.136928Z",
     "iopub.status.busy": "2020-10-07T18:26:55.136235Z",
     "iopub.status.idle": "2020-10-07T18:26:55.314299Z",
     "shell.execute_reply": "2020-10-07T18:26:55.313305Z"
    },
    "papermill": {
     "duration": 0.244464,
     "end_time": "2020-10-07T18:26:55.314424",
     "exception": false,
     "start_time": "2020-10-07T18:26:55.069960",
     "status": "completed"
    },
    "tags": []
   },
   "outputs": [
    {
     "data": {
      "text/plain": [
       "Text(0.5, 1.0, 'Co2 emissions from year 1751 to 1800 by country')"
      ]
     },
     "execution_count": 75,
     "metadata": {},
     "output_type": "execute_result"
    },
    {
     "data": {
      "image/png": "[encoded data removed]",
      "text/plain": [
       "<Figure size 576x396 with 1 Axes>"
      ]
     },
     "metadata": {},
     "output_type": "display_data"
    }
   ],
   "source": [
    "plt.style.use('seaborn')\n",
    "period1.groupby('country')['annual_co2_prod_Megaton'].sum().sort_values(ascending=False)[1:11].plot(kind='bar')\n",
    "plt.ylabel('CO2 Emissions in megatonnes')\n",
    "plt.title('Co2 emissions from year 1751 to 1800 by country',fontweight='bold')"
   ]
  },
  {
   "cell_type": "code",
   "execution_count": 77,
   "metadata": {
    "execution": {
     "iopub.execute_input": "2020-10-07T18:26:55.421375Z",
     "iopub.status.busy": "2020-10-07T18:26:55.420607Z",
     "iopub.status.idle": "2020-10-07T18:26:55.424638Z",
     "shell.execute_reply": "2020-10-07T18:26:55.425096Z"
    },
    "papermill": {
     "duration": 0.060347,
     "end_time": "2020-10-07T18:26:55.425246",
     "exception": false,
     "start_time": "2020-10-07T18:26:55.364899",
     "status": "completed"
    },
    "tags": []
   },
   "outputs": [
    {
     "data": {
      "text/plain": [
       "1563.025"
      ]
     },
     "execution_count": 77,
     "metadata": {},
     "output_type": "execute_result"
    }
   ],
   "source": [
    "co2_1751_to1800=period1['annual_co2_prod_Megaton'].sum()\n",
    "period1['annual_co2_prod_Megaton'].sum()"
   ]
  },
  {
   "cell_type": "markdown",
   "metadata": {
    "papermill": {
     "duration": 0.050319,
     "end_time": "2020-10-07T18:26:55.525739",
     "exception": false,
     "start_time": "2020-10-07T18:26:55.475420",
     "status": "completed"
    },
    "tags": []
   },
   "source": [
    "## Period 2 from 1801 to 1850"
   ]
  },
  {
   "cell_type": "code",
   "execution_count": 78,
   "metadata": {
    "execution": {
     "iopub.execute_input": "2020-10-07T18:26:55.638473Z",
     "iopub.status.busy": "2020-10-07T18:26:55.632828Z",
     "iopub.status.idle": "2020-10-07T18:26:55.953063Z",
     "shell.execute_reply": "2020-10-07T18:26:55.952391Z"
    },
    "papermill": {
     "duration": 0.375291,
     "end_time": "2020-10-07T18:26:55.953178",
     "exception": false,
     "start_time": "2020-10-07T18:26:55.577887",
     "status": "completed"
    },
    "tags": []
   },
   "outputs": [
    {
     "name": "stderr",
     "output_type": "stream",
     "text": [
      "/opt/anaconda3/lib/python3.8/site-packages/seaborn/distributions.py:2551: FutureWarning: `distplot` is a deprecated function and will be removed in a future version. Please adapt your code to use either `displot` (a figure-level function with similar flexibility) or `histplot` (an axes-level function for histograms).\n",
      "  warnings.warn(msg, FutureWarning)\n"
     ]
    },
    {
     "data": {
      "image/png": "[encoded data removed]",
      "text/plain": [
       "<Figure size 576x396 with 1 Axes>"
      ]
     },
     "metadata": {},
     "output_type": "display_data"
    }
   ],
   "source": [
    "sns.distplot(period2['annual_co2_prod_Megaton'],kde=False).set_title('Co2 emissions from 1801 to 1850 Histogram')\n",
    "plt.ylabel('CO2 Emissions per megatonnes')\n",
    "plt.show()"
   ]
  },
  {
   "cell_type": "code",
   "execution_count": 79,
   "metadata": {
    "execution": {
     "iopub.execute_input": "2020-10-07T18:26:56.065508Z",
     "iopub.status.busy": "2020-10-07T18:26:56.064588Z",
     "iopub.status.idle": "2020-10-07T18:26:56.068961Z",
     "shell.execute_reply": "2020-10-07T18:26:56.068319Z"
    },
    "papermill": {
     "duration": 0.064858,
     "end_time": "2020-10-07T18:26:56.069074",
     "exception": false,
     "start_time": "2020-10-07T18:26:56.004216",
     "status": "completed"
    },
    "tags": []
   },
   "outputs": [
    {
     "data": {
      "text/plain": [
       "country\n",
       "World             3977.898\n",
       "United Kingdom    2927.455\n",
       "France             340.422\n",
       "Germany            249.733\n",
       "United States      189.718\n",
       "Belgium            150.497\n",
       "Poland              62.956\n",
       "Austria             30.649\n",
       "Netherlands         16.854\n",
       "Spain                2.745\n",
       "Denmark              1.825\n",
       "Hungary              1.767\n",
       "Sweden               1.181\n",
       "Norway               1.154\n",
       "Ireland              0.396\n",
       "Canada               0.386\n",
       "Russia               0.114\n",
       "Ukraine              0.034\n",
       "Kazakhstan           0.011\n",
       "Belarus              0.007\n",
       "Uzbekistan           0.006\n",
       "Azerbaijan           0.002\n",
       "Estonia              0.001\n",
       "Latvia               0.001\n",
       "Georgia              0.001\n",
       "Kyrgyzstan           0.001\n",
       "Lithuania            0.001\n",
       "Moldova              0.001\n",
       "Turkmenistan         0.001\n",
       "Armenia              0.001\n",
       "Tajikistan           0.000\n",
       "Name: annual_co2_prod_Megaton, dtype: float64"
      ]
     },
     "execution_count": 79,
     "metadata": {},
     "output_type": "execute_result"
    }
   ],
   "source": [
    "period2.groupby('country')['annual_co2_prod_Megaton'].sum().sort_values(ascending=False)"
   ]
  },
  {
   "cell_type": "code",
   "execution_count": 80,
   "metadata": {
    "execution": {
     "iopub.execute_input": "2020-10-07T18:26:56.182344Z",
     "iopub.status.busy": "2020-10-07T18:26:56.178280Z",
     "iopub.status.idle": "2020-10-07T18:26:56.353164Z",
     "shell.execute_reply": "2020-10-07T18:26:56.352500Z"
    },
    "papermill": {
     "duration": 0.232702,
     "end_time": "2020-10-07T18:26:56.353278",
     "exception": false,
     "start_time": "2020-10-07T18:26:56.120576",
     "status": "completed"
    },
    "tags": []
   },
   "outputs": [
    {
     "data": {
      "text/plain": [
       "Text(0, 0.5, 'CO2 Emissions in megatonnes')"
      ]
     },
     "execution_count": 80,
     "metadata": {},
     "output_type": "execute_result"
    },
    {
     "data": {
      "image/png": "[encoded data removed]",
      "text/plain": [
       "<Figure size 576x396 with 1 Axes>"
      ]
     },
     "metadata": {},
     "output_type": "display_data"
    }
   ],
   "source": [
    "plt.style.use('seaborn')\n",
    "period2.groupby('country')['annual_co2_prod_Megaton'].sum().sort_values(ascending=False)[1:11].plot(kind='bar')\n",
    "plt.title('Co2 emissions from year 1801 to 1850 by country',fontweight='bold')\n",
    "plt.ylabel('CO2 Emissions in megatonnes')\n"
   ]
  },
  {
   "cell_type": "code",
   "execution_count": 81,
   "metadata": {
    "execution": {
     "iopub.execute_input": "2020-10-07T18:26:56.468363Z",
     "iopub.status.busy": "2020-10-07T18:26:56.467245Z",
     "iopub.status.idle": "2020-10-07T18:26:56.471560Z",
     "shell.execute_reply": "2020-10-07T18:26:56.470951Z"
    },
    "papermill": {
     "duration": 0.064566,
     "end_time": "2020-10-07T18:26:56.471684",
     "exception": false,
     "start_time": "2020-10-07T18:26:56.407118",
     "status": "completed"
    },
    "tags": []
   },
   "outputs": [
    {
     "data": {
      "text/plain": [
       "7955.818"
      ]
     },
     "execution_count": 81,
     "metadata": {},
     "output_type": "execute_result"
    }
   ],
   "source": [
    "co2_1801_to1850=period2['annual_co2_prod_Megaton'].sum()\n",
    "period2['annual_co2_prod_Megaton'].sum()"
   ]
  },
  {
   "cell_type": "markdown",
   "metadata": {
    "papermill": {
     "duration": 0.053089,
     "end_time": "2020-10-07T18:26:56.578689",
     "exception": false,
     "start_time": "2020-10-07T18:26:56.525600",
     "status": "completed"
    },
    "tags": []
   },
   "source": [
    "## Period 3 from 1851 to 1900"
   ]
  },
  {
   "cell_type": "code",
   "execution_count": 82,
   "metadata": {
    "execution": {
     "iopub.execute_input": "2020-10-07T18:26:56.697293Z",
     "iopub.status.busy": "2020-10-07T18:26:56.696554Z",
     "iopub.status.idle": "2020-10-07T18:26:56.927835Z",
     "shell.execute_reply": "2020-10-07T18:26:56.927309Z"
    },
    "papermill": {
     "duration": 0.295753,
     "end_time": "2020-10-07T18:26:56.927957",
     "exception": false,
     "start_time": "2020-10-07T18:26:56.632204",
     "status": "completed"
    },
    "tags": []
   },
   "outputs": [
    {
     "name": "stderr",
     "output_type": "stream",
     "text": [
      "/opt/anaconda3/lib/python3.8/site-packages/seaborn/distributions.py:2551: FutureWarning: `distplot` is a deprecated function and will be removed in a future version. Please adapt your code to use either `displot` (a figure-level function with similar flexibility) or `histplot` (an axes-level function for histograms).\n",
      "  warnings.warn(msg, FutureWarning)\n"
     ]
    },
    {
     "data": {
      "image/png": "[encoded data removed]",
      "text/plain": [
       "<Figure size 576x396 with 1 Axes>"
      ]
     },
     "metadata": {},
     "output_type": "display_data"
    }
   ],
   "source": [
    "sns.distplot(period3['annual_co2_prod_Megaton'],kde=False).set_title('Co2 emissions from 1851 to 1900 Histogram')\n",
    "plt.ylabel('CO2 Emissions per megatonnes')\n",
    "plt.show()"
   ]
  },
  {
   "cell_type": "code",
   "execution_count": 83,
   "metadata": {
    "execution": {
     "iopub.execute_input": "2020-10-07T18:26:57.045589Z",
     "iopub.status.busy": "2020-10-07T18:26:57.041690Z",
     "iopub.status.idle": "2020-10-07T18:26:57.050554Z",
     "shell.execute_reply": "2020-10-07T18:26:57.049924Z"
    },
    "papermill": {
     "duration": 0.068801,
     "end_time": "2020-10-07T18:26:57.050663",
     "exception": false,
     "start_time": "2020-10-07T18:26:56.981862",
     "status": "completed"
    },
    "tags": []
   },
   "outputs": [
    {
     "data": {
      "text/plain": [
       "country\n",
       "World              40063.411\n",
       "United Kingdom     13040.185\n",
       "United States      10475.853\n",
       "Germany             6136.201\n",
       "France              3370.042\n",
       "                     ...    \n",
       "Slovenia               0.493\n",
       "North Macedonia        0.435\n",
       "Taiwan                 0.360\n",
       "China                  0.095\n",
       "Montenegro             0.060\n",
       "Name: annual_co2_prod_Megaton, Length: 61, dtype: float64"
      ]
     },
     "execution_count": 83,
     "metadata": {},
     "output_type": "execute_result"
    }
   ],
   "source": [
    "period3.groupby('country')['annual_co2_prod_Megaton'].sum().sort_values(ascending=False)"
   ]
  },
  {
   "cell_type": "code",
   "execution_count": 84,
   "metadata": {
    "execution": {
     "iopub.execute_input": "2020-10-07T18:26:57.166960Z",
     "iopub.status.busy": "2020-10-07T18:26:57.166319Z",
     "iopub.status.idle": "2020-10-07T18:26:57.345699Z",
     "shell.execute_reply": "2020-10-07T18:26:57.344777Z"
    },
    "papermill": {
     "duration": 0.240229,
     "end_time": "2020-10-07T18:26:57.345894",
     "exception": false,
     "start_time": "2020-10-07T18:26:57.105665",
     "status": "completed"
    },
    "tags": []
   },
   "outputs": [
    {
     "data": {
      "text/plain": [
       "Text(0.5, 1.0, 'Co2 emissions from 1851 to 1900 per country')"
      ]
     },
     "execution_count": 84,
     "metadata": {},
     "output_type": "execute_result"
    },
    {
     "data": {
      "image/png": "[encoded data removed]",
      "text/plain": [
       "<Figure size 576x396 with 1 Axes>"
      ]
     },
     "metadata": {},
     "output_type": "display_data"
    }
   ],
   "source": [
    "plt.style.use('seaborn')\n",
    "period3.groupby('country')['annual_co2_prod_Megaton'].sum().sort_values(ascending=False)[1:11].plot(kind='bar')\n",
    "plt.ylabel('Co2 emissions in megatonnes')\n",
    "plt.title('Co2 emissions from 1851 to 1900 per country',fontweight='bold')"
   ]
  },
  {
   "cell_type": "code",
   "execution_count": 85,
   "metadata": {
    "execution": {
     "iopub.execute_input": "2020-10-07T18:26:57.494604Z",
     "iopub.status.busy": "2020-10-07T18:26:57.493918Z",
     "iopub.status.idle": "2020-10-07T18:26:57.498460Z",
     "shell.execute_reply": "2020-10-07T18:26:57.497832Z"
    },
    "papermill": {
     "duration": 0.072129,
     "end_time": "2020-10-07T18:26:57.498570",
     "exception": false,
     "start_time": "2020-10-07T18:26:57.426441",
     "status": "completed"
    },
    "tags": []
   },
   "outputs": [
    {
     "data": {
      "text/plain": [
       "80126.835"
      ]
     },
     "execution_count": 85,
     "metadata": {},
     "output_type": "execute_result"
    }
   ],
   "source": [
    "co2_1851_to1900=period3['annual_co2_prod_Megaton'].sum()\n",
    "period3['annual_co2_prod_Megaton'].sum()"
   ]
  },
  {
   "cell_type": "markdown",
   "metadata": {
    "papermill": {
     "duration": 0.05795,
     "end_time": "2020-10-07T18:26:57.616168",
     "exception": false,
     "start_time": "2020-10-07T18:26:57.558218",
     "status": "completed"
    },
    "tags": []
   },
   "source": [
    "## Period 4 from 1901 to 1950"
   ]
  },
  {
   "cell_type": "code",
   "execution_count": 86,
   "metadata": {
    "execution": {
     "iopub.execute_input": "2020-10-07T18:26:57.748826Z",
     "iopub.status.busy": "2020-10-07T18:26:57.748107Z",
     "iopub.status.idle": "2020-10-07T18:26:57.969992Z",
     "shell.execute_reply": "2020-10-07T18:26:57.969361Z"
    },
    "papermill": {
     "duration": 0.290804,
     "end_time": "2020-10-07T18:26:57.970104",
     "exception": false,
     "start_time": "2020-10-07T18:26:57.679300",
     "status": "completed"
    },
    "tags": []
   },
   "outputs": [
    {
     "name": "stderr",
     "output_type": "stream",
     "text": [
      "/opt/anaconda3/lib/python3.8/site-packages/seaborn/distributions.py:2551: FutureWarning: `distplot` is a deprecated function and will be removed in a future version. Please adapt your code to use either `displot` (a figure-level function with similar flexibility) or `histplot` (an axes-level function for histograms).\n",
      "  warnings.warn(msg, FutureWarning)\n"
     ]
    },
    {
     "data": {
      "image/png": "[encoded data removed]",
      "text/plain": [
       "<Figure size 576x396 with 1 Axes>"
      ]
     },
     "metadata": {},
     "output_type": "display_data"
    }
   ],
   "source": [
    "sns.distplot(period4['annual_co2_prod_Megaton'],kde=False).set_title('Co2 emissions from 1901 to 1950 Histogram')\n",
    "plt.show()"
   ]
  },
  {
   "cell_type": "code",
   "execution_count": 87,
   "metadata": {
    "execution": {
     "iopub.execute_input": "2020-10-07T18:26:58.095220Z",
     "iopub.status.busy": "2020-10-07T18:26:58.090867Z",
     "iopub.status.idle": "2020-10-07T18:26:58.099409Z",
     "shell.execute_reply": "2020-10-07T18:26:58.098920Z"
    },
    "papermill": {
     "duration": 0.072047,
     "end_time": "2020-10-07T18:26:58.099540",
     "exception": false,
     "start_time": "2020-10-07T18:26:58.027493",
     "status": "completed"
    },
    "tags": []
   },
   "outputs": [
    {
     "data": {
      "text/plain": [
       "country\n",
       "World                               185529.650\n",
       "United States                        81351.095\n",
       "Germany                              22798.164\n",
       "United Kingdom                       22415.131\n",
       "France                                8173.850\n",
       "                                       ...    \n",
       "Grenada                                  0.007\n",
       "Saint Lucia                              0.004\n",
       "Samoa                                    0.004\n",
       "Eswatini                                 0.004\n",
       "Saint Vincent and the Grenadines         0.004\n",
       "Name: annual_co2_prod_Megaton, Length: 165, dtype: float64"
      ]
     },
     "execution_count": 87,
     "metadata": {},
     "output_type": "execute_result"
    }
   ],
   "source": [
    "period4.groupby('country')['annual_co2_prod_Megaton'].sum().sort_values(ascending=False)"
   ]
  },
  {
   "cell_type": "code",
   "execution_count": 88,
   "metadata": {
    "execution": {
     "iopub.execute_input": "2020-10-07T18:26:58.227217Z",
     "iopub.status.busy": "2020-10-07T18:26:58.222385Z",
     "iopub.status.idle": "2020-10-07T18:26:58.406300Z",
     "shell.execute_reply": "2020-10-07T18:26:58.405697Z"
    },
    "papermill": {
     "duration": 0.248887,
     "end_time": "2020-10-07T18:26:58.406418",
     "exception": false,
     "start_time": "2020-10-07T18:26:58.157531",
     "status": "completed"
    },
    "tags": []
   },
   "outputs": [
    {
     "data": {
      "text/plain": [
       "Text(0, 0.5, 'CO2 Emissions in megatonnes')"
      ]
     },
     "execution_count": 88,
     "metadata": {},
     "output_type": "execute_result"
    },
    {
     "data": {
      "image/png": "[encoded data removed]",
      "text/plain": [
       "<Figure size 576x396 with 1 Axes>"
      ]
     },
     "metadata": {},
     "output_type": "display_data"
    }
   ],
   "source": [
    "plt.style.use('seaborn')\n",
    "period4.groupby('country')['annual_co2_prod_Megaton'].sum().sort_values(ascending=False)[1:11].plot(kind='bar')\n",
    "plt.title('Top 10 coutries in emttiong co2 from 1901 to 1950',fontweight='bold')\n",
    "plt.ylabel('CO2 Emissions in megatonnes')"
   ]
  },
  {
   "cell_type": "code",
   "execution_count": 89,
   "metadata": {
    "execution": {
     "iopub.execute_input": "2020-10-07T18:26:58.532958Z",
     "iopub.status.busy": "2020-10-07T18:26:58.531991Z",
     "iopub.status.idle": "2020-10-07T18:26:58.536466Z",
     "shell.execute_reply": "2020-10-07T18:26:58.535985Z"
    },
    "papermill": {
     "duration": 0.070082,
     "end_time": "2020-10-07T18:26:58.536580",
     "exception": false,
     "start_time": "2020-10-07T18:26:58.466498",
     "status": "completed"
    },
    "tags": []
   },
   "outputs": [
    {
     "data": {
      "text/plain": [
       "80126.835"
      ]
     },
     "execution_count": 89,
     "metadata": {},
     "output_type": "execute_result"
    }
   ],
   "source": [
    "co2_1901_to1950=period4['annual_co2_prod_Megaton'].sum()\n",
    "period3['annual_co2_prod_Megaton'].sum()"
   ]
  },
  {
   "cell_type": "markdown",
   "metadata": {
    "papermill": {
     "duration": 0.059666,
     "end_time": "2020-10-07T18:26:58.656288",
     "exception": false,
     "start_time": "2020-10-07T18:26:58.596622",
     "status": "completed"
    },
    "tags": []
   },
   "source": [
    "## Period 5 from 1951 to 2000"
   ]
  },
  {
   "cell_type": "code",
   "execution_count": 90,
   "metadata": {
    "execution": {
     "iopub.execute_input": "2020-10-07T18:26:58.785928Z",
     "iopub.status.busy": "2020-10-07T18:26:58.781592Z",
     "iopub.status.idle": "2020-10-07T18:26:59.000345Z",
     "shell.execute_reply": "2020-10-07T18:26:58.999648Z"
    },
    "papermill": {
     "duration": 0.284426,
     "end_time": "2020-10-07T18:26:59.000462",
     "exception": false,
     "start_time": "2020-10-07T18:26:58.716036",
     "status": "completed"
    },
    "tags": []
   },
   "outputs": [
    {
     "name": "stderr",
     "output_type": "stream",
     "text": [
      "/opt/anaconda3/lib/python3.8/site-packages/seaborn/distributions.py:2551: FutureWarning: `distplot` is a deprecated function and will be removed in a future version. Please adapt your code to use either `displot` (a figure-level function with similar flexibility) or `histplot` (an axes-level function for histograms).\n",
      "  warnings.warn(msg, FutureWarning)\n"
     ]
    },
    {
     "data": {
      "image/png": "[encoded data removed]",
      "text/plain": [
       "<Figure size 576x396 with 1 Axes>"
      ]
     },
     "metadata": {},
     "output_type": "display_data"
    }
   ],
   "source": [
    "sns.distplot(period5['annual_co2_prod_Megaton'],kde=False).set_title('Co2 emissions from 1951 to 2000 Histogram')\n",
    "plt.show()"
   ]
  },
  {
   "cell_type": "code",
   "execution_count": 91,
   "metadata": {
    "execution": {
     "iopub.execute_input": "2020-10-07T18:26:59.128468Z",
     "iopub.status.busy": "2020-10-07T18:26:59.127809Z",
     "iopub.status.idle": "2020-10-07T18:26:59.136842Z",
     "shell.execute_reply": "2020-10-07T18:26:59.136226Z"
    },
    "papermill": {
     "duration": 0.075618,
     "end_time": "2020-10-07T18:26:59.136955",
     "exception": false,
     "start_time": "2020-10-07T18:26:59.061337",
     "status": "completed"
    },
    "tags": []
   },
   "outputs": [
    {
     "data": {
      "text/plain": [
       "country\n",
       "World                   809867.413\n",
       "United States           210171.180\n",
       "Russia                   76757.497\n",
       "China                    70926.746\n",
       "Germany                  47025.324\n",
       "Japan                    36896.409\n",
       "United Kingdom           29313.477\n",
       "Ukraine                  22133.335\n",
       "France                   19167.392\n",
       "Canada                   17718.678\n",
       "India                    16942.314\n",
       "Poland                   15826.202\n",
       "Italy                    14641.948\n",
       "South Africa             10655.858\n",
       "Mexico                    9691.379\n",
       "Australia                 9315.274\n",
       "Kazakhstan                8048.640\n",
       "Spain                     7721.637\n",
       "Brazil                    7066.151\n",
       "Czechia                   6929.704\n",
       "South Korea               6777.309\n",
       "Iran                      6565.608\n",
       "Netherlands               6515.562\n",
       "Romania                   6062.855\n",
       "Saudi Arabia              5652.190\n",
       "Belgium                   5627.683\n",
       "Indonesia                 4631.283\n",
       "Argentina                 4423.486\n",
       "Venezuela                 4258.125\n",
       "Turkey                    4123.374\n",
       "Uzbekistan                4103.307\n",
       "North Korea               3937.662\n",
       "Belarus                   3722.393\n",
       "Taiwan                    3489.224\n",
       "Hungary                   3186.787\n",
       "Sweden                    3077.390\n",
       "Bulgaria                  2754.078\n",
       "Denmark                   2482.886\n",
       "Thailand                  2421.400\n",
       "Austria                   2420.000\n",
       "Egypt                     2347.057\n",
       "Slovakia                  2253.800\n",
       "Greece                    2171.191\n",
       "Algeria                   2107.518\n",
       "Finland                   1956.443\n",
       "Pakistan                  1854.544\n",
       "Colombia                  1835.088\n",
       "Azerbaijan                1785.689\n",
       "Malaysia                  1769.001\n",
       "Iraq                      1739.881\n",
       "Switzerland               1715.603\n",
       "Nigeria                   1700.840\n",
       "Serbia                    1678.593\n",
       "United Arab Emirates      1563.600\n",
       "Philippines               1491.016\n",
       "Turkmenistan              1443.941\n",
       "Norway                    1335.040\n",
       "Portugal                  1272.716\n",
       "Chile                     1257.203\n",
       "Kuwait                    1237.606\n",
       "Name: annual_co2_prod_Megaton, dtype: float64"
      ]
     },
     "execution_count": 91,
     "metadata": {},
     "output_type": "execute_result"
    }
   ],
   "source": [
    "period5.groupby('country')['annual_co2_prod_Megaton'].sum().sort_values(ascending=False)[:60]"
   ]
  },
  {
   "cell_type": "code",
   "execution_count": 92,
   "metadata": {
    "execution": {
     "iopub.execute_input": "2020-10-07T18:26:59.266205Z",
     "iopub.status.busy": "2020-10-07T18:26:59.265526Z",
     "iopub.status.idle": "2020-10-07T18:26:59.448233Z",
     "shell.execute_reply": "2020-10-07T18:26:59.447579Z"
    },
    "papermill": {
     "duration": 0.250497,
     "end_time": "2020-10-07T18:26:59.448345",
     "exception": false,
     "start_time": "2020-10-07T18:26:59.197848",
     "status": "completed"
    },
    "tags": []
   },
   "outputs": [
    {
     "data": {
      "text/plain": [
       "Text(0, 0.5, 'CO2 Emissions in megatonnes')"
      ]
     },
     "execution_count": 92,
     "metadata": {},
     "output_type": "execute_result"
    },
    {
     "data": {
      "image/png": "[encoded data removed]",
      "text/plain": [
       "<Figure size 576x396 with 1 Axes>"
      ]
     },
     "metadata": {},
     "output_type": "display_data"
    }
   ],
   "source": [
    "plt.style.use('seaborn')\n",
    "period5.groupby('country')['annual_co2_prod_Megaton'].sum().sort_values(ascending=False)[1:11].plot(kind='bar')\n",
    "plt.title('Top 10 coutries in emttiong co2 from 1951 to 2000',fontweight='bold')\n",
    "plt.ylabel('CO2 Emissions in megatonnes')"
   ]
  },
  {
   "cell_type": "code",
   "execution_count": 93,
   "metadata": {
    "execution": {
     "iopub.execute_input": "2020-10-07T18:26:59.579970Z",
     "iopub.status.busy": "2020-10-07T18:26:59.579242Z",
     "iopub.status.idle": "2020-10-07T18:26:59.583445Z",
     "shell.execute_reply": "2020-10-07T18:26:59.582912Z"
    },
    "papermill": {
     "duration": 0.072863,
     "end_time": "2020-10-07T18:26:59.583555",
     "exception": false,
     "start_time": "2020-10-07T18:26:59.510692",
     "status": "completed"
    },
    "tags": []
   },
   "outputs": [
    {
     "data": {
      "text/plain": [
       "1597604.0019999999"
      ]
     },
     "execution_count": 93,
     "metadata": {},
     "output_type": "execute_result"
    }
   ],
   "source": [
    "co2_1951_to2000=period5['annual_co2_prod_Megaton'].sum()\n",
    "period5['annual_co2_prod_Megaton'].sum()"
   ]
  },
  {
   "cell_type": "markdown",
   "metadata": {
    "papermill": {
     "duration": 0.062534,
     "end_time": "2020-10-07T18:26:59.708543",
     "exception": false,
     "start_time": "2020-10-07T18:26:59.646009",
     "status": "completed"
    },
    "tags": []
   },
   "source": [
    "## Period 6 from 2000 to 2019"
   ]
  },
  {
   "cell_type": "code",
   "execution_count": 94,
   "metadata": {
    "execution": {
     "iopub.execute_input": "2020-10-07T18:26:59.844626Z",
     "iopub.status.busy": "2020-10-07T18:26:59.839204Z",
     "iopub.status.idle": "2020-10-07T18:27:00.076108Z",
     "shell.execute_reply": "2020-10-07T18:27:00.075192Z"
    },
    "papermill": {
     "duration": 0.305019,
     "end_time": "2020-10-07T18:27:00.076287",
     "exception": false,
     "start_time": "2020-10-07T18:26:59.771268",
     "status": "completed"
    },
    "tags": []
   },
   "outputs": [
    {
     "name": "stderr",
     "output_type": "stream",
     "text": [
      "/opt/anaconda3/lib/python3.8/site-packages/seaborn/distributions.py:2551: FutureWarning: `distplot` is a deprecated function and will be removed in a future version. Please adapt your code to use either `displot` (a figure-level function with similar flexibility) or `histplot` (an axes-level function for histograms).\n",
      "  warnings.warn(msg, FutureWarning)\n"
     ]
    },
    {
     "data": {
      "image/png": "[encoded data removed]",
      "text/plain": [
       "<Figure size 576x396 with 1 Axes>"
      ]
     },
     "metadata": {},
     "output_type": "display_data"
    }
   ],
   "source": [
    "sns.distplot(period6['annual_co2_prod_Megaton'],kde=False).set_title('Co2 emissions from 1951 to 2000 Histogram')\n",
    "plt.show()"
   ]
  },
  {
   "cell_type": "code",
   "execution_count": 95,
   "metadata": {
    "execution": {
     "iopub.execute_input": "2020-10-07T18:27:00.219274Z",
     "iopub.status.busy": "2020-10-07T18:27:00.218594Z",
     "iopub.status.idle": "2020-10-07T18:27:00.390537Z",
     "shell.execute_reply": "2020-10-07T18:27:00.389908Z"
    },
    "papermill": {
     "duration": 0.245303,
     "end_time": "2020-10-07T18:27:00.390661",
     "exception": false,
     "start_time": "2020-10-07T18:27:00.145358",
     "status": "completed"
    },
    "tags": []
   },
   "outputs": [
    {
     "data": {
      "text/plain": [
       "Text(0, 0.5, 'CO2 Emissions in megatonnes')"
      ]
     },
     "execution_count": 95,
     "metadata": {},
     "output_type": "execute_result"
    },
    {
     "data": {
      "image/png": "[encoded data removed]",
      "text/plain": [
       "<Figure size 576x396 with 1 Axes>"
      ]
     },
     "metadata": {},
     "output_type": "display_data"
    }
   ],
   "source": [
    "plt.style.use('seaborn')\n",
    "period6.groupby('country')['annual_co2_prod_Megaton'].sum().sort_values(ascending=False)[1:11].plot(kind='bar')\n",
    "plt.title('Top 10 coutries in emttiong co2 from 2000 to 2017',fontweight='bold')\n",
    "plt.ylabel('CO2 Emissions in megatonnes')"
   ]
  },
  {
   "cell_type": "code",
   "execution_count": 96,
   "metadata": {
    "execution": {
     "iopub.execute_input": "2020-10-07T18:27:00.528132Z",
     "iopub.status.busy": "2020-10-07T18:27:00.527142Z",
     "iopub.status.idle": "2020-10-07T18:27:00.531492Z",
     "shell.execute_reply": "2020-10-07T18:27:00.530899Z"
    },
    "papermill": {
     "duration": 0.075276,
     "end_time": "2020-10-07T18:27:00.531604",
     "exception": false,
     "start_time": "2020-10-07T18:27:00.456328",
     "status": "completed"
    },
    "tags": []
   },
   "outputs": [
    {
     "data": {
      "text/plain": [
       "1205085.06"
      ]
     },
     "execution_count": 96,
     "metadata": {},
     "output_type": "execute_result"
    }
   ],
   "source": [
    "co2_2000_to2017=period6['annual_co2_prod_Megaton'].sum()\n",
    "period6['annual_co2_prod_Megaton'].sum()"
   ]
  },
  {
   "cell_type": "code",
   "execution_count": 99,
   "metadata": {
    "execution": {
     "iopub.execute_input": "2020-10-07T18:27:00.675344Z",
     "iopub.status.busy": "2020-10-07T18:27:00.674664Z",
     "iopub.status.idle": "2020-10-07T18:27:00.803819Z",
     "shell.execute_reply": "2020-10-07T18:27:00.803199Z"
    },
    "papermill": {
     "duration": 0.205935,
     "end_time": "2020-10-07T18:27:00.803931",
     "exception": false,
     "start_time": "2020-10-07T18:27:00.597996",
     "status": "completed"
    },
    "tags": []
   },
   "outputs": [
    {
     "data": {
      "image/png": "[encoded data removed]",
      "text/plain": [
       "<Figure size 576x396 with 1 Axes>"
      ]
     },
     "metadata": {},
     "output_type": "display_data"
    }
   ],
   "source": [
    "plt.bar([1,2,3,4,5,6],[co2_2000_to2017/19,co2_1951_to2000/50,co2_1901_to1950/50,co2_1851_to1900/50,co2_1801_to1850/50,co2_1751_to1800/50]\n",
    "       ,tick_label=['2000-2019','1951-2000','1950-1901','1851-1900','1801-1850','1751-1800'])\n",
    "plt.xtitle=('Time Frames')\n",
    "plt.ylabel=('CO2 Emissions in megatonnes')\n",
    "plt.title('Normalized CO2 Emissions over different periods of time',fontweight='bold')\n",
    "plt.show()"
   ]
  },
  {
   "cell_type": "code",
   "execution_count": null,
   "metadata": {
    "papermill": {
     "duration": 0.065769,
     "end_time": "2020-10-07T18:27:00.936329",
     "exception": false,
     "start_time": "2020-10-07T18:27:00.870560",
     "status": "completed"
    },
    "tags": []
   },
   "outputs": [],
   "source": []
  }
 ],
 "metadata": {
  "kernelspec": {
   "display_name": "Python 3",
   "language": "python",
   "name": "python3"
  },
  "language_info": {
   "codemirror_mode": {
    "name": "ipython",
    "version": 3
   },
   "file_extension": ".py",
   "mimetype": "text/x-python",
   "name": "python",
   "nbconvert_exporter": "python",
   "pygments_lexer": "ipython3",
   "version": "3.7.4"
  },
  "papermill": {
   "duration": 16.825448,
   "end_time": "2020-10-07T18:27:01.110120",
   "environment_variables": {},
   "exception": null,
   "input_path": "__notebook__.ipynb",
   "output_path": "__notebook__.ipynb",
   "parameters": {},
   "start_time": "2020-10-07T18:26:44.284672",
   "version": "2.1.0"
  }
 },
 "nbformat": 4,
 "nbformat_minor": 4
}
